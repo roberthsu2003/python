{
 "cells": [
  {
   "cell_type": "code",
   "execution_count": 1,
   "metadata": {},
   "outputs": [],
   "source": [
    "import random\n",
    "def get_score() -> list:\n",
    "    score = []\n",
    "    for i in range(5):\n",
    "        score.append(random.randint(50, 100))\n",
    "    return score\n",
    "\n",
    "def get_names(nums:int) -> list:\n",
    "    with open('names.txt',encoding='utf-8',newline='') as file:\n",
    "        names_str = file.read()\n",
    "        all_names_list = names_str.split(sep=\"\\n\")\n",
    "        names_list = random.choices(all_names_list,k=nums) #取出一定數量的姓名\n",
    "    return names_list"
   ]
  },
  {
   "cell_type": "code",
   "execution_count": 5,
   "metadata": {},
   "outputs": [
    {
     "data": {
      "text/plain": [
       "[['王泓泰', 86, 56, 72, 78, 72],\n",
       " ['童建霖', 79, 84, 68, 62, 99],\n",
       " ['方雅慧', 91, 98, 93, 62, 73],\n",
       " ['林瑞喬', 91, 74, 97, 80, 56],\n",
       " ['周家銘', 61, 53, 90, 55, 90],\n",
       " ['陳慧君', 67, 62, 97, 65, 86],\n",
       " ['陳嘉淑', 75, 91, 88, 61, 99],\n",
       " ['黃淑芬', 79, 77, 98, 91, 97],\n",
       " ['唐雪豪', 75, 86, 73, 52, 79],\n",
       " ['陳嘉淑', 62, 85, 50, 95, 70],\n",
       " ['邱亭君', 76, 63, 98, 52, 78],\n",
       " ['戚亨', 65, 54, 62, 95, 75],\n",
       " ['景歡燦', 66, 63, 95, 69, 78],\n",
       " ['黃旻林', 84, 50, 52, 99, 79],\n",
       " ['楊易政', 69, 69, 59, 88, 81],\n",
       " ['邱亭君', 53, 88, 84, 93, 93],\n",
       " ['楊少亮', 65, 57, 73, 91, 63],\n",
       " ['陳樂紫', 60, 72, 80, 65, 64],\n",
       " ['游詩亞', 82, 86, 68, 74, 61],\n",
       " ['柯韋成', 56, 89, 82, 81, 70],\n",
       " ['李政白', 62, 95, 76, 90, 58],\n",
       " ['龐皓芳', 82, 78, 97, 55, 88],\n",
       " ['孫宜珊', 56, 92, 91, 62, 52],\n",
       " ['陳建香', 79, 89, 71, 72, 98],\n",
       " ['陳逸華', 90, 67, 92, 86, 79],\n",
       " ['林建宏', 86, 87, 50, 70, 53],\n",
       " ['游一鈺', 79, 55, 74, 94, 94],\n",
       " ['楊易政', 52, 97, 88, 87, 85],\n",
       " ['盧冠發', 56, 90, 95, 72, 76],\n",
       " ['彭茹靖', 56, 89, 90, 68, 54],\n",
       " ['白世宏', 61, 87, 63, 79, 76],\n",
       " ['馮芳如', 60, 90, 72, 56, 60],\n",
       " ['王人仰', 67, 77, 94, 60, 84],\n",
       " ['林怡偉', 51, 79, 70, 72, 82],\n",
       " ['劉嘉泰', 77, 54, 80, 63, 100],\n",
       " ['朱惠儀', 100, 66, 82, 97, 50],\n",
       " ['林冠蕙', 94, 98, 64, 50, 59],\n",
       " ['張慧君', 74, 76, 58, 86, 55],\n",
       " ['林怡偉', 61, 89, 55, 93, 67],\n",
       " ['李佳彥', 82, 86, 94, 87, 90],\n",
       " ['吳昕婷', 68, 84, 86, 67, 83],\n",
       " ['王柏聖', 95, 60, 76, 63, 93],\n",
       " ['林怡偉', 95, 51, 81, 81, 76],\n",
       " ['葉志峰', 72, 100, 89, 59, 59],\n",
       " ['鞠冠宇', 72, 89, 56, 53, 97],\n",
       " ['王怡珊', 95, 94, 62, 76, 56],\n",
       " ['馬彥文', 61, 94, 67, 72, 56],\n",
       " ['林瑞喬', 79, 63, 89, 92, 53],\n",
       " ['趙家豪', 89, 76, 60, 95, 94],\n",
       " ['陳逸華', 68, 54, 70, 61, 71]]"
      ]
     },
     "execution_count": 5,
     "metadata": {},
     "output_type": "execute_result"
    }
   ],
   "source": [
    "nums_int = int(input(\"請輸入學生數:\"))\n",
    "#取得nums_int個姓名\n",
    "names_list = get_names(nums_int)\n",
    "students = []\n",
    "for i in range(nums_int):\n",
    "    scores = get_score()\n",
    "    new_list = [names_list[i]] + scores\n",
    "    students.append(new_list)\n",
    "students"
   ]
  },
  {
   "cell_type": "code",
   "execution_count": 7,
   "metadata": {},
   "outputs": [
    {
     "name": "stdout",
     "output_type": "stream",
     "text": [
      "存檔成功\n"
     ]
    }
   ],
   "source": [
    "import csv\n",
    "#將2維list儲存為csv檔\n",
    "fileName = input(\"請輸入檔案名:(csv)\")\n",
    "with open(f'{fileName}.csv',mode='w',encoding='utf-8', newline='') as file:\n",
    "    csv_writer = csv.writer(file)\n",
    "    csv_writer.writerow(['姓名', '國文', '英文', '數學', '地理', '歷史'])\n",
    "    csv_writer.writerows(students)\n",
    "\n",
    "print(\"存檔成功\")"
   ]
  }
 ],
 "metadata": {
  "kernelspec": {
   "display_name": "Python 3",
   "language": "python",
   "name": "python3"
  },
  "language_info": {
   "codemirror_mode": {
    "name": "ipython",
    "version": 3
   },
   "file_extension": ".py",
   "mimetype": "text/x-python",
   "name": "python",
   "nbconvert_exporter": "python",
   "pygments_lexer": "ipython3",
   "version": "3.10.12"
  },
  "orig_nbformat": 4
 },
 "nbformat": 4,
 "nbformat_minor": 2
}
