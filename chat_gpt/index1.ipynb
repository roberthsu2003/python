{
 "cells": [
  {
   "cell_type": "code",
   "execution_count": 1,
   "metadata": {},
   "outputs": [
    {
     "name": "stdout",
     "output_type": "stream",
     "text": [
      "{'error': {'message': 'You exceeded your current quota, please check your plan and billing details.', 'type': 'insufficient_quota', 'param': None, 'code': 'insufficient_quota'}}\n"
     ]
    }
   ],
   "source": [
    "# 1. 使用request模組來串接API\n",
    "import requests\n",
    "import keys\n",
    "\n",
    "api_key = keys.key\n",
    "prompt = '請問如何學習python'\n",
    "\n",
    "response = requests.post(\n",
    "    'https://api.openai.com/v1/chat/completions',\n",
    "    headers = {\n",
    "        'Content-Type': 'application/json',\n",
    "        'Authorization': f'Bearer {api_key}'\n",
    "    },\n",
    "    json = {\n",
    "        'model': 'gpt-3.5-turbo', # 一定要用chat可以用的模型\n",
    "        'messages' : [{\"role\": \"user\", \"content\": prompt}]\n",
    "    })\n",
    "\n",
    "#使用json解析\n",
    "json = response.json()\n",
    "print(json)"
   ]
  },
  {
   "cell_type": "code",
   "execution_count": 2,
   "metadata": {},
   "outputs": [
    {
     "name": "stdout",
     "output_type": "stream",
     "text": [
      "{'error': {'message': 'You exceeded your current quota, please check your plan and billing details.', 'type': 'insufficient_quota', 'param': None, 'code': 'insufficient_quota'}}\n"
     ]
    }
   ],
   "source": [
    "# 1. 使用request模組來串接API\n",
    "import requests\n",
    "import keys\n",
    "api_key = keys.key\n",
    "prompt = \"如何學習python?\"\n",
    "\n",
    "response = requests.post(\n",
    "    'https://api.openai.com/v1/completions',\n",
    "    headers = {\n",
    "        'Content-Type': 'application/json',\n",
    "        'Authorization': f'Bearer {api_key}'\n",
    "    },\n",
    "    json = {\n",
    "        'model': 'text-davinci-003',\n",
    "        'prompt': prompt,\n",
    "        'temperature': 0.4,\n",
    "        'max_tokens': 300\n",
    "    })\n",
    "\n",
    "#使用json解析\n",
    "json = response.json()\n",
    "print(json)"
   ]
  }
 ],
 "metadata": {
  "kernelspec": {
   "display_name": "venv",
   "language": "python",
   "name": "python3"
  },
  "language_info": {
   "codemirror_mode": {
    "name": "ipython",
    "version": 3
   },
   "file_extension": ".py",
   "mimetype": "text/x-python",
   "name": "python",
   "nbconvert_exporter": "python",
   "pygments_lexer": "ipython3",
   "version": "3.10.8"
  }
 },
 "nbformat": 4,
 "nbformat_minor": 2
}
