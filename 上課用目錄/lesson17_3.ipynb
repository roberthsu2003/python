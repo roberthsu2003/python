{
 "cells": [
  {
   "cell_type": "code",
   "execution_count": null,
   "metadata": {},
   "outputs": [],
   "source": [
    "#政府開放平台 各鄉鎮市區人口密度\n",
    "url = 'https://cdn.odportal.tw/api/v1/resource/KducT_eD/619a01d29cc8d00023f7e552'"
   ]
  }
 ],
 "metadata": {
  "language_info": {
   "name": "python"
  }
 },
 "nbformat": 4,
 "nbformat_minor": 2
}
