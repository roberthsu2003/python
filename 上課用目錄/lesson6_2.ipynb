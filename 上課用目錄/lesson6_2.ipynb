{
 "cells": [
  {
   "cell_type": "code",
   "execution_count": 6,
   "metadata": {},
   "outputs": [
    {
     "name": "stdout",
     "output_type": "stream",
     "text": [
      "==============猜數字遊戲==================\n",
      "\n",
      "猜數字的範圍:20~30\n",
      "26\n"
     ]
    }
   ],
   "source": [
    "import random\n",
    "\n",
    "min = 20\n",
    "max = 30\n",
    "target = random.randint(min,max)\n",
    "print(\"==============猜數字遊戲==================\\n\")\n",
    "print(f\"猜數字的範圍:{min}~{max}\")\n",
    "print(target)"
   ]
  }
 ],
 "metadata": {
  "kernelspec": {
   "display_name": "Python 3",
   "language": "python",
   "name": "python3"
  },
  "language_info": {
   "codemirror_mode": {
    "name": "ipython",
    "version": 3
   },
   "file_extension": ".py",
   "mimetype": "text/x-python",
   "name": "python",
   "nbconvert_exporter": "python",
   "pygments_lexer": "ipython3",
   "version": "3.10.12"
  },
  "orig_nbformat": 4
 },
 "nbformat": 4,
 "nbformat_minor": 2
}
