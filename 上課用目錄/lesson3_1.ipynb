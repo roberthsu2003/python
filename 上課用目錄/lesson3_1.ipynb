{
 "cells": [
  {
   "cell_type": "code",
   "execution_count": 4,
   "metadata": {},
   "outputs": [
    {
     "name": "stdout",
     "output_type": "stream",
     "text": [
      "對邊:2.5,斜邊:5.0\n",
      "弳度是:0.524\n"
     ]
    }
   ],
   "source": [
    "#讓使用者輸入直角三角形的對邊\n",
    "#讓使用者輸入直角三角形的斜邊\n",
    "#計算角度\n",
    "\n",
    "import math\n",
    "\n",
    "side = float(input('請輸入對邊:'))\n",
    "another_side = float(input('請輸入斜邊:'))\n",
    "radian = math.asin(side / another_side)\n",
    "print(f'對邊:{side},斜邊:{another_side}')\n",
    "print(f'弳度是:{radian:.3f}')"
   ]
  }
 ],
 "metadata": {
  "kernelspec": {
   "display_name": "Python 3",
   "language": "python",
   "name": "python3"
  },
  "language_info": {
   "codemirror_mode": {
    "name": "ipython",
    "version": 3
   },
   "file_extension": ".py",
   "mimetype": "text/x-python",
   "name": "python",
   "nbconvert_exporter": "python",
   "pygments_lexer": "ipython3",
   "version": "3.10.12"
  },
  "orig_nbformat": 4
 },
 "nbformat": 4,
 "nbformat_minor": 2
}
