{
 "cells": [
  {
   "cell_type": "code",
   "execution_count": 1,
   "metadata": {},
   "outputs": [
    {
     "name": "stdout",
     "output_type": "stream",
     "text": [
      "1\n",
      "2\n",
      "3\n",
      "4\n",
      "5\n",
      "while結束\n"
     ]
    }
   ],
   "source": [
    "#明確知道執行的次數\n",
    "count = 1\n",
    "while count < 6:\n",
    "    print(count)\n",
    "    count += 1\n",
    "print(\"while結束\")"
   ]
  },
  {
   "cell_type": "code",
   "execution_count": 2,
   "metadata": {},
   "outputs": [
    {
     "name": "stdout",
     "output_type": "stream",
     "text": [
      "恭喜!已經存夠了，存了6個月,總存款為:36275元\n"
     ]
    }
   ],
   "source": [
    "#不明確知道執行的次數\n",
    "#小明想要存錢買一輛機車,機車每輛30000元，他將每月存的錢輸入，當存款足夠買機車時，就顯示提示訊息告知。\n",
    "deposit = 0\n",
    "month = 0\n",
    "while(deposit < 30000):\n",
    "    month += 1\n",
    "    input_value = int(input(f\"請輸入第{month}個月份的存款:\"))\n",
    "    deposit += input_value\n",
    "\n",
    "print(f\"恭喜!已經存夠了，存了{month}個月,總存款為:{deposit}元\")"
   ]
  },
  {
   "cell_type": "code",
   "execution_count": 5,
   "metadata": {},
   "outputs": [
    {
     "name": "stdout",
     "output_type": "stream",
     "text": [
      "3的平方是:9\n",
      "5的平方是:25\n",
      "9的平方是:81\n",
      "11的平方是:121\n",
      "程式結束\n"
     ]
    }
   ],
   "source": [
    "#要求使用者輸入值\n",
    "#奇數輸出平方\n",
    "#偶數不做任何動作\n",
    "#'q'離開\n",
    "while True:\n",
    "    value = input(\"請輸入整數,輸入[q]離開: \")\n",
    "    if value == 'q':\n",
    "        break\n",
    "    number = int(value)\n",
    "    if number % 2 == 1:\n",
    "        print(f\"{number}的平方是:{number**2}\")\n",
    "print(\"程式結束\")"
   ]
  }
 ],
 "metadata": {
  "kernelspec": {
   "display_name": "Python 3",
   "language": "python",
   "name": "python3"
  },
  "language_info": {
   "codemirror_mode": {
    "name": "ipython",
    "version": 3
   },
   "file_extension": ".py",
   "mimetype": "text/x-python",
   "name": "python",
   "nbconvert_exporter": "python",
   "pygments_lexer": "ipython3",
   "version": "3.10.12"
  },
  "orig_nbformat": 4
 },
 "nbformat": 4,
 "nbformat_minor": 2
}
