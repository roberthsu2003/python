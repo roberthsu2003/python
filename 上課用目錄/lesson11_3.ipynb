{
 "cells": [
  {
   "cell_type": "code",
   "execution_count": 8,
   "metadata": {},
   "outputs": [],
   "source": [
    "class Student:\n",
    "    def __init__(self,name:str,ch:int,eng:int,math:int,geo:int,his:int):\n",
    "        self.姓名 = name\n",
    "        self.國文 = ch\n",
    "        self.英文 = eng\n",
    "        self.數學 = math\n",
    "        self.地理 = geo\n",
    "        self.歷史 = his\n",
    "\n",
    "    def __repr__(self) -> str:\n",
    "        return f'{self.姓名}的實體'"
   ]
  },
  {
   "cell_type": "code",
   "execution_count": 9,
   "metadata": {},
   "outputs": [
    {
     "data": {
      "text/plain": [
       "[葉志峰的實體,\n",
       " 彭茹靖的實體,\n",
       " 吳志宣的實體,\n",
       " 黃詩妃的實體,\n",
       " 陳向愛的實體,\n",
       " 張凱妮的實體,\n",
       " 張嘉韋的實體,\n",
       " 黃嘉琪的實體,\n",
       " 郭淑真的實體,\n",
       " 林佳光的實體,\n",
       " 高智超的實體,\n",
       " 張牧聿的實體,\n",
       " 溫重意的實體,\n",
       " 馬彥文的實體,\n",
       " 黃健發的實體,\n",
       " 陳淑娟的實體,\n",
       " 謝貞妃的實體,\n",
       " 李慶亮的實體,\n",
       " 吳淑惠的實體,\n",
       " 楊綺芬的實體,\n",
       " 張俊傑的實體,\n",
       " 林珍旺的實體,\n",
       " 郎慧萍的實體,\n",
       " 趙偉銘的實體,\n",
       " 游倫城的實體,\n",
       " 吳麗卿的實體,\n",
       " 艾巧夫的實體,\n",
       " 王泓泰的實體,\n",
       " 鄭奇翰的實體,\n",
       " 戴萱能的實體,\n",
       " 程玫靖的實體,\n",
       " 謝哲維的實體,\n",
       " 張伊映的實體,\n",
       " 吳欣書的實體,\n",
       " 藍哲嘉的實體,\n",
       " 林向鈺的實體,\n",
       " 陳淑娟的實體,\n",
       " 王雅慧的實體,\n",
       " 劉嘉泰的實體,\n",
       " 陳倩妮的實體,\n",
       " 藍哲嘉的實體,\n",
       " 呂傑宣的實體,\n",
       " 鍾俞禎的實體,\n",
       " 溫重意的實體,\n",
       " 鄭奇翰的實體,\n",
       " 魏秋萍的實體,\n",
       " 魏秋萍的實體,\n",
       " 李政成的實體,\n",
       " 張明惟的實體,\n",
       " 王雅慧的實體]"
      ]
     },
     "execution_count": 9,
     "metadata": {},
     "output_type": "execute_result"
    }
   ],
   "source": [
    "import csv\n",
    "with open(\"學生成績表1.csv\",encoding=\"utf-8\",newline='') as file:\n",
    "    dict_reader = csv.DictReader(file)\n",
    "    students = []\n",
    "    for student in dict_reader:\n",
    "        chinese = int(student['國文'])\n",
    "        english = int(student['英文'])\n",
    "        math = int(student['數學'])\n",
    "        geographic = int(student['地理'])\n",
    "        history = int(student['歷史'])\n",
    "        student = Student(student['姓名'],\n",
    "                ch=chinese,\n",
    "                eng=english,\n",
    "                math=math,\n",
    "                geo=geographic,\n",
    "                his=history)\n",
    "        students.append(student)\n",
    "        \n",
    "students"
   ]
  }
 ],
 "metadata": {
  "kernelspec": {
   "display_name": "Python 3",
   "language": "python",
   "name": "python3"
  },
  "language_info": {
   "codemirror_mode": {
    "name": "ipython",
    "version": 3
   },
   "file_extension": ".py",
   "mimetype": "text/x-python",
   "name": "python",
   "nbconvert_exporter": "python",
   "pygments_lexer": "ipython3",
   "version": "3.10.12"
  },
  "orig_nbformat": 4
 },
 "nbformat": 4,
 "nbformat_minor": 2
}
