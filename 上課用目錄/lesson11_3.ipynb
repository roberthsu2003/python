{
 "cells": [
  {
   "cell_type": "code",
   "execution_count": 3,
   "metadata": {},
   "outputs": [],
   "source": [
    "class Student:\n",
    "    def __init__(self,name:str,ch:int,eng:int,math:int,geo:int,his:int):\n",
    "        self.姓名 = name\n",
    "        self.國文 = ch\n",
    "        self.英文 = eng\n",
    "        self.數學 = math\n",
    "        self.地理 = geo\n",
    "        self.歷史 = his"
   ]
  },
  {
   "cell_type": "code",
   "execution_count": 5,
   "metadata": {},
   "outputs": [
    {
     "data": {
      "text/plain": [
       "[<__main__.Student at 0x7f78782ae620>,\n",
       " <__main__.Student at 0x7f78782ae5f0>,\n",
       " <__main__.Student at 0x7f78782ac850>,\n",
       " <__main__.Student at 0x7f78782ac7c0>,\n",
       " <__main__.Student at 0x7f7870794a90>,\n",
       " <__main__.Student at 0x7f78781a4940>,\n",
       " <__main__.Student at 0x7f78781a4a30>,\n",
       " <__main__.Student at 0x7f78781a4a00>,\n",
       " <__main__.Student at 0x7f78781a3d90>,\n",
       " <__main__.Student at 0x7f78781a3dc0>,\n",
       " <__main__.Student at 0x7f78781a3850>,\n",
       " <__main__.Student at 0x7f78781a3e50>,\n",
       " <__main__.Student at 0x7f78781a14b0>,\n",
       " <__main__.Student at 0x7f78781a0880>,\n",
       " <__main__.Student at 0x7f7870722e90>,\n",
       " <__main__.Student at 0x7f7879c17af0>,\n",
       " <__main__.Student at 0x7f7879c17550>,\n",
       " <__main__.Student at 0x7f7879c17790>,\n",
       " <__main__.Student at 0x7f7879c17d00>,\n",
       " <__main__.Student at 0x7f7879c15840>,\n",
       " <__main__.Student at 0x7f7879c16c20>,\n",
       " <__main__.Student at 0x7f7879c152d0>,\n",
       " <__main__.Student at 0x7f7879c16a70>,\n",
       " <__main__.Student at 0x7f7879c17520>,\n",
       " <__main__.Student at 0x7f7879c16aa0>,\n",
       " <__main__.Student at 0x7f7879c16bf0>,\n",
       " <__main__.Student at 0x7f7879c17ca0>,\n",
       " <__main__.Student at 0x7f7879c175e0>,\n",
       " <__main__.Student at 0x7f7879c157b0>,\n",
       " <__main__.Student at 0x7f7879c17dc0>,\n",
       " <__main__.Student at 0x7f7879c17a90>,\n",
       " <__main__.Student at 0x7f7879c17460>,\n",
       " <__main__.Student at 0x7f7879c172b0>,\n",
       " <__main__.Student at 0x7f7879c16950>,\n",
       " <__main__.Student at 0x7f7879c169e0>,\n",
       " <__main__.Student at 0x7f7879c17970>,\n",
       " <__main__.Student at 0x7f7879c16ef0>,\n",
       " <__main__.Student at 0x7f7879c14e50>,\n",
       " <__main__.Student at 0x7f7879c16f20>,\n",
       " <__main__.Student at 0x7f7879c172e0>,\n",
       " <__main__.Student at 0x7f7879c17880>,\n",
       " <__main__.Student at 0x7f7879c150f0>,\n",
       " <__main__.Student at 0x7f7879c17e20>,\n",
       " <__main__.Student at 0x7f7879c17370>,\n",
       " <__main__.Student at 0x7f7879c17f10>,\n",
       " <__main__.Student at 0x7f7879c16860>,\n",
       " <__main__.Student at 0x7f7879c15ae0>,\n",
       " <__main__.Student at 0x7f7879c17d30>,\n",
       " <__main__.Student at 0x7f7879c165f0>,\n",
       " <__main__.Student at 0x7f7879c16830>]"
      ]
     },
     "execution_count": 5,
     "metadata": {},
     "output_type": "execute_result"
    }
   ],
   "source": [
    "import csv\n",
    "with open(\"學生成績表1.csv\",encoding=\"utf-8\",newline='') as file:\n",
    "    dict_reader = csv.DictReader(file)\n",
    "    students = []\n",
    "    for student in dict_reader:\n",
    "        chinese = int(student['國文'])\n",
    "        english = int(student['英文'])\n",
    "        math = int(student['數學'])\n",
    "        geographic = int(student['地理'])\n",
    "        history = int(student['歷史'])\n",
    "        student = Student(student['姓名'],\n",
    "                ch=chinese,\n",
    "                eng=english,\n",
    "                math=math,\n",
    "                geo=geographic,\n",
    "                his=history)\n",
    "        students.append(student)\n",
    "        \n",
    "students"
   ]
  }
 ],
 "metadata": {
  "kernelspec": {
   "display_name": "Python 3",
   "language": "python",
   "name": "python3"
  },
  "language_info": {
   "codemirror_mode": {
    "name": "ipython",
    "version": 3
   },
   "file_extension": ".py",
   "mimetype": "text/x-python",
   "name": "python",
   "nbconvert_exporter": "python",
   "pygments_lexer": "ipython3",
   "version": "3.10.12"
  },
  "orig_nbformat": 4
 },
 "nbformat": 4,
 "nbformat_minor": 2
}
