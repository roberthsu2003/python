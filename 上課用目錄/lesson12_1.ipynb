{
 "cells": [
  {
   "cell_type": "code",
   "execution_count": 3,
   "metadata": {},
   "outputs": [
    {
     "name": "stdout",
     "output_type": "stream",
     "text": [
      "<class 'str'>\n"
     ]
    },
    {
     "data": {
      "text/plain": [
       "'Robert'"
      ]
     },
     "execution_count": 3,
     "metadata": {},
     "output_type": "execute_result"
    }
   ],
   "source": [
    "name = 'robert'\n",
    "\n",
    "print(type(name))\n",
    "#str的實體方法,capitalize()\n",
    "name.capitalize()"
   ]
  },
  {
   "cell_type": "code",
   "execution_count": null,
   "metadata": {},
   "outputs": [],
   "source": [
    "words = 'That is Alice\\'s cats.'\n",
    "words = \"That is Alice's cats.\""
   ]
  },
  {
   "cell_type": "code",
   "execution_count": 6,
   "metadata": {},
   "outputs": [
    {
     "name": "stdout",
     "output_type": "stream",
     "text": [
      "That is Alice\\'s cats.\n"
     ]
    }
   ],
   "source": [
    "words = r'That is Alice\\'s cats.'\n",
    "print(words)"
   ]
  },
  {
   "cell_type": "code",
   "execution_count": 7,
   "metadata": {},
   "outputs": [
    {
     "name": "stdout",
     "output_type": "stream",
     "text": [
      "Dear Alice,Eve's cat has been arrested for catnapping,cat burglary, and extortion.Sincerely Bob\n"
     ]
    }
   ],
   "source": [
    "#單行文字\n",
    "sentences= \"Dear Alice,\\\n",
    "Eve's cat has been arrested for catnapping,\\\n",
    "cat burglary, and extortion.Sincerely Bob\"\n",
    "\n",
    "print(sentences)"
   ]
  },
  {
   "cell_type": "code",
   "execution_count": 9,
   "metadata": {},
   "outputs": [
    {
     "name": "stdout",
     "output_type": "stream",
     "text": [
      "Dear Alice,\n",
      "\n",
      "Eve's cat has been arrested for catnapping,cat burglary,\n",
      "\n",
      " and extortion.Sincerely Bob\n"
     ]
    }
   ],
   "source": [
    "#多行文字\n",
    "sentences= \"Dear Alice,\\n\\nEve's cat has been arrested for catnapping,cat burglary,\\n\\n and extortion.Sincerely Bob\"\n",
    "print(sentences)"
   ]
  },
  {
   "cell_type": "code",
   "execution_count": 10,
   "metadata": {},
   "outputs": [
    {
     "name": "stdout",
     "output_type": "stream",
     "text": [
      "Dear Alice,\n",
      "\n",
      "Eve's cat has been arrested for catnapping,cat burglary,\n",
      "\n",
      " and extortion.Sincerely Bob\n"
     ]
    }
   ],
   "source": [
    "#多行文字\n",
    "sentences= '''Dear Alice,\n",
    "\n",
    "Eve's cat has been arrested for catnapping,cat burglary,\n",
    "\n",
    " and extortion.Sincerely Bob'''\n",
    "\n",
    "print(sentences)"
   ]
  }
 ],
 "metadata": {
  "kernelspec": {
   "display_name": "Python 3",
   "language": "python",
   "name": "python3"
  },
  "language_info": {
   "codemirror_mode": {
    "name": "ipython",
    "version": 3
   },
   "file_extension": ".py",
   "mimetype": "text/x-python",
   "name": "python",
   "nbconvert_exporter": "python",
   "pygments_lexer": "ipython3",
   "version": "3.10.12"
  },
  "orig_nbformat": 4
 },
 "nbformat": 4,
 "nbformat_minor": 2
}
