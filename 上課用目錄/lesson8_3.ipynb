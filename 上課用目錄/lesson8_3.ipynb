{
 "cells": [
  {
   "cell_type": "code",
   "execution_count": 1,
   "metadata": {},
   "outputs": [
    {
     "data": {
      "text/plain": [
       "[78, 92, 85, 64, 92]"
      ]
     },
     "execution_count": 1,
     "metadata": {},
     "output_type": "execute_result"
    }
   ],
   "source": [
    "stu1 = [78, 92, 85, 64, 92]\n",
    "stu1"
   ]
  },
  {
   "cell_type": "code",
   "execution_count": 6,
   "metadata": {},
   "outputs": [
    {
     "data": {
      "text/plain": [
       "[63, 85, 86, 54, 88]"
      ]
     },
     "execution_count": 6,
     "metadata": {},
     "output_type": "execute_result"
    }
   ],
   "source": [
    "import random\n",
    "\n",
    "stu2 = []\n",
    "for _ in range(5):\n",
    "    stu2.append(random.randint(50,100))\n",
    "stu2"
   ]
  },
  {
   "cell_type": "code",
   "execution_count": 9,
   "metadata": {},
   "outputs": [
    {
     "data": {
      "text/plain": [
       "[90, 93, 50, 61, 55]"
      ]
     },
     "execution_count": 9,
     "metadata": {},
     "output_type": "execute_result"
    }
   ],
   "source": [
    "import random\n",
    "\n",
    "def generate_stu():\n",
    "    scores = []\n",
    "    for _ in range(5):\n",
    "        scores.append(random.randint(50,100))\n",
    "    return scores\n",
    "\n",
    "generate_stu()"
   ]
  },
  {
   "cell_type": "code",
   "execution_count": 10,
   "metadata": {},
   "outputs": [
    {
     "data": {
      "text/plain": [
       "[[95, 62, 52, 85, 63],\n",
       " [69, 57, 83, 98, 66],\n",
       " [90, 92, 81, 62, 79],\n",
       " [57, 99, 83, 57, 69],\n",
       " [86, 58, 57, 85, 77],\n",
       " [57, 60, 87, 81, 91],\n",
       " [71, 73, 83, 77, 92],\n",
       " [54, 53, 98, 93, 77],\n",
       " [78, 53, 71, 52, 59],\n",
       " [53, 92, 92, 75, 63],\n",
       " [56, 90, 53, 64, 97],\n",
       " [67, 98, 80, 79, 81],\n",
       " [82, 94, 80, 72, 96],\n",
       " [98, 82, 82, 91, 52],\n",
       " [76, 99, 69, 81, 76],\n",
       " [100, 96, 66, 93, 89],\n",
       " [79, 64, 51, 53, 99],\n",
       " [94, 57, 77, 96, 63],\n",
       " [100, 90, 91, 96, 58],\n",
       " [77, 85, 95, 51, 73],\n",
       " [65, 85, 94, 75, 62],\n",
       " [92, 53, 95, 96, 83],\n",
       " [55, 79, 99, 98, 88],\n",
       " [87, 50, 93, 69, 81],\n",
       " [81, 71, 67, 62, 55],\n",
       " [94, 64, 92, 83, 58],\n",
       " [81, 86, 89, 96, 75],\n",
       " [61, 67, 72, 98, 70],\n",
       " [52, 68, 76, 99, 78],\n",
       " [70, 89, 71, 100, 88],\n",
       " [86, 62, 100, 53, 50],\n",
       " [71, 63, 90, 56, 80],\n",
       " [61, 94, 90, 55, 72],\n",
       " [71, 70, 91, 85, 55],\n",
       " [63, 61, 79, 51, 97],\n",
       " [60, 82, 53, 81, 59],\n",
       " [91, 73, 82, 87, 72],\n",
       " [57, 78, 67, 74, 55],\n",
       " [90, 85, 56, 87, 74],\n",
       " [59, 78, 74, 81, 77],\n",
       " [51, 65, 55, 76, 53],\n",
       " [73, 59, 70, 77, 61],\n",
       " [66, 87, 98, 88, 81],\n",
       " [94, 93, 71, 66, 56],\n",
       " [86, 99, 71, 94, 100],\n",
       " [82, 64, 91, 72, 92],\n",
       " [71, 90, 50, 91, 87],\n",
       " [88, 73, 77, 51, 78],\n",
       " [66, 80, 67, 85, 84],\n",
       " [73, 84, 63, 71, 61]]"
      ]
     },
     "execution_count": 10,
     "metadata": {},
     "output_type": "execute_result"
    }
   ],
   "source": [
    "#建立50個學生\n",
    "students = []\n",
    "for _ in range(50):\n",
    "    scores =  generate_stu()\n",
    "    students.append(scores)\n",
    "    \n",
    "students"
   ]
  }
 ],
 "metadata": {
  "kernelspec": {
   "display_name": "Python 3",
   "language": "python",
   "name": "python3"
  },
  "language_info": {
   "codemirror_mode": {
    "name": "ipython",
    "version": 3
   },
   "file_extension": ".py",
   "mimetype": "text/x-python",
   "name": "python",
   "nbconvert_exporter": "python",
   "pygments_lexer": "ipython3",
   "version": "3.10.12"
  },
  "orig_nbformat": 4
 },
 "nbformat": 4,
 "nbformat_minor": 2
}
