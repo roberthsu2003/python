{
 "cells": [
  {
   "cell_type": "code",
   "execution_count": 1,
   "metadata": {},
   "outputs": [
    {
     "data": {
      "text/plain": [
       "[78, 92, 85, 64, 92]"
      ]
     },
     "execution_count": 1,
     "metadata": {},
     "output_type": "execute_result"
    }
   ],
   "source": [
    "stu1 = [78, 92, 85, 64, 92]\n",
    "stu1"
   ]
  },
  {
   "cell_type": "code",
   "execution_count": 6,
   "metadata": {},
   "outputs": [
    {
     "data": {
      "text/plain": [
       "[63, 85, 86, 54, 88]"
      ]
     },
     "execution_count": 6,
     "metadata": {},
     "output_type": "execute_result"
    }
   ],
   "source": [
    "import random\n",
    "\n",
    "stu2 = []\n",
    "for _ in range(5):\n",
    "    stu2.append(random.randint(50,100))\n",
    "stu2"
   ]
  },
  {
   "cell_type": "code",
   "execution_count": 9,
   "metadata": {},
   "outputs": [
    {
     "data": {
      "text/plain": [
       "[90, 93, 50, 61, 55]"
      ]
     },
     "execution_count": 9,
     "metadata": {},
     "output_type": "execute_result"
    }
   ],
   "source": [
    "import random\n",
    "\n",
    "def generate_stu():\n",
    "    scores = []\n",
    "    for _ in range(5):\n",
    "        scores.append(random.randint(50,100))\n",
    "    return scores\n",
    "\n",
    "generate_stu()"
   ]
  },
  {
   "cell_type": "code",
   "execution_count": 16,
   "metadata": {},
   "outputs": [
    {
     "name": "stdout",
     "output_type": "stream",
     "text": [
      "[[88, 83, 66, 78, 74], [76, 77, 72, 72, 68], [87, 97, 81, 65, 75], [51, 64, 70, 71, 66], [60, 98, 91, 96, 53], [93, 89, 60, 80, 76], [71, 73, 90, 57, 97], [81, 74, 54, 95, 54], [53, 56, 54, 100, 71], [69, 52, 78, 58, 58], [80, 75, 99, 57, 67], [76, 88, 99, 77, 64], [74, 53, 81, 54, 87], [100, 71, 73, 65, 83], [86, 62, 96, 61, 66]]\n"
     ]
    }
   ],
   "source": [
    "#建立50個學生\n",
    "try:\n",
    "    num = int(input('請輸入學生的人數:'))\n",
    "except:\n",
    "    print(\"格式錯誤\")\n",
    "else:\n",
    "    students = []\n",
    "    for _ in range(num):\n",
    "        scores =  generate_stu()\n",
    "        students.append(scores)\n",
    "\n",
    "    print(students)"
   ]
  }
 ],
 "metadata": {
  "kernelspec": {
   "display_name": "Python 3",
   "language": "python",
   "name": "python3"
  },
  "language_info": {
   "codemirror_mode": {
    "name": "ipython",
    "version": 3
   },
   "file_extension": ".py",
   "mimetype": "text/x-python",
   "name": "python",
   "nbconvert_exporter": "python",
   "pygments_lexer": "ipython3",
   "version": "3.10.12"
  },
  "orig_nbformat": 4
 },
 "nbformat": 4,
 "nbformat_minor": 2
}
