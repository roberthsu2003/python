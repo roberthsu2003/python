{
 "cells": [
  {
   "cell_type": "code",
   "execution_count": 1,
   "metadata": {},
   "outputs": [
    {
     "data": {
      "text/plain": [
       "[78, 92, 85, 64, 92]"
      ]
     },
     "execution_count": 1,
     "metadata": {},
     "output_type": "execute_result"
    }
   ],
   "source": [
    "stu1 = [78, 92, 85, 64, 92]\n",
    "stu1"
   ]
  },
  {
   "cell_type": "code",
   "execution_count": 6,
   "metadata": {},
   "outputs": [
    {
     "data": {
      "text/plain": [
       "[63, 85, 86, 54, 88]"
      ]
     },
     "execution_count": 6,
     "metadata": {},
     "output_type": "execute_result"
    }
   ],
   "source": [
    "import random\n",
    "\n",
    "stu2 = []\n",
    "for _ in range(5):\n",
    "    stu2.append(random.randint(50,100))\n",
    "stu2"
   ]
  },
  {
   "cell_type": "code",
   "execution_count": 9,
   "metadata": {},
   "outputs": [
    {
     "data": {
      "text/plain": [
       "[90, 93, 50, 61, 55]"
      ]
     },
     "execution_count": 9,
     "metadata": {},
     "output_type": "execute_result"
    }
   ],
   "source": [
    "import random\n",
    "\n",
    "def generate_stu():\n",
    "    scores = []\n",
    "    for _ in range(5):\n",
    "        scores.append(random.randint(50,100))\n",
    "    return scores\n",
    "\n",
    "generate_stu()"
   ]
  },
  {
   "cell_type": "code",
   "execution_count": 19,
   "metadata": {},
   "outputs": [
    {
     "name": "stdout",
     "output_type": "stream",
     "text": [
      "[[56, 66, 57, 79, 52], [68, 63, 63, 71, 50], [51, 50, 92, 73, 55], [92, 100, 68, 55, 72], [63, 62, 94, 95, 80], [62, 64, 96, 54, 51], [68, 89, 82, 62, 57], [90, 61, 79, 77, 75], [76, 77, 71, 69, 96], [50, 51, 74, 78, 53]]\n"
     ]
    }
   ],
   "source": [
    "#建立50個學生\n",
    "while True:\n",
    "    try:\n",
    "        num = int(input('請輸入學生的人數:'))\n",
    "    except:\n",
    "        print(\"格式錯誤\")\n",
    "    else:\n",
    "        if not (num >= 5 and num <= 50):\n",
    "            continue\n",
    "        \n",
    "        students = []\n",
    "        for _ in range(num):\n",
    "            scores =  generate_stu()\n",
    "            students.append(scores)\n",
    "\n",
    "        print(students)\n",
    "        break"
   ]
  },
  {
   "cell_type": "code",
   "execution_count": 26,
   "metadata": {},
   "outputs": [
    {
     "name": "stdout",
     "output_type": "stream",
     "text": [
      "請輸入學生的人數:Number must be at maximum 50.\n",
      "請輸入學生的人數:Number must be at minimum 5.\n",
      "請輸入學生的人數:"
     ]
    },
    {
     "data": {
      "text/plain": [
       "[[79, 68, 77, 65, 83],\n",
       " [57, 64, 78, 53, 99],\n",
       " [88, 62, 75, 61, 79],\n",
       " [66, 64, 56, 56, 87],\n",
       " [61, 56, 63, 66, 99],\n",
       " [68, 57, 58, 97, 78],\n",
       " [94, 98, 97, 78, 85],\n",
       " [95, 89, 88, 85, 97],\n",
       " [73, 84, 87, 96, 59],\n",
       " [88, 75, 76, 85, 98],\n",
       " [70, 95, 80, 71, 95],\n",
       " [54, 77, 69, 84, 99],\n",
       " [73, 63, 88, 57, 86],\n",
       " [83, 83, 95, 64, 97],\n",
       " [77, 54, 71, 50, 79]]"
      ]
     },
     "execution_count": 26,
     "metadata": {},
     "output_type": "execute_result"
    }
   ],
   "source": [
    "import pyinputplus as pyip\n",
    "\n",
    "num = pyip.inputInt('請輸入學生的人數:',min=5,max=50)\n",
    "students = []\n",
    "for _ in range(num):\n",
    "    scores =  generate_stu()\n",
    "    students.append(scores)\n",
    "\n",
    "students"
   ]
  }
 ],
 "metadata": {
  "kernelspec": {
   "display_name": "Python 3",
   "language": "python",
   "name": "python3"
  },
  "language_info": {
   "codemirror_mode": {
    "name": "ipython",
    "version": 3
   },
   "file_extension": ".py",
   "mimetype": "text/x-python",
   "name": "python",
   "nbconvert_exporter": "python",
   "pygments_lexer": "ipython3",
   "version": "3.10.12"
  },
  "orig_nbformat": 4
 },
 "nbformat": 4,
 "nbformat_minor": 2
}
