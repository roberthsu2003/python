{
 "cells": [
  {
   "cell_type": "code",
   "execution_count": 2,
   "metadata": {},
   "outputs": [
    {
     "name": "stdout",
     "output_type": "stream",
     "text": [
      "請輸入手機號碼:(xxxx-xxx-xxx):您的手機號碼是:0926-123-456\n"
     ]
    }
   ],
   "source": [
    "#檢查台灣手機號碼輸入格式(xxxx-xxx-xxx)\n",
    "import pyinputplus as pyip\n",
    "\n",
    "def isPhoneNumber(phone:str) -> bool:\n",
    "    return True\n",
    "\n",
    "phone_str = pyip.inputStr(\"請輸入手機號碼:(xxxx-xxx-xxx):\")\n",
    "\n",
    "if isPhoneNumber(phone_str):\n",
    "    print(f\"您的手機號碼是:{phone_str}\")\n",
    "else:\n",
    "    print(\"格式錯誤\")\n"
   ]
  }
 ],
 "metadata": {
  "kernelspec": {
   "display_name": "Python 3",
   "language": "python",
   "name": "python3"
  },
  "language_info": {
   "codemirror_mode": {
    "name": "ipython",
    "version": 3
   },
   "file_extension": ".py",
   "mimetype": "text/x-python",
   "name": "python",
   "nbconvert_exporter": "python",
   "pygments_lexer": "ipython3",
   "version": "3.10.12"
  },
  "orig_nbformat": 4
 },
 "nbformat": 4,
 "nbformat_minor": 2
}
