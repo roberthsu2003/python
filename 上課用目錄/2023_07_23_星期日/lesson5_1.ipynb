{
 "cells": [
  {
   "cell_type": "code",
   "execution_count": 3,
   "metadata": {},
   "outputs": [
    {
     "name": "stdout",
     "output_type": "stream",
     "text": [
      "輸入的格式有問題!\n"
     ]
    }
   ],
   "source": [
    "try:\n",
    "    score = int(input(\"請輸入學生\\\n",
    "                            分數(最高300分):\"))\n",
    "    print(f'分數是{score}')\n",
    "except:\n",
    "    print(\"輸入的格式有問題!\")\n"
   ]
  },
  {
   "cell_type": "code",
   "execution_count": 10,
   "metadata": {},
   "outputs": [
    {
     "name": "stdout",
     "output_type": "stream",
     "text": [
      "第4層\n",
      "第3層\n",
      "第2層\n",
      "第1層\n",
      "學生等級是:丁\n"
     ]
    }
   ],
   "source": [
    "#下列為換算成績等級的程式碼，換算的規則如下：\n",
    "\n",
    "# 90(含)~100分為「優」\n",
    "# 80(含)~89分為「甲」\n",
    "# 70(含)~79分為「乙」\n",
    "# 60(含)~69分為「丙」\n",
    "# 0(含)~59分為「丁」\n",
    "\n",
    "score = int(input(\"請輸入學生分數0~100\"))\n",
    "grade = \"\"\n",
    "\n",
    "if score >= 90:\n",
    "    grade = '優'\n",
    "else:\n",
    "    if score >= 80:\n",
    "        grade = '甲'\n",
    "    else:\n",
    "        if score >= 70:\n",
    "            grade = '乙'\n",
    "        else:\n",
    "            if score >= 60:\n",
    "                grade = '丙'\n",
    "            else:\n",
    "                grade = '丁'\n",
    "                print(\"第4層\")\n",
    "            print(\"第3層\")\n",
    "        print(\"第2層\")\n",
    "    print(\"第1層\")\n",
    "\n",
    "print(f\"學生等級是:{grade}\")\n"
   ]
  },
  {
   "cell_type": "code",
   "execution_count": 13,
   "metadata": {},
   "outputs": [
    {
     "name": "stdout",
     "output_type": "stream",
     "text": [
      "第4層\n",
      "學生等級是:丁\n"
     ]
    }
   ],
   "source": [
    "#下列為換算成績等級的程式碼，換算的規則如下：\n",
    "\n",
    "# 90(含)~100分為「優」\n",
    "# 80(含)~89分為「甲」\n",
    "# 70(含)~79分為「乙」\n",
    "# 60(含)~69分為「丙」\n",
    "# 0(含)~59分為「丁」\n",
    "\n",
    "score = int(input(\"請輸入學生分數0~100\"))\n",
    "grade = \"\"\n",
    "\n",
    "#多項選擇\n",
    "if score >= 90:\n",
    "    grade = '優'\n",
    "elif score >= 80:    \n",
    "    grade = '甲'\n",
    "    print(\"第1層\")\n",
    "elif score >= 70:         \n",
    "    grade = '乙'\n",
    "    print(\"第2層\")\n",
    "elif score >= 60:\n",
    "    grade = '丙'\n",
    "    print(\"第3層\")\n",
    "else:\n",
    "    grade = '丁'\n",
    "    print(\"第4層\")\n",
    "\n",
    "print(f\"學生等級是:{grade}\")\n"
   ]
  },
  {
   "cell_type": "code",
   "execution_count": 18,
   "metadata": {},
   "outputs": [
    {
     "name": "stdout",
     "output_type": "stream",
     "text": [
      "root=0\n"
     ]
    }
   ],
   "source": [
    "# 如果x不是負數，則傳回值為 x ** (1 / y)。\n",
    "# 如果x是負數而且為偶數，則傳回值為0。\n",
    "# 如果x是負數而且為奇數，則傳回值為 -(-x) ** (1 / y)。\n",
    "\n",
    "x = int(input(\"請輸入x的整數:\"))\n",
    "y = int(input(\"請輸入y的整數(y不可以是0):\"))\n",
    "root = 0\n",
    "if x >= 0:\n",
    "    root = x ** (1/y)\n",
    "else:\n",
    "    if x % 2 == 0:\n",
    "        root = 0\n",
    "    else:\n",
    "       root = -(-x) ** (1 / y) \n",
    "\n",
    "print(f\"root={root}\")"
   ]
  },
  {
   "cell_type": "code",
   "execution_count": 19,
   "metadata": {},
   "outputs": [
    {
     "name": "stdout",
     "output_type": "stream",
     "text": [
      "root=0\n"
     ]
    }
   ],
   "source": [
    "# 如果x不是負數，則傳回值為 x ** (1 / y)。\n",
    "# 如果x是負數而且為偶數，則傳回值為0。\n",
    "# 如果x是負數而且為奇數，則傳回值為 -(-x) ** (1 / y)。\n",
    "\n",
    "x = int(input(\"請輸入x的整數:\"))\n",
    "y = int(input(\"請輸入y的整數(y不可以是0):\"))\n",
    "root = 0\n",
    "if x >= 0:\n",
    "    root = x ** (1/y)\n",
    "elif x % 2 == 0:    \n",
    "    root = 0\n",
    "else:\n",
    "    root = -(-x) ** (1 / y) \n",
    "\n",
    "print(f\"root={root}\")"
   ]
  },
  {
   "cell_type": "code",
   "execution_count": 21,
   "metadata": {},
   "outputs": [
    {
     "name": "stdout",
     "output_type": "stream",
     "text": [
      "格式錯誤\n"
     ]
    }
   ],
   "source": [
    "try:\n",
    "    x = int(input(\"請輸入x的整數:\"))\n",
    "    y = int(input(\"請輸入y的整數(y不可以是0):\"))\n",
    "    root = 0\n",
    "    if x >= 0:\n",
    "        root = x ** (1/y)\n",
    "    elif x % 2 == 0:    \n",
    "        root = 0\n",
    "    else:\n",
    "        root = -(-x) ** (1 / y) \n",
    "\n",
    "    print(f\"root={root}\")\n",
    "except:\n",
    "    print(\"格式錯誤\")"
   ]
  },
  {
   "cell_type": "code",
   "execution_count": 23,
   "metadata": {},
   "outputs": [
    {
     "name": "stdout",
     "output_type": "stream",
     "text": [
      "輸入y的格式錯誤\n"
     ]
    }
   ],
   "source": [
    "try:\n",
    "    x = int(input(\"請輸入x的整數:\"))    \n",
    "except:\n",
    "    print(\"輸入x的格式錯誤\")\n",
    "else:\n",
    "    try:\n",
    "        y = int(input(\"請輸入y的整數(y不可以是0):\"))\n",
    "        root = 0\n",
    "        if x >= 0:\n",
    "            root = x ** (1/y)\n",
    "        elif x % 2 == 0:    \n",
    "            root = 0\n",
    "        else:\n",
    "            root = -(-x) ** (1 / y) \n",
    "\n",
    "        print(f\"root={root}\")\n",
    "    except:\n",
    "        print(\"輸入y的格式錯誤\")\n"
   ]
  },
  {
   "cell_type": "code",
   "execution_count": 34,
   "metadata": {},
   "outputs": [
    {
     "name": "stdout",
     "output_type": "stream",
     "text": [
      "實付金額是:116543.0元\n"
     ]
    }
   ],
   "source": [
    "#輸入顧客購買金額，若金額在\n",
    "#100000元打8折. \n",
    "#50000打85折. \n",
    "#30000打9折. \n",
    "#10000打95折. \n",
    "\n",
    "#請輸入購買金額:130000\n",
    "#實付金額是: 104000.0 元\n",
    "import math\n",
    "\n",
    "money = int(input(\"請輸入購買金額:\"))\n",
    "pay_money = 0\n",
    "if money < 10000:\n",
    "    pay_money = money\n",
    "elif money < 30000:\n",
    "    pay_money = money * 0.95\n",
    "elif money < 50000:\n",
    "    pay_money = money * 0.9\n",
    "elif money < 100000:\n",
    "    pay_money = money * 0.85\n",
    "else:\n",
    "    pay_money = money * 0.8\n",
    "\n",
    "#print(f\"實付金額是:{pay_money:.0f}元\")\n",
    "#print(f\"實付金額是:{int(pay_money)}元\")\n",
    "#print(f\"實付金額是:{round(pay_money)}元\")\n",
    "print(f\"實付金額是:{math.ceil(pay_money):.1f}元\")"
   ]
  }
 ],
 "metadata": {
  "kernelspec": {
   "display_name": "Python 3",
   "language": "python",
   "name": "python3"
  },
  "language_info": {
   "codemirror_mode": {
    "name": "ipython",
    "version": 3
   },
   "file_extension": ".py",
   "mimetype": "text/x-python",
   "name": "python",
   "nbconvert_exporter": "python",
   "pygments_lexer": "ipython3",
   "version": "3.10.12"
  },
  "orig_nbformat": 4
 },
 "nbformat": 4,
 "nbformat_minor": 2
}
