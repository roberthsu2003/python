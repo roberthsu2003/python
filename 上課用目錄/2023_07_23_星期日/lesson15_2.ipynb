{
 "cells": [
  {
   "cell_type": "code",
   "execution_count": 4,
   "metadata": {},
   "outputs": [
    {
     "data": {
      "text/plain": [
       "[177,\n",
       " 144,\n",
       " 154,\n",
       " 164,\n",
       " 128,\n",
       " 142,\n",
       " 152,\n",
       " 163,\n",
       " 191,\n",
       " 175,\n",
       " 146,\n",
       " 154,\n",
       " 158,\n",
       " 166,\n",
       " 158,\n",
       " 187,\n",
       " 185,\n",
       " 149,\n",
       " 153,\n",
       " 162,\n",
       " 163,\n",
       " 174,\n",
       " 174,\n",
       " 173,\n",
       " 142,\n",
       " 163,\n",
       " 180,\n",
       " 143,\n",
       " 165,\n",
       " 162,\n",
       " 145,\n",
       " 134,\n",
       " 174,\n",
       " 150,\n",
       " 161,\n",
       " 141,\n",
       " 160,\n",
       " 155,\n",
       " 138,\n",
       " 150,\n",
       " 179,\n",
       " 144,\n",
       " 138,\n",
       " 161,\n",
       " 166,\n",
       " 173,\n",
       " 160,\n",
       " 138,\n",
       " 145,\n",
       " 159]"
      ]
     },
     "execution_count": 4,
     "metadata": {},
     "output_type": "execute_result"
    }
   ],
   "source": [
    "#list的運算,需要利用迴圈\n",
    "import random\n",
    "chinese = [random.randint(60, 100) for _ in range(50)]\n",
    "english = [random.randint(60, 100) for _ in range(50)]\n",
    "\n",
    "result = []\n",
    "for i in range(50):\n",
    "    total = chinese[i] + english[i]\n",
    "    result.append(total)\n",
    "\n",
    "result"
   ]
  },
  {
   "cell_type": "code",
   "execution_count": 10,
   "metadata": {},
   "outputs": [
    {
     "data": {
      "text/plain": [
       "array([151, 145, 130, 142, 158, 155, 129, 150, 162, 140, 179, 160, 140,\n",
       "       141, 137, 149, 152, 155, 161, 155, 159, 131, 170, 121, 126, 170,\n",
       "       161, 158, 178, 171, 170, 163, 138, 155, 140, 137, 133, 170, 129,\n",
       "       136, 159, 130, 156, 183, 145, 164, 188, 180, 188, 157])"
      ]
     },
     "execution_count": 10,
     "metadata": {},
     "output_type": "execute_result"
    }
   ],
   "source": [
    "#使用numpy,陣列運算\n",
    "\n",
    "import numpy as np\n",
    "chinese = np.random.randint(60, high=100, size=50)\n",
    "english = np.random.randint(60, high=100, size=50)\n",
    "result = chinese + english\n",
    "result\n"
   ]
  }
 ],
 "metadata": {
  "kernelspec": {
   "display_name": "Python 3",
   "language": "python",
   "name": "python3"
  },
  "language_info": {
   "codemirror_mode": {
    "name": "ipython",
    "version": 3
   },
   "file_extension": ".py",
   "mimetype": "text/x-python",
   "name": "python",
   "nbconvert_exporter": "python",
   "pygments_lexer": "ipython3",
   "version": "3.10.12"
  },
  "orig_nbformat": 4
 },
 "nbformat": 4,
 "nbformat_minor": 2
}
