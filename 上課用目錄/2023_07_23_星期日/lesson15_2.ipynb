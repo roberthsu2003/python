{
 "cells": [
  {
   "cell_type": "code",
   "execution_count": 4,
   "metadata": {},
   "outputs": [
    {
     "data": {
      "text/plain": [
       "[177,\n",
       " 144,\n",
       " 154,\n",
       " 164,\n",
       " 128,\n",
       " 142,\n",
       " 152,\n",
       " 163,\n",
       " 191,\n",
       " 175,\n",
       " 146,\n",
       " 154,\n",
       " 158,\n",
       " 166,\n",
       " 158,\n",
       " 187,\n",
       " 185,\n",
       " 149,\n",
       " 153,\n",
       " 162,\n",
       " 163,\n",
       " 174,\n",
       " 174,\n",
       " 173,\n",
       " 142,\n",
       " 163,\n",
       " 180,\n",
       " 143,\n",
       " 165,\n",
       " 162,\n",
       " 145,\n",
       " 134,\n",
       " 174,\n",
       " 150,\n",
       " 161,\n",
       " 141,\n",
       " 160,\n",
       " 155,\n",
       " 138,\n",
       " 150,\n",
       " 179,\n",
       " 144,\n",
       " 138,\n",
       " 161,\n",
       " 166,\n",
       " 173,\n",
       " 160,\n",
       " 138,\n",
       " 145,\n",
       " 159]"
      ]
     },
     "execution_count": 4,
     "metadata": {},
     "output_type": "execute_result"
    }
   ],
   "source": [
    "#list的運算,需要利用迴圈\n",
    "import random\n",
    "chinese = [random.randint(60, 100) for _ in range(50)]\n",
    "english = [random.randint(60, 100) for _ in range(50)]\n",
    "\n",
    "result = []\n",
    "for i in range(50):\n",
    "    total = chinese[i] + english[i]\n",
    "    result.append(total)\n",
    "\n",
    "result"
   ]
  },
  {
   "cell_type": "code",
   "execution_count": 10,
   "metadata": {},
   "outputs": [
    {
     "data": {
      "text/plain": [
       "array([151, 145, 130, 142, 158, 155, 129, 150, 162, 140, 179, 160, 140,\n",
       "       141, 137, 149, 152, 155, 161, 155, 159, 131, 170, 121, 126, 170,\n",
       "       161, 158, 178, 171, 170, 163, 138, 155, 140, 137, 133, 170, 129,\n",
       "       136, 159, 130, 156, 183, 145, 164, 188, 180, 188, 157])"
      ]
     },
     "execution_count": 10,
     "metadata": {},
     "output_type": "execute_result"
    }
   ],
   "source": [
    "#使用numpy,陣列運算\n",
    "\n",
    "import numpy as np\n",
    "chinese = np.random.randint(60, high=100, size=50)\n",
    "english = np.random.randint(60, high=100, size=50)\n",
    "result = chinese + english\n",
    "result\n"
   ]
  },
  {
   "cell_type": "code",
   "execution_count": 20,
   "metadata": {},
   "outputs": [
    {
     "name": "stdout",
     "output_type": "stream",
     "text": [
      "[[96 62 62 75 75]\n",
      " [89 68 71 81 81]\n",
      " [95 74 76 64 92]\n",
      " [97 69 64 98 82]\n",
      " [76 90 99 97 98]\n",
      " [66 97 72 97 60]\n",
      " [71 72 64 87 93]\n",
      " [83 93 84 62 77]\n",
      " [84 80 99 64 88]\n",
      " [97 86 70 70 66]\n",
      " [82 82 67 78 86]\n",
      " [60 64 84 79 93]\n",
      " [74 81 61 94 79]\n",
      " [97 80 89 98 78]\n",
      " [86 92 81 80 95]\n",
      " [95 81 66 61 74]\n",
      " [77 83 97 62 74]\n",
      " [65 80 82 60 81]\n",
      " [99 79 63 74 89]\n",
      " [69 89 90 82 95]\n",
      " [66 68 66 90 97]\n",
      " [90 87 83 97 71]\n",
      " [99 69 73 97 84]\n",
      " [90 64 60 60 89]\n",
      " [78 81 98 86 64]\n",
      " [83 80 92 78 82]\n",
      " [62 86 70 62 75]\n",
      " [80 96 89 96 75]\n",
      " [67 64 82 76 94]\n",
      " [60 91 95 70 77]\n",
      " [65 66 87 62 93]\n",
      " [99 69 81 91 76]\n",
      " [88 81 99 92 74]\n",
      " [69 87 84 92 79]\n",
      " [95 86 83 95 98]\n",
      " [97 78 91 75 77]\n",
      " [60 65 91 98 84]\n",
      " [84 71 75 80 80]\n",
      " [97 72 80 75 82]\n",
      " [60 60 86 97 74]\n",
      " [63 99 81 65 84]\n",
      " [74 70 60 96 60]\n",
      " [71 94 81 80 97]\n",
      " [82 87 85 93 90]\n",
      " [98 61 92 88 77]\n",
      " [85 78 87 72 71]\n",
      " [92 62 61 76 66]\n",
      " [92 92 90 99 78]\n",
      " [68 63 89 65 93]\n",
      " [63 79 88 77 87]]\n",
      "[370 390 401 410 460 392 387 399 415 389 395 380 389 442 434 377 393 368\n",
      " 404 425 387 428 422 363 407 415 355 436 383 393 373 416 434 411 457 418\n",
      " 398 390 406 377 392 360 423 437 416 393 357 451 378 394]\n",
      "============\n",
      "[74.  78.  80.2 82.  92.  78.4 77.4 79.8 83.  77.8 79.  76.  77.8 88.4\n",
      " 86.8 75.4 78.6 73.6 80.8 85.  77.4 85.6 84.4 72.6 81.4 83.  71.  87.2\n",
      " 76.6 78.6 74.6 83.2 86.8 82.2 91.4 83.6 79.6 78.  81.2 75.4 78.4 72.\n",
      " 84.6 87.4 83.2 78.6 71.4 90.2 75.6 78.8]\n"
     ]
    }
   ],
   "source": [
    "#50個學生,5個分數\n",
    "import numpy as np\n",
    "\n",
    "students = np.random.randint(60,high=100,size=(50, 5)) #2維\n",
    "print(students)\n",
    "sum = np.sum(students,axis=1)\n",
    "average = np.average(students,axis=1)\n",
    "print(sum)\n",
    "print(\"============\")\n",
    "print(average)"
   ]
  },
  {
   "cell_type": "code",
   "execution_count": 26,
   "metadata": {},
   "outputs": [
    {
     "name": "stdout",
     "output_type": "stream",
     "text": [
      "[96 62 62 75 75]\n",
      "[89 68 71 81 81]\n",
      "[95 74 76 64 92]\n",
      "[97 69 64 98 82]\n",
      "[76 90 99 97 98]\n",
      "[66 97 72 97 60]\n",
      "[71 72 64 87 93]\n",
      "[83 93 84 62 77]\n",
      "[84 80 99 64 88]\n",
      "[97 86 70 70 66]\n",
      "[82 82 67 78 86]\n",
      "[60 64 84 79 93]\n",
      "[74 81 61 94 79]\n",
      "[97 80 89 98 78]\n",
      "[86 92 81 80 95]\n",
      "[95 81 66 61 74]\n",
      "[77 83 97 62 74]\n",
      "[65 80 82 60 81]\n",
      "[99 79 63 74 89]\n",
      "[69 89 90 82 95]\n",
      "[66 68 66 90 97]\n",
      "[90 87 83 97 71]\n",
      "[99 69 73 97 84]\n",
      "[90 64 60 60 89]\n",
      "[78 81 98 86 64]\n",
      "[83 80 92 78 82]\n",
      "[62 86 70 62 75]\n",
      "[80 96 89 96 75]\n",
      "[67 64 82 76 94]\n",
      "[60 91 95 70 77]\n",
      "[65 66 87 62 93]\n",
      "[99 69 81 91 76]\n",
      "[88 81 99 92 74]\n",
      "[69 87 84 92 79]\n",
      "[95 86 83 95 98]\n",
      "[97 78 91 75 77]\n",
      "[60 65 91 98 84]\n",
      "[84 71 75 80 80]\n",
      "[97 72 80 75 82]\n",
      "[60 60 86 97 74]\n",
      "[63 99 81 65 84]\n",
      "[74 70 60 96 60]\n",
      "[71 94 81 80 97]\n",
      "[82 87 85 93 90]\n",
      "[98 61 92 88 77]\n",
      "[85 78 87 72 71]\n",
      "[92 62 61 76 66]\n",
      "[92 92 90 99 78]\n",
      "[68 63 89 65 93]\n",
      "[63 79 88 77 87]\n"
     ]
    }
   ],
   "source": [
    "for i in range(50):\n",
    "    print(students[i])"
   ]
  },
  {
   "cell_type": "code",
   "execution_count": 30,
   "metadata": {},
   "outputs": [
    {
     "data": {
      "text/plain": [
       "(2, (50, 5), 250, dtype('int64'))"
      ]
     },
     "execution_count": 30,
     "metadata": {},
     "output_type": "execute_result"
    }
   ],
   "source": [
    "students.ndim , students.shape, students.size, students.dtype"
   ]
  },
  {
   "cell_type": "code",
   "execution_count": 31,
   "metadata": {},
   "outputs": [
    {
     "data": {
      "text/plain": [
       "array([[1, 2, 3],\n",
       "       [2, 3, 4]])"
      ]
     },
     "execution_count": 31,
     "metadata": {},
     "output_type": "execute_result"
    }
   ],
   "source": [
    "#建立ndarray\n",
    "#將list轉成ndarray\n",
    "list = [[1, 2, 3], [2, 3, 4]]\n",
    "np.array(list)"
   ]
  },
  {
   "cell_type": "code",
   "execution_count": 32,
   "metadata": {},
   "outputs": [
    {
     "data": {
      "text/plain": [
       "array([[ 0.60319114, -0.91482792, -0.05070519, -0.66747244],\n",
       "       [-1.3730949 , -0.33520666, -0.18913017,  0.2267546 ],\n",
       "       [ 1.45357908, -0.6274695 , -1.6193424 , -0.10181106]])"
      ]
     },
     "execution_count": 32,
     "metadata": {},
     "output_type": "execute_result"
    }
   ],
   "source": [
    "#使用numpy random\n",
    "np.random.randn(3,4)"
   ]
  },
  {
   "cell_type": "code",
   "execution_count": 34,
   "metadata": {},
   "outputs": [
    {
     "name": "stdout",
     "output_type": "stream",
     "text": [
      "[[0. 0. 0.]\n",
      " [0. 0. 0.]]\n"
     ]
    },
    {
     "data": {
      "text/plain": [
       "array([-3.        , -2.87755102, -2.75510204, -2.63265306, -2.51020408,\n",
       "       -2.3877551 , -2.26530612, -2.14285714, -2.02040816, -1.89795918,\n",
       "       -1.7755102 , -1.65306122, -1.53061224, -1.40816327, -1.28571429,\n",
       "       -1.16326531, -1.04081633, -0.91836735, -0.79591837, -0.67346939,\n",
       "       -0.55102041, -0.42857143, -0.30612245, -0.18367347, -0.06122449,\n",
       "        0.06122449,  0.18367347,  0.30612245,  0.42857143,  0.55102041,\n",
       "        0.67346939,  0.79591837,  0.91836735,  1.04081633,  1.16326531,\n",
       "        1.28571429,  1.40816327,  1.53061224,  1.65306122,  1.7755102 ,\n",
       "        1.89795918,  2.02040816,  2.14285714,  2.26530612,  2.3877551 ,\n",
       "        2.51020408,  2.63265306,  2.75510204,  2.87755102,  3.        ])"
      ]
     },
     "execution_count": 34,
     "metadata": {},
     "output_type": "execute_result"
    }
   ],
   "source": [
    "#做用numpy 內建的function\n",
    "print(np.zeros((2,3)))\n",
    "\n",
    "np.linspace(-3,3,num=50)"
   ]
  },
  {
   "cell_type": "code",
   "execution_count": 35,
   "metadata": {},
   "outputs": [
    {
     "data": {
      "text/plain": [
       "array([-3.        , -2.87755102, -2.75510204, -2.63265306, -2.51020408,\n",
       "       -2.3877551 , -2.26530612, -2.14285714, -2.02040816, -1.89795918,\n",
       "       -1.7755102 , -1.65306122, -1.53061224, -1.40816327, -1.28571429,\n",
       "       -1.16326531, -1.04081633, -0.91836735, -0.79591837, -0.67346939,\n",
       "       -0.55102041, -0.42857143, -0.30612245, -0.18367347, -0.06122449,\n",
       "        0.06122449,  0.18367347,  0.30612245,  0.42857143,  0.55102041,\n",
       "        0.67346939,  0.79591837,  0.91836735,  1.04081633,  1.16326531,\n",
       "        1.28571429,  1.40816327,  1.53061224,  1.65306122,  1.7755102 ,\n",
       "        1.89795918,  2.02040816,  2.14285714,  2.26530612,  2.3877551 ,\n",
       "        2.51020408,  2.63265306,  2.75510204,  2.87755102,  3.        ])"
      ]
     },
     "execution_count": 35,
     "metadata": {},
     "output_type": "execute_result"
    }
   ],
   "source": [
    "x = np.linspace(-3,3,num=50)\n",
    "x"
   ]
  },
  {
   "cell_type": "code",
   "execution_count": 37,
   "metadata": {},
   "outputs": [
    {
     "data": {
      "text/plain": [
       "array([9.00000000e+00, 8.28029988e+00, 7.59058726e+00, 6.93086214e+00,\n",
       "       6.30112453e+00, 5.70137443e+00, 5.13161183e+00, 4.59183673e+00,\n",
       "       4.08204915e+00, 3.60224906e+00, 3.15243648e+00, 2.73261141e+00,\n",
       "       2.34277384e+00, 1.98292378e+00, 1.65306122e+00, 1.35318617e+00,\n",
       "       1.08329863e+00, 8.43398584e-01, 6.33486047e-01, 4.53561016e-01,\n",
       "       3.03623490e-01, 1.83673469e-01, 9.37109538e-02, 3.37359434e-02,\n",
       "       3.74843815e-03, 3.74843815e-03, 3.37359434e-02, 9.37109538e-02,\n",
       "       1.83673469e-01, 3.03623490e-01, 4.53561016e-01, 6.33486047e-01,\n",
       "       8.43398584e-01, 1.08329863e+00, 1.35318617e+00, 1.65306122e+00,\n",
       "       1.98292378e+00, 2.34277384e+00, 2.73261141e+00, 3.15243648e+00,\n",
       "       3.60224906e+00, 4.08204915e+00, 4.59183673e+00, 5.13161183e+00,\n",
       "       5.70137443e+00, 6.30112453e+00, 6.93086214e+00, 7.59058726e+00,\n",
       "       8.28029988e+00, 9.00000000e+00])"
      ]
     },
     "execution_count": 37,
     "metadata": {},
     "output_type": "execute_result"
    }
   ],
   "source": [
    "y1 = 2 * x + 1\n",
    "y1\n",
    "\n",
    "y2 = x ** 2\n",
    "y2"
   ]
  },
  {
   "cell_type": "code",
   "execution_count": 39,
   "metadata": {},
   "outputs": [
    {
     "data": {
      "image/png": "[encoded data removed]",
      "text/plain": [
       "<Figure size 800x500 with 1 Axes>"
      ]
     },
     "metadata": {},
     "output_type": "display_data"
    }
   ],
   "source": [
    "import matplotlib.pyplot as plt\n",
    "figure = plt.figure(figsize=(8,5))\n",
    "axes = figure.add_subplot(1,1,1)\n",
    "axes.plot(x,y1,'r--')\n",
    "axes.plot(x,y2,'b--')\n",
    "plt.show()"
   ]
  },
  {
   "cell_type": "code",
   "execution_count": 46,
   "metadata": {},
   "outputs": [
    {
     "data": {
      "image/png": "[encoded data removed]",
      "text/plain": [
       "<Figure size 800x500 with 2 Axes>"
      ]
     },
     "metadata": {},
     "output_type": "display_data"
    }
   ],
   "source": [
    "t = np.arange(0,5,0.1)\n",
    "y1 = np.sin(2 * np.pi * t)\n",
    "y2 = np.cos(2 * np.pi * t)\n",
    "\n",
    "figure = plt.figure(figsize=(8,5))\n",
    "axes1 = figure.add_subplot(2,1,1)\n",
    "axes2 = figure.add_subplot(2,1,2)\n",
    "axes1.plot(t,y1,'r--')\n",
    "axes2.plot(t,y2,'b--')\n",
    "plt.show()\n"
   ]
  }
 ],
 "metadata": {
  "kernelspec": {
   "display_name": "Python 3",
   "language": "python",
   "name": "python3"
  },
  "language_info": {
   "codemirror_mode": {
    "name": "ipython",
    "version": 3
   },
   "file_extension": ".py",
   "mimetype": "text/x-python",
   "name": "python",
   "nbconvert_exporter": "python",
   "pygments_lexer": "ipython3",
   "version": "3.10.12"
  },
  "orig_nbformat": 4
 },
 "nbformat": 4,
 "nbformat_minor": 2
}
