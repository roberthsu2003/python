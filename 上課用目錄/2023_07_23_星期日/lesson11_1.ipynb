{
 "cells": [
  {
   "cell_type": "code",
   "execution_count": 2,
   "metadata": {},
   "outputs": [
    {
     "name": "stdout",
     "output_type": "stream",
     "text": [
      "[89, 79, 68, 92, 58]\n",
      "[98, 67, 75, 83, 71]\n",
      "[78, 97, 84, 73, 92]\n"
     ]
    }
   ],
   "source": [
    "score1 = [89, 79, 68, 92, 58]\n",
    "score2 = [98, 67, 75, 83, 71]\n",
    "score3 = [78, 97, 84, 73, 92]\n",
    "\n",
    "students = [score1, score2, score3] #建立\n",
    "for student in students: #取出第2維的資料\n",
    "    print(student)\n"
   ]
  },
  {
   "cell_type": "code",
   "execution_count": 11,
   "metadata": {},
   "outputs": [
    {
     "data": {
      "text/plain": [
       "[74, 52, 87, 51, 54]"
      ]
     },
     "execution_count": 11,
     "metadata": {},
     "output_type": "execute_result"
    }
   ],
   "source": [
    "import random\n",
    "score = []\n",
    "for _ in range(5):    \n",
    "    score.append(random.randint(50, 100))\n",
    "score"
   ]
  },
  {
   "cell_type": "code",
   "execution_count": 13,
   "metadata": {},
   "outputs": [
    {
     "data": {
      "text/plain": [
       "[85, 70, 84, 83, 61]"
      ]
     },
     "execution_count": 13,
     "metadata": {},
     "output_type": "execute_result"
    }
   ],
   "source": [
    "import random\n",
    "#list comprehension\n",
    "score = [random.randint(50, 100) for _ in range(5)]\n",
    "score"
   ]
  },
  {
   "cell_type": "code",
   "execution_count": 23,
   "metadata": {},
   "outputs": [
    {
     "name": "stdout",
     "output_type": "stream",
     "text": [
      "['楊綺芬', '張軒宸', '陳逸華', '王展人', '林玉佩', '呂傑宣', '劉林中', '杜儀鳳']\n"
     ]
    }
   ],
   "source": [
    "import random\n",
    "def get_all_names() -> list[str]:\n",
    "    with open('names.txt',mode='r',encoding='utf-8') as file:\n",
    "        names:list[str] = []\n",
    "        for line in file:\n",
    "            #names.append(line)\n",
    "            line = line.rstrip('\\n')\n",
    "            names.append(line)\n",
    "        return names\n",
    "    \n",
    "def get_randon_names(nums:int) -> list[str]:\n",
    "    names = get_all_names()\n",
    "    random_list = random.choices(names,k=nums)\n",
    "    return random_list\n",
    "\n",
    "names = get_randon_names(nums=8)\n",
    "print(names)"
   ]
  },
  {
   "cell_type": "code",
   "execution_count": 16,
   "metadata": {},
   "outputs": [
    {
     "data": {
      "text/plain": [
       "[[82, 50, 89, 92, 74],\n",
       " [90, 85, 50, 72, 61],\n",
       " [76, 84, 70, 58, 72],\n",
       " [98, 92, 70, 54, 76],\n",
       " [87, 75, 54, 64, 56],\n",
       " [51, 82, 61, 87, 67],\n",
       " [50, 60, 94, 58, 66],\n",
       " [66, 89, 89, 84, 67],\n",
       " [92, 92, 65, 57, 50],\n",
       " [88, 94, 61, 92, 96],\n",
       " [59, 80, 73, 82, 65],\n",
       " [85, 83, 76, 50, 70],\n",
       " [59, 71, 57, 64, 66],\n",
       " [83, 68, 76, 81, 65],\n",
       " [82, 50, 81, 70, 57],\n",
       " [85, 60, 89, 81, 99],\n",
       " [53, 77, 85, 63, 66],\n",
       " [59, 71, 51, 68, 55],\n",
       " [62, 78, 92, 57, 60],\n",
       " [96, 59, 75, 85, 75],\n",
       " [90, 65, 76, 92, 65],\n",
       " [69, 81, 90, 92, 70],\n",
       " [90, 60, 56, 78, 94],\n",
       " [96, 97, 99, 54, 69],\n",
       " [53, 93, 85, 97, 97],\n",
       " [65, 66, 98, 92, 58],\n",
       " [92, 76, 94, 62, 82],\n",
       " [64, 74, 78, 52, 58],\n",
       " [73, 92, 57, 51, 87],\n",
       " [71, 87, 99, 89, 90],\n",
       " [55, 58, 54, 93, 72],\n",
       " [90, 84, 52, 90, 88],\n",
       " [100, 85, 52, 50, 69],\n",
       " [96, 76, 87, 96, 91],\n",
       " [71, 80, 95, 76, 64],\n",
       " [50, 89, 87, 76, 84],\n",
       " [86, 80, 69, 87, 95],\n",
       " [61, 77, 94, 52, 92],\n",
       " [55, 81, 82, 72, 54],\n",
       " [72, 91, 51, 72, 90],\n",
       " [55, 55, 78, 74, 88],\n",
       " [66, 92, 94, 96, 99],\n",
       " [55, 50, 58, 54, 66],\n",
       " [80, 87, 88, 60, 88],\n",
       " [98, 72, 63, 60, 95],\n",
       " [61, 76, 55, 84, 84],\n",
       " [57, 82, 51, 95, 58],\n",
       " [80, 62, 95, 82, 90],\n",
       " [62, 62, 68, 59, 98],\n",
       " [59, 54, 70, 80, 67]]"
      ]
     },
     "execution_count": 16,
     "metadata": {},
     "output_type": "execute_result"
    }
   ],
   "source": [
    "import random\n",
    "\n",
    "student_num = 50\n",
    "students:list[list] = [] #建立第一維list\n",
    "for _ in range(student_num):\n",
    "    one_student = [random.randint(50, 100) for _ in range(5)] #建立第2維list\n",
    "    students.append(one_student)\n",
    "\n",
    "students"
   ]
  }
 ],
 "metadata": {
  "kernelspec": {
   "display_name": "Python 3",
   "language": "python",
   "name": "python3"
  },
  "language_info": {
   "codemirror_mode": {
    "name": "ipython",
    "version": 3
   },
   "file_extension": ".py",
   "mimetype": "text/x-python",
   "name": "python",
   "nbconvert_exporter": "python",
   "pygments_lexer": "ipython3",
   "version": "3.10.12"
  },
  "orig_nbformat": 4
 },
 "nbformat": 4,
 "nbformat_minor": 2
}
