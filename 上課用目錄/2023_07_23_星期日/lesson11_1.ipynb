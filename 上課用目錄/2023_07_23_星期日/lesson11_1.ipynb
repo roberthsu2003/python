{
 "cells": [
  {
   "cell_type": "code",
   "execution_count": 2,
   "metadata": {},
   "outputs": [
    {
     "name": "stdout",
     "output_type": "stream",
     "text": [
      "[89, 79, 68, 92, 58]\n",
      "[98, 67, 75, 83, 71]\n",
      "[78, 97, 84, 73, 92]\n"
     ]
    }
   ],
   "source": [
    "score1 = [89, 79, 68, 92, 58]\n",
    "score2 = [98, 67, 75, 83, 71]\n",
    "score3 = [78, 97, 84, 73, 92]\n",
    "\n",
    "students = [score1, score2, score3] #建立\n",
    "for student in students: #取出第2維的資料\n",
    "    print(student)\n"
   ]
  },
  {
   "cell_type": "code",
   "execution_count": 11,
   "metadata": {},
   "outputs": [
    {
     "data": {
      "text/plain": [
       "[74, 52, 87, 51, 54]"
      ]
     },
     "execution_count": 11,
     "metadata": {},
     "output_type": "execute_result"
    }
   ],
   "source": [
    "import random\n",
    "score = []\n",
    "for _ in range(5):    \n",
    "    score.append(random.randint(50, 100))\n",
    "score"
   ]
  },
  {
   "cell_type": "code",
   "execution_count": 13,
   "metadata": {},
   "outputs": [
    {
     "data": {
      "text/plain": [
       "[85, 70, 84, 83, 61]"
      ]
     },
     "execution_count": 13,
     "metadata": {},
     "output_type": "execute_result"
    }
   ],
   "source": [
    "import random\n",
    "#list comprehension\n",
    "score = [random.randint(50, 100) for _ in range(5)]\n",
    "score"
   ]
  },
  {
   "cell_type": "code",
   "execution_count": 30,
   "metadata": {},
   "outputs": [
    {
     "name": "stdout",
     "output_type": "stream",
     "text": [
      "['王展人', '劉林中', '王怡君', '林益妏', '謝南慧', '金宜芳', '林珈發', '林怡偉']\n"
     ]
    }
   ],
   "source": [
    "import random\n",
    "def get_all_names() -> list[str]:\n",
    "    with open('names.txt',mode='r',encoding='utf-8') as file:\n",
    "        names:list[str] = []\n",
    "        for line in file:\n",
    "            #names.append(line)\n",
    "            line = line.rstrip('\\n')\n",
    "            names.append(line)\n",
    "        return names\n",
    "    \n",
    "def get_random_names(nums:int) -> list[str]:\n",
    "    names = get_all_names()\n",
    "    random_list = random.choices(names,k=nums)\n",
    "    return random_list\n",
    "\n",
    "names = get_random_names(nums=8)\n",
    "print(names)"
   ]
  },
  {
   "cell_type": "code",
   "execution_count": 32,
   "metadata": {},
   "outputs": [
    {
     "data": {
      "text/plain": [
       "[['李彥伸', 96, 84, 68, 100, 87],\n",
       " ['黃奎紹', 70, 82, 67, 53, 72],\n",
       " ['劉旭士', 70, 59, 81, 71, 57]]"
      ]
     },
     "execution_count": 32,
     "metadata": {},
     "output_type": "execute_result"
    }
   ],
   "source": [
    "import random\n",
    "\n",
    "def get_students(student_num:int) -> list[list]:    \n",
    "    students:list[list] = [] #建立第一維list\n",
    "    names = get_random_names(nums=student_num)\n",
    "    for i in range(student_num):\n",
    "        one_student = [random.randint(50, 100) for _ in range(5)] #建立第2維list\n",
    "        name = names[i]\n",
    "        one_student = [name] + one_student\n",
    "        students.append(one_student)\n",
    "    return students\n",
    "\n",
    "get_students(student_num=3)"
   ]
  },
  {
   "cell_type": "code",
   "execution_count": 25,
   "metadata": {},
   "outputs": [
    {
     "data": {
      "text/plain": [
       "['徐國堂', 57, 98, 76, 65, 72]"
      ]
     },
     "execution_count": 25,
     "metadata": {},
     "output_type": "execute_result"
    }
   ],
   "source": [
    "['徐國堂'] + [57, 98, 76, 65, 72]"
   ]
  },
  {
   "cell_type": "code",
   "execution_count": 39,
   "metadata": {},
   "outputs": [
    {
     "data": {
      "text/plain": [
       "'/workspaces/python/上課用目錄/2023_07_23_星期日/csv_data/a.csv'"
      ]
     },
     "execution_count": 39,
     "metadata": {},
     "output_type": "execute_result"
    }
   ],
   "source": [
    "import os\n",
    "root = os.path.abspath(path=\"./\")\n",
    "filePath = os.path.join(root,'csv_data','a.csv')"
   ]
  }
 ],
 "metadata": {
  "kernelspec": {
   "display_name": "Python 3",
   "language": "python",
   "name": "python3"
  },
  "language_info": {
   "codemirror_mode": {
    "name": "ipython",
    "version": 3
   },
   "file_extension": ".py",
   "mimetype": "text/x-python",
   "name": "python",
   "nbconvert_exporter": "python",
   "pygments_lexer": "ipython3",
   "version": "3.10.12"
  },
  "orig_nbformat": 4
 },
 "nbformat": 4,
 "nbformat_minor": 2
}
