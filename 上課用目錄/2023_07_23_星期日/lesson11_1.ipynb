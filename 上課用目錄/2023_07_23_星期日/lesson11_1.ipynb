{
 "cells": [
  {
   "cell_type": "code",
   "execution_count": 2,
   "metadata": {},
   "outputs": [
    {
     "name": "stdout",
     "output_type": "stream",
     "text": [
      "[89, 79, 68, 92, 58]\n",
      "[98, 67, 75, 83, 71]\n",
      "[78, 97, 84, 73, 92]\n"
     ]
    }
   ],
   "source": [
    "score1 = [89, 79, 68, 92, 58]\n",
    "score2 = [98, 67, 75, 83, 71]\n",
    "score3 = [78, 97, 84, 73, 92]\n",
    "\n",
    "students = [score1, score2, score3] #建立\n",
    "for student in students: #取出第2維的資料\n",
    "    print(student)\n"
   ]
  },
  {
   "cell_type": "code",
   "execution_count": 9,
   "metadata": {},
   "outputs": [
    {
     "data": {
      "text/plain": [
       "[70, 95, 80, 97, 69]"
      ]
     },
     "execution_count": 9,
     "metadata": {},
     "output_type": "execute_result"
    }
   ],
   "source": [
    "import random\n",
    "score = []\n",
    "for i in range(5):    \n",
    "    score.append(random.randint(50, 100))\n",
    "score"
   ]
  }
 ],
 "metadata": {
  "kernelspec": {
   "display_name": "Python 3",
   "language": "python",
   "name": "python3"
  },
  "language_info": {
   "codemirror_mode": {
    "name": "ipython",
    "version": 3
   },
   "file_extension": ".py",
   "mimetype": "text/x-python",
   "name": "python",
   "nbconvert_exporter": "python",
   "pygments_lexer": "ipython3",
   "version": "3.10.12"
  },
  "orig_nbformat": 4
 },
 "nbformat": 4,
 "nbformat_minor": 2
}
