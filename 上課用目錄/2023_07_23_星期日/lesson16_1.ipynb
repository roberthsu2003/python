{
 "cells": [
  {
   "cell_type": "code",
   "execution_count": 27,
   "metadata": {},
   "outputs": [
    {
     "name": "stdout",
     "output_type": "stream",
     "text": [
      "0 5000 1 7000 2 3000 3 4000 4 6000 "
     ]
    },
    {
     "data": {
      "image/png": "[encoded data removed]",
      "text/plain": [
       "<Figure size 800x500 with 1 Axes>"
      ]
     },
     "metadata": {},
     "output_type": "display_data"
    }
   ],
   "source": [
    "import numpy as np\n",
    "import matplotlib.pyplot as plt\n",
    "\n",
    "index = np.arange(5)\n",
    "values = np.array([5, 7, 3, 4, 6]) * 1000\n",
    "figure = plt.figure(figsize=(8, 5))\n",
    "axes = figure.add_subplot(1,1,1)\n",
    "axes.bar(index,values)\n",
    "axes.set_xticks(index,['apple', 'banana', 'orange', 'totato', 'guava'])\n",
    "axes.grid(axis='y')\n",
    "xmin,xmax,ymin,ymax= axes.axis()\n",
    "#print(xmin, xmax, ymin, ymax)\n",
    "axes.axis([xmin-0.5, xmax+0.5, ymin, ymax+1000])\n",
    "\n",
    "for i in index:\n",
    "    print(i,values[i],end=' ')\n",
    "    axes.annotate(str(values[i]),[i-0.2,values[i]+100])\n",
    "    \n",
    "    \n",
    "plt.show()"
   ]
  },
  {
   "cell_type": "code",
   "execution_count": 28,
   "metadata": {},
   "outputs": [
    {
     "data": {
      "text/plain": [
       "array([1, 2, 3, 4, 5])"
      ]
     },
     "execution_count": 28,
     "metadata": {},
     "output_type": "execute_result"
    }
   ],
   "source": [
    "#ndarray\n",
    "np.array([1,2,3,4,5])"
   ]
  },
  {
   "cell_type": "code",
   "execution_count": 32,
   "metadata": {},
   "outputs": [
    {
     "data": {
      "text/plain": [
       "(1, 2, 5)"
      ]
     },
     "execution_count": 32,
     "metadata": {},
     "output_type": "execute_result"
    }
   ],
   "source": [
    "import pandas as pd\n",
    "series_list = pd.Series(data=[1,2,3,4,5]) #list + 陣列運算\n",
    "series_list[0], series_list[1], series_list[4]"
   ]
  },
  {
   "cell_type": "code",
   "execution_count": 35,
   "metadata": {},
   "outputs": [
    {
     "name": "stdout",
     "output_type": "stream",
     "text": [
      "1 2 5\n"
     ]
    },
    {
     "name": "stderr",
     "output_type": "stream",
     "text": [
      "/tmp/ipykernel_1145/3313479358.py:2: FutureWarning: Series.__getitem__ treating keys as positions is deprecated. In a future version, integer keys will always be treated as labels (consistent with DataFrame behavior). To access a value by position, use `ser.iloc[pos]`\n",
      "  print(series_dict[0], series_dict[1], series_dict[4])\n"
     ]
    },
    {
     "data": {
      "text/plain": [
       "a     5\n",
       "b    10\n",
       "c    15\n",
       "d    20\n",
       "e    25\n",
       "dtype: int64"
      ]
     },
     "execution_count": 35,
     "metadata": {},
     "output_type": "execute_result"
    }
   ],
   "source": [
    "series_dict = pd.Series(data=[1,2,3,4,5],index=['a', 'b', 'c', 'd', 'e']) #dict+ list + 陣列運算\n",
    "print(series_dict[0], series_dict[1], series_dict[4])\n",
    "series_dict * 5"
   ]
  },
  {
   "cell_type": "code",
   "execution_count": 39,
   "metadata": {},
   "outputs": [
    {
     "data": {
      "text/plain": [
       "國文    89\n",
       "英文    76\n",
       "數學    65\n",
       "地理    92\n",
       "歷史    76\n",
       "dtype: int64"
      ]
     },
     "execution_count": 39,
     "metadata": {},
     "output_type": "execute_result"
    }
   ],
   "source": [
    "series_dict = pd.Series(data=[89,76,65,92,76],index=['國文', '英文', '數學', '地理', '歷史']) #dict+ list + 陣列運算\n",
    "series_dict\n",
    "#series_dict['國文']"
   ]
  },
  {
   "cell_type": "code",
   "execution_count": 44,
   "metadata": {},
   "outputs": [
    {
     "data": {
      "text/plain": [
       "國文    92\n",
       "英文    79\n",
       "數學    68\n",
       "地理    95\n",
       "歷史    79\n",
       "dtype: int64"
      ]
     },
     "execution_count": 44,
     "metadata": {},
     "output_type": "execute_result"
    }
   ],
   "source": [
    "#Series,values,index\n",
    "series_dict.values\n",
    "series_dict.index\n",
    "series_dict += 3 #陣列運算\n",
    "series_dict"
   ]
  }
 ],
 "metadata": {
  "kernelspec": {
   "display_name": "Python 3",
   "language": "python",
   "name": "python3"
  },
  "language_info": {
   "codemirror_mode": {
    "name": "ipython",
    "version": 3
   },
   "file_extension": ".py",
   "mimetype": "text/x-python",
   "name": "python",
   "nbconvert_exporter": "python",
   "pygments_lexer": "ipython3",
   "version": "3.10.12"
  },
  "orig_nbformat": 4
 },
 "nbformat": 4,
 "nbformat_minor": 2
}
