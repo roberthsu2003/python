{
 "cells": [
  {
   "cell_type": "code",
   "execution_count": 1,
   "metadata": {},
   "outputs": [
    {
     "data": {
      "text/plain": [
       "[75, 89, 92, 75, 91]"
      ]
     },
     "metadata": {},
     "output_type": "display_data"
    }
   ],
   "source": [
    "#使用[]建立list\n",
    "stu1 = [75, 89, 92, 75, 91]\n",
    "display(stu1)"
   ]
  },
  {
   "cell_type": "code",
   "execution_count": 3,
   "metadata": {},
   "outputs": [
    {
     "name": "stdout",
     "output_type": "stream",
     "text": [
      "75 89 92 75 91 "
     ]
    }
   ],
   "source": [
    "for score in stu1:\n",
    "    print(score,end=' ')"
   ]
  },
  {
   "cell_type": "code",
   "execution_count": 4,
   "metadata": {},
   "outputs": [
    {
     "name": "stdout",
     "output_type": "stream",
     "text": [
      "75\n",
      "91\n",
      "[75, 89, 92]\n",
      "[92, 75, 91]\n"
     ]
    }
   ],
   "source": [
    "print(stu1[0]) #取出第一個值\n",
    "print(stu1[-1]) #取出最後一個值\n",
    "print(stu1[:3]) #取出前3個值\n",
    "print(stu1[-3:]) #取出後3個值"
   ]
  }
 ],
 "metadata": {
  "kernelspec": {
   "display_name": "Python 3",
   "language": "python",
   "name": "python3"
  },
  "language_info": {
   "codemirror_mode": {
    "name": "ipython",
    "version": 3
   },
   "file_extension": ".py",
   "mimetype": "text/x-python",
   "name": "python",
   "nbconvert_exporter": "python",
   "pygments_lexer": "ipython3",
   "version": "3.10.12"
  },
  "orig_nbformat": 4
 },
 "nbformat": 4,
 "nbformat_minor": 2
}
