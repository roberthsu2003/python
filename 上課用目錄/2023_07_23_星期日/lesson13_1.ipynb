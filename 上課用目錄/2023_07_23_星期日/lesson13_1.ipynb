{
 "cells": [
  {
   "cell_type": "code",
   "execution_count": 1,
   "metadata": {},
   "outputs": [],
   "source": [
    "a1 = 10\n",
    "n1 = 10.0\n",
    "c1 = 'hello'"
   ]
  },
  {
   "cell_type": "code",
   "execution_count": 5,
   "metadata": {},
   "outputs": [
    {
     "name": "stdout",
     "output_type": "stream",
     "text": [
      "<class 'int'>\n",
      "<class 'float'>\n",
      "<class 'str'>\n"
     ]
    }
   ],
   "source": [
    "print(type(a1))\n",
    "print(type(n1))\n",
    "print(type(c1))"
   ]
  },
  {
   "cell_type": "code",
   "execution_count": 14,
   "metadata": {},
   "outputs": [],
   "source": [
    "class Student:\n",
    "    pass\n",
    "\n",
    "stu1 = Student()\n",
    "#動態attribute(屬性)\n",
    "stu1.name = \"徐國堂\"\n",
    "stu1.chinese = 78\n",
    "stu1.math = 76\n",
    "stu1.english = 92\n",
    "\n",
    "#=======\n",
    "\n",
    "stu2 = Student()\n",
    "#動態attribute(屬性)\n",
    "stu2.name = \"張xxx\"\n",
    "stu2.chinese = 69\n",
    "stu2.math = 59\n",
    "stu2.english = 89"
   ]
  },
  {
   "cell_type": "code",
   "execution_count": 15,
   "metadata": {},
   "outputs": [
    {
     "data": {
      "text/plain": [
       "('徐國堂', 78, 76, 92)"
      ]
     },
     "execution_count": 15,
     "metadata": {},
     "output_type": "execute_result"
    }
   ],
   "source": [
    "stu1.name, stu1.chinese, stu1.math, stu1.english"
   ]
  },
  {
   "cell_type": "code",
   "execution_count": 16,
   "metadata": {},
   "outputs": [
    {
     "data": {
      "text/plain": [
       "('張xxx', 69, 59, 89)"
      ]
     },
     "execution_count": 16,
     "metadata": {},
     "output_type": "execute_result"
    }
   ],
   "source": [
    "stu2.name, stu2.chinese, stu2.math, stu2.english"
   ]
  },
  {
   "cell_type": "code",
   "execution_count": 43,
   "metadata": {},
   "outputs": [
    {
     "name": "stdout",
     "output_type": "stream",
     "text": [
      "姓名:徐國堂\n",
      "國文:78\n",
      "英文:92\n",
      "數學:76\n",
      "=======\n",
      "姓名:張xxx\n",
      "國文:69\n",
      "英文:89\n",
      "數學:59\n"
     ]
    }
   ],
   "source": [
    "class Student:\n",
    "    #自訂的初始化\n",
    "    def __init__(self,name,chinese,math,english):\n",
    "        #實體的attribute(屬性)\n",
    "        self.name = name\n",
    "        self.chinese = chinese\n",
    "        self.math = math\n",
    "        self.english = english\n",
    "\n",
    "    #實體的方法\n",
    "    def total(self):\n",
    "        return self.chinese + self.math + self.english\n",
    "    \n",
    "    #實體的property(屬性)\n",
    "    @property\n",
    "    def average(self):\n",
    "        return self.total() / 3.0\n",
    "    \n",
    "    def __repr__(self):\n",
    "        return f\"姓名:{self.name}\\n國文:{self.chinese}\\n英文:{self.english}\\n數學:{self.math}\"\n",
    "    \n",
    "    \n",
    "\n",
    "\n",
    "stu1 = Student(\"徐國堂\",78, 76, 92)\n",
    "print(stu1)\n",
    "\n",
    "print(\"=======\")\n",
    "\n",
    "stu2 = Student(\"張xxx\",69, 59, 89)\n",
    "print(stu2)\n"
   ]
  },
  {
   "cell_type": "code",
   "execution_count": 38,
   "metadata": {},
   "outputs": [
    {
     "name": "stdout",
     "output_type": "stream",
     "text": [
      "徐國堂 78 76 92\n",
      "246\n",
      "82.0\n"
     ]
    }
   ],
   "source": [
    "print(stu1.name, stu1.chinese, stu1.math, stu1.english)\n",
    "print(stu1.total())\n",
    "print(stu1.average)"
   ]
  },
  {
   "cell_type": "code",
   "execution_count": 39,
   "metadata": {},
   "outputs": [
    {
     "name": "stdout",
     "output_type": "stream",
     "text": [
      "張xxx 69 59 89\n",
      "217\n",
      "72.33333333333333\n"
     ]
    }
   ],
   "source": [
    "print(stu2.name, stu2.chinese, stu2.math, stu2.english)\n",
    "print(stu2.total())\n",
    "print(stu2.average)"
   ]
  }
 ],
 "metadata": {
  "kernelspec": {
   "display_name": "Python 3",
   "language": "python",
   "name": "python3"
  },
  "language_info": {
   "codemirror_mode": {
    "name": "ipython",
    "version": 3
   },
   "file_extension": ".py",
   "mimetype": "text/x-python",
   "name": "python",
   "nbconvert_exporter": "python",
   "pygments_lexer": "ipython3",
   "version": "3.10.12"
  },
  "orig_nbformat": 4
 },
 "nbformat": 4,
 "nbformat_minor": 2
}
