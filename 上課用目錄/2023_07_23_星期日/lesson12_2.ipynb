{
 "cells": [
  {
   "cell_type": "code",
   "execution_count": 10,
   "metadata": {},
   "outputs": [
    {
     "name": "stdout",
     "output_type": "stream",
     "text": [
      "目前存檔的檔案:\n",
      "['a1.csv', 'a2.csv']\n",
      "['姓名', '國文', '英文', '數學', '社會', '地理']\n",
      "['楊火帆', '97', '68', '51', '83', '77']\n",
      "['錢佩豪', '61', '86', '89', '55', '93']\n",
      "['余月修', '100', '93', '90', '68', '59']\n",
      "['李進慧', '66', '88', '63', '65', '63']\n",
      "['黃佩玲', '80', '98', '97', '68', '52']\n",
      "['傅佳琳', '75', '52', '74', '64', '73']\n",
      "['林俊翔', '90', '76', '67', '84', '59']\n",
      "['鄭奇翰', '98', '60', '52', '70', '89']\n",
      "['郭淑真', '53', '69', '69', '93', '54']\n",
      "['李立偉', '73', '50', '77', '83', '63']\n",
      "['鄧哲榮', '83', '72', '98', '68', '99']\n",
      "['楊易政', '90', '68', '62', '67', '53']\n",
      "['林建勳', '67', '66', '53', '52', '54']\n",
      "['蒙淑惠', '70', '81', '97', '60', '95']\n",
      "['蘇凡菁', '61', '93', '96', '67', '60']\n",
      "['鄭孟芳', '57', '83', '86', '63', '96']\n",
      "['王柏聖', '78', '50', '71', '54', '69']\n",
      "['翁羽威', '96', '59', '100', '75', '52']\n",
      "['陳怡容', '82', '90', '61', '66', '51']\n",
      "['謝南慧', '56', '63', '50', '65', '87']\n"
     ]
    }
   ],
   "source": [
    "import os\n",
    "import csv\n",
    "root = os.path.abspath('./')\n",
    "directory = os.path.join(root,\"csv_data\")\n",
    "print(\"目前存檔的檔案:\")\n",
    "print(os.listdir(directory))\n",
    "\n",
    "\n",
    "fileName = input(\"您要載入的檔案是:\")\n",
    "filePath = os.path.join(root,\"csv_data\",fileName)\n",
    "with open(filePath,encoding='utf-8',newline='') as file:\n",
    "    csv_reader = csv.reader(file)\n",
    "    for line in csv_reader:\n",
    "        print(line)"
   ]
  }
 ],
 "metadata": {
  "kernelspec": {
   "display_name": "Python 3",
   "language": "python",
   "name": "python3"
  },
  "language_info": {
   "codemirror_mode": {
    "name": "ipython",
    "version": 3
   },
   "file_extension": ".py",
   "mimetype": "text/x-python",
   "name": "python",
   "nbconvert_exporter": "python",
   "pygments_lexer": "ipython3",
   "version": "3.10.12"
  },
  "orig_nbformat": 4
 },
 "nbformat": 4,
 "nbformat_minor": 2
}
