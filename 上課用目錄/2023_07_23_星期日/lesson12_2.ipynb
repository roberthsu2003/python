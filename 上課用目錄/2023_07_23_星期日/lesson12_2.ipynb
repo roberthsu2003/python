{
 "cells": [
  {
   "cell_type": "code",
   "execution_count": 6,
   "metadata": {},
   "outputs": [
    {
     "name": "stdout",
     "output_type": "stream",
     "text": [
      "目前存檔的檔案:\n",
      "['a1.csv', 'a2.csv']\n",
      "開啟的檔案是:a1.csv\n"
     ]
    }
   ],
   "source": [
    "import os\n",
    "root = os.path.abspath('./')\n",
    "direction = os.path.join(root,\"csv_data\")\n",
    "print(\"目前存檔的檔案:\")\n",
    "print(os.listdir(direction))\n",
    "\n",
    "\n",
    "fileName = input(\"您要載入的檔案是:\")\n",
    "print(f\"開啟的檔案是:{fileName}\")"
   ]
  }
 ],
 "metadata": {
  "kernelspec": {
   "display_name": "Python 3",
   "language": "python",
   "name": "python3"
  },
  "language_info": {
   "codemirror_mode": {
    "name": "ipython",
    "version": 3
   },
   "file_extension": ".py",
   "mimetype": "text/x-python",
   "name": "python",
   "nbconvert_exporter": "python",
   "pygments_lexer": "ipython3",
   "version": "3.10.12"
  },
  "orig_nbformat": 4
 },
 "nbformat": 4,
 "nbformat_minor": 2
}
