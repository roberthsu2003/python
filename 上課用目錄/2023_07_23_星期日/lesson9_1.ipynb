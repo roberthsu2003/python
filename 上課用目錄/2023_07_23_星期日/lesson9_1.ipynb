{
 "cells": [
  {
   "cell_type": "code",
   "execution_count": 7,
   "metadata": {},
   "outputs": [
    {
     "name": "stdout",
     "output_type": "stream",
     "text": [
      "格式有誤\n"
     ]
    }
   ],
   "source": [
    "# 檢查台灣手機號碼輸入格式(xxxx-xxx-xxx)\n",
    "phone_num = input(\"請輸入手機號碼xxxx-xxx-xxx:\")\n",
    "if len(phone_num) != 12:\n",
    "    print(\"格式有誤\")\n",
    "elif not phone_num[:4].isdigit():\n",
    "    print(\"前4個格式有誤\")\n",
    "elif phone_num[4] != \"-\":\n",
    "    print(\"格式有誤\")\n",
    "elif not phone_num[5:8].isdigit():\n",
    "    print(\"格式有誤\")\n",
    "elif phone_num[8] != \"-\":\n",
    "    print(\"格式有誤\")\n",
    "elif not phone_num[-3:].isdigit():\n",
    "    print(\"格式有誤\")\n",
    "else:\n",
    "    print(f\"正確,您的電話號碼是:{phone_num}\")\n"
   ]
  }
 ],
 "metadata": {
  "kernelspec": {
   "display_name": "Python 3",
   "language": "python",
   "name": "python3"
  },
  "language_info": {
   "codemirror_mode": {
    "name": "ipython",
    "version": 3
   },
   "file_extension": ".py",
   "mimetype": "text/x-python",
   "name": "python",
   "nbconvert_exporter": "python",
   "pygments_lexer": "ipython3",
   "version": "3.10.12"
  },
  "orig_nbformat": 4
 },
 "nbformat": 4,
 "nbformat_minor": 2
}
