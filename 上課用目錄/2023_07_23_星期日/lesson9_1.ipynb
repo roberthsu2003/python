{
 "cells": [
  {
   "cell_type": "code",
   "execution_count": 9,
   "metadata": {},
   "outputs": [],
   "source": [
    "#python字串的內建功能\n",
    "def isPhoneNumber(text:str) -> bool:\n",
    "    if len(text) != 12:\n",
    "        return False\n",
    "    elif not text[:4].isdigit():\n",
    "        return False\n",
    "    elif text[4] != \"-\":\n",
    "        return False\n",
    "    elif not text[5:8].isdigit():\n",
    "        return False\n",
    "    elif text[8] != \"-\":\n",
    "        return False\n",
    "    elif not text[-3:].isdigit():\n",
    "        return False\n",
    "    else:\n",
    "        return True"
   ]
  },
  {
   "cell_type": "code",
   "execution_count": 13,
   "metadata": {},
   "outputs": [
    {
     "name": "stdout",
     "output_type": "stream",
     "text": [
      "格式錯誤\n",
      "正確格式是:xxxx-xxx-xxx\n"
     ]
    }
   ],
   "source": [
    "# 檢查台灣手機號碼輸入格式(xxxx-xxx-xxx)\n",
    "phone_num = input(\"請輸入手機號碼xxxx-xxx-xxx:\")\n",
    "if isPhoneNumber(text=phone_num):\n",
    "    print(f\"格式正確,電話號碼:{phone_num}\")\n",
    "else:\n",
    "    print(f\"格式錯誤\")\n",
    "    print(\"正確格式是:xxxx-xxx-xxx\")\n"
   ]
  },
  {
   "cell_type": "code",
   "execution_count": 15,
   "metadata": {},
   "outputs": [],
   "source": [
    "#字串正規則表達式\n",
    "import re\n",
    "\n",
    "def isPhoneNumber1(text:str) -> bool:\n",
    "    phone_num_regex = re.compile(r'\\d\\d\\d\\d-\\d\\d\\d-\\d\\d\\d')\n",
    "    if phone_num_regex.match(text) is None:\n",
    "        return False\n",
    "    else:\n",
    "        return True"
   ]
  },
  {
   "cell_type": "code",
   "execution_count": 17,
   "metadata": {},
   "outputs": [
    {
     "name": "stdout",
     "output_type": "stream",
     "text": [
      "格式錯誤\n",
      "正確格式是:xxxx-xxx-xxx\n"
     ]
    }
   ],
   "source": [
    "# 檢查台灣手機號碼輸入格式(xxxx-xxx-xxx)\n",
    "phone_num = input(\"請輸入手機號碼xxxx-xxx-xxx:\")\n",
    "if isPhoneNumber1(text=phone_num):\n",
    "    print(f\"格式正確,電話號碼:{phone_num}\")\n",
    "else:\n",
    "    print(f\"格式錯誤\")\n",
    "    print(\"正確格式是:xxxx-xxx-xxx\")\n"
   ]
  }
 ],
 "metadata": {
  "kernelspec": {
   "display_name": "Python 3",
   "language": "python",
   "name": "python3"
  },
  "language_info": {
   "codemirror_mode": {
    "name": "ipython",
    "version": 3
   },
   "file_extension": ".py",
   "mimetype": "text/x-python",
   "name": "python",
   "nbconvert_exporter": "python",
   "pygments_lexer": "ipython3",
   "version": "3.10.12"
  },
  "orig_nbformat": 4
 },
 "nbformat": 4,
 "nbformat_minor": 2
}
