{
 "cells": [
  {
   "cell_type": "code",
   "execution_count": 9,
   "metadata": {},
   "outputs": [],
   "source": [
    "def isPhoneNumber(text:str) -> bool:\n",
    "    if len(text) != 12:\n",
    "        return False\n",
    "    elif not text[:4].isdigit():\n",
    "        return False\n",
    "    elif text[4] != \"-\":\n",
    "        return False\n",
    "    elif not text[5:8].isdigit():\n",
    "        return False\n",
    "    elif text[8] != \"-\":\n",
    "        return False\n",
    "    elif not text[-3:].isdigit():\n",
    "        return False\n",
    "    else:\n",
    "        return True"
   ]
  },
  {
   "cell_type": "code",
   "execution_count": 11,
   "metadata": {},
   "outputs": [
    {
     "name": "stdout",
     "output_type": "stream",
     "text": [
      "格式錯誤\n",
      "正確格式是:xxxx-xxx-xxx\n"
     ]
    }
   ],
   "source": [
    "# 檢查台灣手機號碼輸入格式(xxxx-xxx-xxx)\n",
    "phone_num = input(\"請輸入手機號碼xxxx-xxx-xxx:\")\n",
    "if isPhoneNumber(text=phone_num):\n",
    "    print(f\"格式正確,電話號碼:{phone_num}\")\n",
    "else:\n",
    "    print(f\"格式錯誤\")\n",
    "    print(\"正確格式是:xxxx-xxx-xxx\")\n"
   ]
  }
 ],
 "metadata": {
  "kernelspec": {
   "display_name": "Python 3",
   "language": "python",
   "name": "python3"
  },
  "language_info": {
   "codemirror_mode": {
    "name": "ipython",
    "version": 3
   },
   "file_extension": ".py",
   "mimetype": "text/x-python",
   "name": "python",
   "nbconvert_exporter": "python",
   "pygments_lexer": "ipython3",
   "version": "3.10.12"
  },
  "orig_nbformat": 4
 },
 "nbformat": 4,
 "nbformat_minor": 2
}
