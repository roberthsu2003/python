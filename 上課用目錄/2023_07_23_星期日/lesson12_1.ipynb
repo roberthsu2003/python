{
 "cells": [
  {
   "cell_type": "code",
   "execution_count": 2,
   "metadata": {},
   "outputs": [
    {
     "data": {
      "text/plain": [
       "[['潘英迪', 70, 98, 74, 97, 73],\n",
       " ['張明惟', 81, 96, 76, 84, 81],\n",
       " ['楊又源', 94, 61, 61, 98, 66],\n",
       " ['柯韋成', 59, 66, 60, 95, 67],\n",
       " ['林向鈺', 85, 64, 70, 66, 65],\n",
       " ['朱惠儀', 52, 92, 99, 90, 97],\n",
       " ['唐雪豪', 59, 63, 92, 78, 97],\n",
       " ['游倫城', 56, 86, 91, 61, 91],\n",
       " ['黃淑芬', 54, 83, 79, 51, 61],\n",
       " ['彭虹屏', 76, 98, 57, 77, 51],\n",
       " ['劉昀天', 98, 59, 78, 94, 72],\n",
       " ['呂傑宣', 52, 59, 60, 54, 80],\n",
       " ['黃婷婷', 97, 93, 56, 77, 55],\n",
       " ['楊易政', 50, 51, 53, 94, 92],\n",
       " ['余宗儒', 54, 50, 82, 50, 52],\n",
       " ['方筠紹', 92, 88, 73, 72, 88],\n",
       " ['劉林中', 64, 98, 55, 66, 76],\n",
       " ['林冠蕙', 73, 84, 81, 68, 73],\n",
       " ['吳志宣', 86, 92, 96, 66, 96],\n",
       " ['蔡孟泉', 93, 67, 69, 99, 78],\n",
       " ['陳奇瑄', 58, 93, 50, 65, 90],\n",
       " ['吳昕婷', 89, 95, 80, 51, 82],\n",
       " ['鄧哲榮', 71, 79, 91, 65, 91],\n",
       " ['張明惟', 59, 98, 97, 78, 88],\n",
       " ['張凱妮', 69, 51, 59, 75, 64],\n",
       " ['王怡君', 60, 62, 100, 54, 71],\n",
       " ['林佳蓉', 100, 67, 58, 93, 77],\n",
       " ['周家銘', 74, 88, 93, 98, 52],\n",
       " ['郭淑真', 51, 71, 74, 88, 89],\n",
       " ['趙宛真', 52, 73, 78, 57, 91]]"
      ]
     },
     "metadata": {},
     "output_type": "display_data"
    }
   ],
   "source": [
    "import os\n",
    "import student\n",
    "\n",
    "file_name = input(\"請輸入要存檔的檔案名稱:\")\n",
    "root = os.path.abspath(path=\"./\")\n",
    "filePath = os.path.join(root,'csv_data',f'{file_name}.csv')\n",
    "\n",
    "students = student.get_students(student_num=30)\n",
    "students"
   ]
  }
 ],
 "metadata": {
  "kernelspec": {
   "display_name": "Python 3",
   "language": "python",
   "name": "python3"
  },
  "language_info": {
   "codemirror_mode": {
    "name": "ipython",
    "version": 3
   },
   "file_extension": ".py",
   "mimetype": "text/x-python",
   "name": "python",
   "nbconvert_exporter": "python",
   "pygments_lexer": "ipython3",
   "version": "3.10.12"
  },
  "orig_nbformat": 4
 },
 "nbformat": 4,
 "nbformat_minor": 2
}
