{
 "cells": [
  {
   "cell_type": "code",
   "execution_count": 1,
   "metadata": {},
   "outputs": [
    {
     "name": "stdout",
     "output_type": "stream",
     "text": [
      "=============猜數字遊戲==============\n",
      "\n",
      "\n",
      "猜錯了\n",
      "您已經猜了1次\n",
      "猜錯了\n",
      "您已經猜了2次\n",
      "猜錯了\n",
      "您已經猜了3次\n",
      "猜錯了\n",
      "您已經猜了4次\n",
      "猜錯了\n",
      "您已經猜了5次\n",
      "猜錯了\n",
      "您已經猜了6次\n",
      "猜錯了\n",
      "您已經猜了7次\n",
      "猜錯了\n",
      "您已經猜了8次\n",
      "猜錯了\n",
      "您已經猜了9次\n",
      "賓果!猜對了, 答案是:4\n",
      "您猜了10次\n",
      "遊戲結束\n"
     ]
    }
   ],
   "source": [
    "import random\n",
    "min = 1\n",
    "max = 10\n",
    "target = random.randint(1,10)\n",
    "count = 0\n",
    "print(\"=============猜數字遊戲==============\\n\\n\")\n",
    "while True:\n",
    "    keyin = int(input(f\"猜數字範範圍{min}~{max}:\"))\n",
    "    count += 1\n",
    "    if keyin >= min and keyin <= max:\n",
    "        if(keyin == target):\n",
    "            print(f\"賓果!猜對了, 答案是:{target}\")\n",
    "            print(f\"您猜了{count}次\")\n",
    "            break\n",
    "        else:\n",
    "            print(\"猜錯了\")\n",
    "            print(f\"您已經猜了{count}次\")          \n",
    "    else:\n",
    "        print(\"請輸入提示範圍內的數字\")\n",
    "\n",
    "print(\"遊戲結束\")"
   ]
  }
 ],
 "metadata": {
  "kernelspec": {
   "display_name": "Python 3",
   "language": "python",
   "name": "python3"
  },
  "language_info": {
   "codemirror_mode": {
    "name": "ipython",
    "version": 3
   },
   "file_extension": ".py",
   "mimetype": "text/x-python",
   "name": "python",
   "nbconvert_exporter": "python",
   "pygments_lexer": "ipython3",
   "version": "3.10.12"
  },
  "orig_nbformat": 4
 },
 "nbformat": 4,
 "nbformat_minor": 2
}
