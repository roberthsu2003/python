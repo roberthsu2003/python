{
 "cells": [
  {
   "cell_type": "code",
   "execution_count": 1,
   "metadata": {},
   "outputs": [
    {
     "data": {
      "text/plain": [
       "True"
      ]
     },
     "execution_count": 1,
     "metadata": {},
     "output_type": "execute_result"
    }
   ],
   "source": [
    "#比較運算子\n",
    "5 == 5"
   ]
  },
  {
   "cell_type": "code",
   "execution_count": 2,
   "metadata": {},
   "outputs": [
    {
     "data": {
      "text/plain": [
       "False"
      ]
     },
     "execution_count": 2,
     "metadata": {},
     "output_type": "execute_result"
    }
   ],
   "source": [
    "#傳出布林值\n",
    "5 != 5"
   ]
  },
  {
   "cell_type": "code",
   "execution_count": 12,
   "metadata": {},
   "outputs": [
    {
     "name": "stdout",
     "output_type": "stream",
     "text": [
      "輸入超過300分,請重新執行\n"
     ]
    }
   ],
   "source": [
    "#學生總分為300\n",
    "#檢查輸入超過300,印出錯誤訊息\n",
    "#有些學生可以加分5%\n",
    "##如果加分超過300,就以300分為準\n",
    "\n",
    "score = int(input(\"請輸入學生分數(最高300分):\"))\n",
    "if score <= 300:\n",
    "    is_add = input(\"學生是否符合加分條件?(y,n)\")\n",
    "\n",
    "    if(is_add == 'y'):\n",
    "        score *= 1.05\n",
    "        if score > 300:\n",
    "            score = 300\n",
    "\n",
    "    print(f\"學生總分為{round(score)}\")\n",
    "else:\n",
    "    print(\"輸入超過300分,請重新執行\")"
   ]
  },
  {
   "cell_type": "code",
   "execution_count": 15,
   "metadata": {},
   "outputs": [
    {
     "name": "stdout",
     "output_type": "stream",
     "text": [
      "輸入格式有錯誤\n"
     ]
    }
   ],
   "source": [
    "try:\n",
    "    score = int(input(\"請輸入學生分數(最高300分):\"))\n",
    "    print(f'分數是{score}')\n",
    "except:\n",
    "    print(\"輸入格式有錯誤\")"
   ]
  }
 ],
 "metadata": {
  "kernelspec": {
   "display_name": "Python 3",
   "language": "python",
   "name": "python3"
  },
  "language_info": {
   "codemirror_mode": {
    "name": "ipython",
    "version": 3
   },
   "file_extension": ".py",
   "mimetype": "text/x-python",
   "name": "python",
   "nbconvert_exporter": "python",
   "pygments_lexer": "ipython3",
   "version": "3.10.12"
  },
  "orig_nbformat": 4
 },
 "nbformat": 4,
 "nbformat_minor": 2
}
