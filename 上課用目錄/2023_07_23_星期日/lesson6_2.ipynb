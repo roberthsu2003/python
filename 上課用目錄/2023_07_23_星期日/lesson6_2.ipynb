{
 "cells": [
  {
   "cell_type": "code",
   "execution_count": 1,
   "metadata": {},
   "outputs": [
    {
     "name": "stdout",
     "output_type": "stream",
     "text": [
      "0\n",
      "1\n",
      "2\n",
      "3\n",
      "4\n"
     ]
    }
   ],
   "source": [
    "for x in range(5):\n",
    "    print(x)"
   ]
  },
  {
   "cell_type": "code",
   "execution_count": 2,
   "metadata": {},
   "outputs": [
    {
     "name": "stdout",
     "output_type": "stream",
     "text": [
      "15\n",
      "16\n",
      "17\n",
      "18\n",
      "19\n"
     ]
    }
   ],
   "source": [
    "for x in range(15,20):\n",
    "    print(x)"
   ]
  },
  {
   "cell_type": "code",
   "execution_count": 3,
   "metadata": {},
   "outputs": [
    {
     "name": "stdout",
     "output_type": "stream",
     "text": [
      "1\n",
      "3\n",
      "5\n",
      "7\n",
      "9\n"
     ]
    }
   ],
   "source": [
    "for x in range(1,10,2):\n",
    "    print(x)"
   ]
  },
  {
   "cell_type": "code",
   "execution_count": 4,
   "metadata": {},
   "outputs": [
    {
     "name": "stdout",
     "output_type": "stream",
     "text": [
      "1~100的加總是5050\n"
     ]
    }
   ],
   "source": [
    "#1~100的加總是多少\n",
    "total = 0\n",
    "for x in range(1,101):\n",
    "    total += x\n",
    "\n",
    "print(f\"1~100的加總是{total}\")\n"
   ]
  },
  {
   "cell_type": "code",
   "execution_count": 5,
   "metadata": {},
   "outputs": [
    {
     "name": "stdout",
     "output_type": "stream",
     "text": [
      "偶數總合是:2550\n",
      "奇數數總合是:2500\n"
     ]
    }
   ],
   "source": [
    "#1~100內的偶數加總和奇數加總各是多少?\n",
    "oddTotal = 0\n",
    "evenTotal = 0\n",
    "for x in range(1,101):\n",
    "    if x % 2 == 0:\n",
    "        evenTotal += x\n",
    "    else:\n",
    "        oddTotal += x\n",
    "\n",
    "print(f\"偶數總合是:{evenTotal}\")\n",
    "print(f\"奇數數總合是:{oddTotal}\")"
   ]
  },
  {
   "cell_type": "code",
   "execution_count": 7,
   "metadata": {},
   "outputs": [
    {
     "name": "stdout",
     "output_type": "stream",
     "text": [
      "54~2345偶數總合是:1,374,054\n",
      "54~2345奇數數總合是:1,375,200\n"
     ]
    }
   ],
   "source": [
    "start = int(input(\"請輸入起始值\"))\n",
    "end = int(input(\"請輸入最終值\"))\n",
    "\n",
    "oddTotal = 0\n",
    "evenTotal = 0\n",
    "for x in range(start,end+1):\n",
    "    if x % 2 == 0:\n",
    "        evenTotal += x\n",
    "    else:\n",
    "        oddTotal += x\n",
    "\n",
    "print(f\"{start}~{end}偶數總合是:{evenTotal:,}\")\n",
    "print(f\"{start}~{end}奇數數總合是:{oddTotal:,}\")"
   ]
  }
 ],
 "metadata": {
  "kernelspec": {
   "display_name": "Python 3",
   "language": "python",
   "name": "python3"
  },
  "language_info": {
   "codemirror_mode": {
    "name": "ipython",
    "version": 3
   },
   "file_extension": ".py",
   "mimetype": "text/x-python",
   "name": "python",
   "nbconvert_exporter": "python",
   "pygments_lexer": "ipython3",
   "version": "3.10.12"
  },
  "orig_nbformat": 4
 },
 "nbformat": 4,
 "nbformat_minor": 2
}
