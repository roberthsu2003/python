{
 "cells": [
  {
   "cell_type": "code",
   "execution_count": 2,
   "metadata": {},
   "outputs": [
    {
     "data": {
      "text/html": [
       "<div>\n",
       "<style scoped>\n",
       "    .dataframe tbody tr th:only-of-type {\n",
       "        vertical-align: middle;\n",
       "    }\n",
       "\n",
       "    .dataframe tbody tr th {\n",
       "        vertical-align: top;\n",
       "    }\n",
       "\n",
       "    .dataframe thead th {\n",
       "        text-align: right;\n",
       "    }\n",
       "</style>\n",
       "<table border=\"1\" class=\"dataframe\">\n",
       "  <thead>\n",
       "    <tr style=\"text-align: right;\">\n",
       "      <th></th>\n",
       "      <th>b</th>\n",
       "      <th>d</th>\n",
       "      <th>e</th>\n",
       "    </tr>\n",
       "  </thead>\n",
       "  <tbody>\n",
       "    <tr>\n",
       "      <th>台北</th>\n",
       "      <td>1.554299</td>\n",
       "      <td>-2.482894</td>\n",
       "      <td>1.164447</td>\n",
       "    </tr>\n",
       "    <tr>\n",
       "      <th>台中</th>\n",
       "      <td>-0.189859</td>\n",
       "      <td>-0.220118</td>\n",
       "      <td>0.624572</td>\n",
       "    </tr>\n",
       "    <tr>\n",
       "      <th>台南</th>\n",
       "      <td>0.424321</td>\n",
       "      <td>-2.508107</td>\n",
       "      <td>0.978221</td>\n",
       "    </tr>\n",
       "    <tr>\n",
       "      <th>高雄</th>\n",
       "      <td>0.961770</td>\n",
       "      <td>-0.795811</td>\n",
       "      <td>-0.055529</td>\n",
       "    </tr>\n",
       "  </tbody>\n",
       "</table>\n",
       "</div>"
      ],
      "text/plain": [
       "           b         d         e\n",
       "台北  1.554299 -2.482894  1.164447\n",
       "台中 -0.189859 -0.220118  0.624572\n",
       "台南  0.424321 -2.508107  0.978221\n",
       "高雄  0.961770 -0.795811 -0.055529"
      ]
     },
     "execution_count": 2,
     "metadata": {},
     "output_type": "execute_result"
    }
   ],
   "source": [
    "import numpy as np\n",
    "import pandas as pd\n",
    "\n",
    "dataFrame = pd.DataFrame(np.random.randn(4,3),\n",
    "             columns=['b','d','e'],\n",
    "             index=['台北','台中','台南','高雄'])\n",
    "dataFrame"
   ]
  },
  {
   "cell_type": "code",
   "execution_count": 3,
   "metadata": {},
   "outputs": [
    {
     "data": {
      "text/html": [
       "<div>\n",
       "<style scoped>\n",
       "    .dataframe tbody tr th:only-of-type {\n",
       "        vertical-align: middle;\n",
       "    }\n",
       "\n",
       "    .dataframe tbody tr th {\n",
       "        vertical-align: top;\n",
       "    }\n",
       "\n",
       "    .dataframe thead th {\n",
       "        text-align: right;\n",
       "    }\n",
       "</style>\n",
       "<table border=\"1\" class=\"dataframe\">\n",
       "  <thead>\n",
       "    <tr style=\"text-align: right;\">\n",
       "      <th></th>\n",
       "      <th>b</th>\n",
       "      <th>d</th>\n",
       "      <th>e</th>\n",
       "    </tr>\n",
       "  </thead>\n",
       "  <tbody>\n",
       "    <tr>\n",
       "      <th>台北</th>\n",
       "      <td>1.554299</td>\n",
       "      <td>2.482894</td>\n",
       "      <td>1.164447</td>\n",
       "    </tr>\n",
       "    <tr>\n",
       "      <th>台中</th>\n",
       "      <td>0.189859</td>\n",
       "      <td>0.220118</td>\n",
       "      <td>0.624572</td>\n",
       "    </tr>\n",
       "    <tr>\n",
       "      <th>台南</th>\n",
       "      <td>0.424321</td>\n",
       "      <td>2.508107</td>\n",
       "      <td>0.978221</td>\n",
       "    </tr>\n",
       "    <tr>\n",
       "      <th>高雄</th>\n",
       "      <td>0.961770</td>\n",
       "      <td>0.795811</td>\n",
       "      <td>0.055529</td>\n",
       "    </tr>\n",
       "  </tbody>\n",
       "</table>\n",
       "</div>"
      ],
      "text/plain": [
       "           b         d         e\n",
       "台北  1.554299  2.482894  1.164447\n",
       "台中  0.189859  0.220118  0.624572\n",
       "台南  0.424321  2.508107  0.978221\n",
       "高雄  0.961770  0.795811  0.055529"
      ]
     },
     "execution_count": 3,
     "metadata": {},
     "output_type": "execute_result"
    }
   ],
   "source": [
    "np.abs(dataFrame)"
   ]
  },
  {
   "cell_type": "code",
   "execution_count": 6,
   "metadata": {},
   "outputs": [
    {
     "data": {
      "text/plain": [
       "b    1.554299\n",
       "d   -0.220118\n",
       "e    1.164447\n",
       "dtype: float64"
      ]
     },
     "metadata": {},
     "output_type": "display_data"
    },
    {
     "data": {
      "text/plain": [
       "台北    1.554299\n",
       "台中    0.624572\n",
       "台南    0.978221\n",
       "高雄    0.961770\n",
       "dtype: float64"
      ]
     },
     "execution_count": 6,
     "metadata": {},
     "output_type": "execute_result"
    }
   ],
   "source": [
    "display(dataFrame.max())\n",
    "dataFrame.max(axis=1)"
   ]
  },
  {
   "cell_type": "code",
   "execution_count": 7,
   "metadata": {},
   "outputs": [
    {
     "data": {
      "text/plain": [
       "b   -0.189859\n",
       "d   -2.508107\n",
       "e   -0.055529\n",
       "dtype: float64"
      ]
     },
     "metadata": {},
     "output_type": "display_data"
    },
    {
     "data": {
      "text/plain": [
       "台北   -2.482894\n",
       "台中   -0.220118\n",
       "台南   -2.508107\n",
       "高雄   -0.795811\n",
       "dtype: float64"
      ]
     },
     "execution_count": 7,
     "metadata": {},
     "output_type": "execute_result"
    }
   ],
   "source": [
    "display(dataFrame.min())\n",
    "dataFrame.min(axis=1)"
   ]
  }
 ],
 "metadata": {
  "kernelspec": {
   "display_name": "Python 3",
   "language": "python",
   "name": "python3"
  },
  "language_info": {
   "codemirror_mode": {
    "name": "ipython",
    "version": 3
   },
   "file_extension": ".py",
   "mimetype": "text/x-python",
   "name": "python",
   "nbconvert_exporter": "python",
   "pygments_lexer": "ipython3",
   "version": "3.10.12"
  }
 },
 "nbformat": 4,
 "nbformat_minor": 2
}
