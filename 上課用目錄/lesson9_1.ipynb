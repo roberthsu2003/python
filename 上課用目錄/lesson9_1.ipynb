{
 "cells": [
  {
   "cell_type": "code",
   "execution_count": 4,
   "metadata": {},
   "outputs": [],
   "source": [
    "import random\n",
    "\n",
    "def generate_stu()->list[int]:\n",
    "    scores = []\n",
    "    for _ in range(5):\n",
    "        scores.append(random.randint(50,100))\n",
    "    return scores\n",
    "\n",
    "def getNames(num:int) -> list[str]:\n",
    "    with open(\"names.txt\",encoding=\"utf-8\") as file:\n",
    "        names = []\n",
    "        for name in file:\n",
    "            names.append(name.rstrip())\n",
    "    return random.choices(names,k=num)"
   ]
  },
  {
   "cell_type": "code",
   "execution_count": 6,
   "metadata": {},
   "outputs": [
    {
     "name": "stdout",
     "output_type": "stream",
     "text": [
      "請輸入學生的人數:10\n"
     ]
    },
    {
     "data": {
      "text/plain": [
       "[['黎惠雯', 78, 54, 67, 85, 71],\n",
       " ['林義皓', 72, 99, 83, 92, 78],\n",
       " ['黃婷婷', 77, 92, 56, 94, 77],\n",
       " ['朱彥志', 95, 50, 59, 70, 85],\n",
       " ['鄧淑娟', 84, 59, 100, 61, 84],\n",
       " ['黃江旭', 91, 53, 65, 64, 86],\n",
       " ['林瑞喬', 53, 68, 58, 99, 78],\n",
       " ['黃偉剛', 71, 70, 55, 95, 51],\n",
       " ['方雅慧', 96, 99, 85, 75, 85],\n",
       " ['楊建安', 75, 68, 82, 64, 76]]"
      ]
     },
     "execution_count": 6,
     "metadata": {},
     "output_type": "execute_result"
    }
   ],
   "source": [
    "import pyinputplus as pyip\n",
    "\n",
    "num = pyip.inputInt('請輸入學生的人數:',min=5,max=50)\n",
    "print(num)\n",
    "names = getNames(num=num) #建立學生姓名的list\n",
    "students = []\n",
    "for i in range(num):\n",
    "    scores =  generate_stu() #建立學生的5個分數\n",
    "    scores.insert(0,names[i]) #將學生姓名加入至list內\n",
    "    students.append(scores)\n",
    "\n",
    "students"
   ]
  },
  {
   "cell_type": "code",
   "execution_count": 7,
   "metadata": {},
   "outputs": [
    {
     "name": "stdout",
     "output_type": "stream",
     "text": [
      "存檔成功\n"
     ]
    }
   ],
   "source": [
    "import csv\n",
    "with open(\"學生成績.csv\",mode='w',encoding=\"utf-8\",newline='') as file:\n",
    "    csv_writer = csv.writer(file)\n",
    "    csv_writer.writerows(students)\n",
    "print(\"存檔成功\")"
   ]
  },
  {
   "cell_type": "code",
   "execution_count": 11,
   "metadata": {},
   "outputs": [],
   "source": [
    "def save_csv_file(filename:str, data:list) -> bool:\n",
    "    try:\n",
    "        with open(filename,mode='w',encoding=\"utf-8\",newline='') as file:\n",
    "            csv_writer = csv.writer(file)\n",
    "            csv_writer.writerow([\"姓名\",\"國文\",\"英文\",\"數學\",\"地理\",\"歷史\"])\n",
    "            csv_writer.writerows(data)\n",
    "    except:\n",
    "        return False\n",
    "    else:\n",
    "        return True"
   ]
  },
  {
   "cell_type": "code",
   "execution_count": 13,
   "metadata": {},
   "outputs": [
    {
     "name": "stdout",
     "output_type": "stream",
     "text": [
      "存檔成功\n"
     ]
    }
   ],
   "source": [
    "fname = input(\"請輸入csv儲檔的檔案名稱:\")\n",
    "if save_csv_file(filename=f\"{fname}.csv\",data=students):\n",
    "    print(\"存檔成功\")\n",
    "else:\n",
    "    print(\"存檔失敗\")"
   ]
  }
 ],
 "metadata": {
  "kernelspec": {
   "display_name": "Python 3",
   "language": "python",
   "name": "python3"
  },
  "language_info": {
   "codemirror_mode": {
    "name": "ipython",
    "version": 3
   },
   "file_extension": ".py",
   "mimetype": "text/x-python",
   "name": "python",
   "nbconvert_exporter": "python",
   "pygments_lexer": "ipython3",
   "version": "3.10.12"
  },
  "orig_nbformat": 4
 },
 "nbformat": 4,
 "nbformat_minor": 2
}
