{
 "cells": [
  {
   "cell_type": "code",
   "execution_count": 16,
   "metadata": {},
   "outputs": [],
   "source": [
    "#自訂的class\n",
    "class Student:\n",
    "    def __init__(self,n,c,e,m): #自訂的初始化\n",
    "        self.name = n\n",
    "        self.chinese = c\n",
    "        self.english = e\n",
    "        self.math = m\n"
   ]
  },
  {
   "cell_type": "code",
   "execution_count": 19,
   "metadata": {},
   "outputs": [],
   "source": [
    "def student_info(student):\n",
    "    print(\"name:\",student.name)\n",
    "    print(\"chinese:\",student.chinese)\n",
    "    print(\"english:\",student.english)\n",
    "    print(\"math\",student.math)"
   ]
  },
  {
   "cell_type": "code",
   "execution_count": 20,
   "metadata": {},
   "outputs": [
    {
     "name": "stdout",
     "output_type": "stream",
     "text": [
      "name: 徐國堂\n",
      "chinese: 78\n",
      "english: 92\n",
      "math 65\n",
      "=============\n",
      "name: 張xx\n",
      "chinese: 65\n",
      "english: 56\n",
      "math 95\n",
      "=============\n",
      "name: 王xx\n",
      "chinese: 92\n",
      "english: 86\n",
      "math 75\n",
      "=============\n"
     ]
    }
   ],
   "source": [
    "stu1 = Student(n=\"徐國堂\",c=78,e=92,m=65)\n",
    "student_info(stu1)\n",
    "print(\"=============\")\n",
    "\n",
    "stu2 = Student(n=\"張xx\",c=65,e=56,m=95)\n",
    "student_info(stu2)\n",
    "print(\"=============\")\n",
    "\n",
    "stu3 = Student(n=\"王xx\",c=92,e=86,m=75)\n",
    "student_info(stu3)\n",
    "print(\"=============\")"
   ]
  }
 ],
 "metadata": {
  "kernelspec": {
   "display_name": "Python 3",
   "language": "python",
   "name": "python3"
  },
  "language_info": {
   "codemirror_mode": {
    "name": "ipython",
    "version": 3
   },
   "file_extension": ".py",
   "mimetype": "text/x-python",
   "name": "python",
   "nbconvert_exporter": "python",
   "pygments_lexer": "ipython3",
   "version": "3.10.12"
  },
  "orig_nbformat": 4
 },
 "nbformat": 4,
 "nbformat_minor": 2
}
