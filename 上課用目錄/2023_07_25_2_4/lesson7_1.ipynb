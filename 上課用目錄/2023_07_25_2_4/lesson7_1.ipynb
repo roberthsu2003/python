{
 "cells": [
  {
   "cell_type": "code",
   "execution_count": 1,
   "metadata": {},
   "outputs": [
    {
     "name": "stdout",
     "output_type": "stream",
     "text": [
      "quack\n"
     ]
    }
   ],
   "source": [
    "#沒有參數,沒有傳出值的function\n",
    "def make_a_sound()->None:\n",
    "    print(\"quack\")\n",
    "\n",
    "make_a_sound()"
   ]
  },
  {
   "cell_type": "code",
   "execution_count": 2,
   "metadata": {},
   "outputs": [
    {
     "name": "stdout",
     "output_type": "stream",
     "text": [
      "3 + 8 = 11\n",
      "3 * 8 = 24\n"
     ]
    }
   ],
   "source": [
    "def add(first:int,second:int)->None:\n",
    "    print(f\"{first} + {second} = {first+second}\")\n",
    "\n",
    "def multiple(first:int,second:int)->None:\n",
    "    print(f\"{first} * {second} = {first*second}\")\n",
    "\n",
    "#引數值呼叫\n",
    "add(3, 8)\n",
    "multiple(3, 8)"
   ]
  },
  {
   "cell_type": "code",
   "execution_count": 3,
   "metadata": {},
   "outputs": [
    {
     "name": "stdout",
     "output_type": "stream",
     "text": [
      "3 + 8 = 11\n",
      "3 * 8 = 24\n"
     ]
    }
   ],
   "source": [
    "#引數名稱的呼叫,可以不依順序\n",
    "add(first=3,second=8)\n",
    "multiple(second=8, first=3)#使用引數名稱呼叫,後面就不可以引數值呼叫"
   ]
  },
  {
   "cell_type": "code",
   "execution_count": 4,
   "metadata": {},
   "outputs": [
    {
     "name": "stdout",
     "output_type": "stream",
     "text": [
      "3 + 8 = 11\n",
      "3 * 8 = 24\n"
     ]
    }
   ],
   "source": [
    "#混合呼叫,前面用引數值呼叫,後面用引數名稱呼叫\n",
    "add(3,second=8)\n",
    "multiple(3,second=8)"
   ]
  }
 ],
 "metadata": {
  "kernelspec": {
   "display_name": "Python 3",
   "language": "python",
   "name": "python3"
  },
  "language_info": {
   "codemirror_mode": {
    "name": "ipython",
    "version": 3
   },
   "file_extension": ".py",
   "mimetype": "text/x-python",
   "name": "python",
   "nbconvert_exporter": "python",
   "pygments_lexer": "ipython3",
   "version": "3.10.12"
  },
  "orig_nbformat": 4
 },
 "nbformat": 4,
 "nbformat_minor": 2
}
