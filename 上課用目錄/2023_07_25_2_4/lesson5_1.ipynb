{
 "cells": [
  {
   "cell_type": "code",
   "execution_count": 3,
   "metadata": {},
   "outputs": [
    {
     "name": "stdout",
     "output_type": "stream",
     "text": [
      "獎金:0\n"
     ]
    }
   ],
   "source": [
    "chinese = int(input(\"請輸入國文分數\"))\n",
    "math = int(input(\"請輸入數學分數\"))\n",
    "#巢狀判斷\n",
    "bonus = 0\n",
    "if chinese == 100:\n",
    "    if math == 100:\n",
    "        bonus = 1000\n",
    "    else:\n",
    "        bonus = 500\n",
    "elif math == 100:\n",
    "    bonus = 500\n",
    "\n",
    "print(f\"獎金:{bonus}\")"
   ]
  },
  {
   "cell_type": "code",
   "execution_count": 6,
   "metadata": {},
   "outputs": [
    {
     "name": "stdout",
     "output_type": "stream",
     "text": [
      "獎金:0\n"
     ]
    }
   ],
   "source": [
    "chinese = int(input(\"請輸入國文分數\"))\n",
    "math = int(input(\"請輸入數學分數\"))\n",
    "#使用邏輯運算子\n",
    "bonus = 0\n",
    "\n",
    "if chinese == 100 and math == 100:\n",
    "    bonus = 1000\n",
    "elif chinese == 100 or math == 100:\n",
    "    bonus = 500\n",
    "print(f\"獎金:{bonus}\")"
   ]
  },
  {
   "cell_type": "code",
   "execution_count": 7,
   "metadata": {},
   "outputs": [
    {
     "name": "stdout",
     "output_type": "stream",
     "text": [
      "獎金:1000\n"
     ]
    }
   ],
   "source": [
    "chinese = int(input(\"請輸入國文分數\"))\n",
    "math = int(input(\"請輸入數學分數\"))\n",
    "#使用邏輯運算子\n",
    "bonus = 0\n",
    "#錯誤的寫法,嚴格的寫在上方\n",
    "if chinese == 100 or math == 100:\n",
    "    bonus = 1000\n",
    "elif chinese == 100 and math == 100:\n",
    "    bonus = 500\n",
    "print(f\"獎金:{bonus}\")"
   ]
  },
  {
   "cell_type": "code",
   "execution_count": 9,
   "metadata": {},
   "outputs": [
    {
     "name": "stdout",
     "output_type": "stream",
     "text": [
      "血壓正常\n"
     ]
    }
   ],
   "source": [
    "presure = int(input(\"請輸入血壓值\"))\n",
    "if presure >= 80 and presure <= 120:\n",
    "    print(\"血壓正常\")\n",
    "else:\n",
    "    print(\"血壓不正常\")\n"
   ]
  },
  {
   "cell_type": "code",
   "execution_count": 12,
   "metadata": {},
   "outputs": [
    {
     "name": "stdout",
     "output_type": "stream",
     "text": [
      "血壓不正常\n"
     ]
    }
   ],
   "source": [
    "presure = int(input(\"請輸入血壓值\"))\n",
    "if presure < 80 or presure > 120:\n",
    "    print(\"血壓不正常\")\n",
    "else:\n",
    "    print(\"血壓正常\")"
   ]
  },
  {
   "cell_type": "code",
   "execution_count": 15,
   "metadata": {},
   "outputs": [
    {
     "name": "stdout",
     "output_type": "stream",
     "text": [
      "您的身高:178\n",
      "您的體重:78\n",
      "BMI值24.62\n",
      "提示:過重\n"
     ]
    }
   ],
   "source": [
    "#BMI計算後分析\n",
    "height = int(input(\"請輸入身高,單位為(公分):\"))\n",
    "weight = int(input(\"請輸入體重,單位為(公斤):\"))\n",
    "\n",
    "bmi = weight / (height/100) ** 2\n",
    "suggest = \"\"\n",
    "\n",
    "if bmi < 18.5:\n",
    "    suggest = \"體重過輕\"\n",
    "elif bmi < 24:\n",
    "    suggest = \"正常範圍\"\n",
    "elif bmi < 27:\n",
    "    suggest = \"過重\"\n",
    "elif bmi < 30:\n",
    "    suggest = \"輕度肥胖\"\n",
    "elif bmi < 35:\n",
    "    suggest = \"中度肥胖\"\n",
    "else:\n",
    "    suggest = \"重度肥胖\"\n",
    "\n",
    "print(f\"您的身高:{height}\")\n",
    "print(f\"您的體重:{weight}\")\n",
    "#print(f\"BMI值{bmi:.2f}\")\n",
    "print(f\"BMI值{round(bmi,ndigits=2)}\")\n",
    "print(f\"提示:{suggest}\")\n"
   ]
  }
 ],
 "metadata": {
  "kernelspec": {
   "display_name": "Python 3",
   "language": "python",
   "name": "python3"
  },
  "language_info": {
   "codemirror_mode": {
    "name": "ipython",
    "version": 3
   },
   "file_extension": ".py",
   "mimetype": "text/x-python",
   "name": "python",
   "nbconvert_exporter": "python",
   "pygments_lexer": "ipython3",
   "version": "3.10.12"
  },
  "orig_nbformat": 4
 },
 "nbformat": 4,
 "nbformat_minor": 2
}
