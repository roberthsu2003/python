{
 "cells": [
  {
   "cell_type": "code",
   "execution_count": 2,
   "metadata": {},
   "outputs": [],
   "source": [
    "#參數的沒有default值\n",
    "def scores(chinese, english, math):\n",
    "    print(f\"國文:{chinese},英文:{english},數學:{math}\")"
   ]
  },
  {
   "cell_type": "code",
   "execution_count": 7,
   "metadata": {},
   "outputs": [
    {
     "name": "stdout",
     "output_type": "stream",
     "text": [
      "國文:78,英文:89,數學:92\n",
      "國文:89,英文:92,數學:73\n"
     ]
    }
   ],
   "source": [
    "scores(78,89,math=92)\n",
    "scores(89, 92, 73)"
   ]
  },
  {
   "cell_type": "code",
   "execution_count": 6,
   "metadata": {},
   "outputs": [
    {
     "name": "stdout",
     "output_type": "stream",
     "text": [
      "國文:89,英文:60,數學:60\n",
      "國文:90,英文:60,數學:89\n",
      "國文:75,英文:95,數學:45\n"
     ]
    }
   ],
   "source": [
    "#參數有default,一定要放在最後\n",
    "def scores1(chinese, english=60, math=60):\n",
    "    print(f\"國文:{chinese},英文:{english},數學:{math}\")\n",
    "\n",
    "scores1(89)\n",
    "scores1(90,math=89)\n",
    "scores1(75,math=45,english=95)"
   ]
  },
  {
   "cell_type": "code",
   "execution_count": 11,
   "metadata": {},
   "outputs": [
    {
     "name": "stdout",
     "output_type": "stream",
     "text": [
      "50到150的質數是:\n",
      "53 59 61 67 71 73 79 83 89 97 101 103 107 109 113 127 131 137 139 149 "
     ]
    }
   ],
   "source": [
    "def print_prime(first,end): \n",
    "    if first < 2:\n",
    "        first = 2\n",
    "\n",
    "    print(f\"{first}到{end}的質數是:\")\n",
    "    for num in range(first,end+1):\n",
    "        is_prime = True\n",
    "        for i in range(2,num):\n",
    "            if num % i == 0:\n",
    "                is_prime = False\n",
    "\n",
    "        if is_prime:\n",
    "            print(f\"{num}\",end=\" \")\n",
    "\n",
    "f = int(input(\"請輸入first值:\"))\n",
    "e = int(input(\"請輸入end值:\"))\n",
    "print_prime(f,e)"
   ]
  },
  {
   "cell_type": "code",
   "execution_count": 15,
   "metadata": {},
   "outputs": [
    {
     "name": "stdout",
     "output_type": "stream",
     "text": [
      "400\n"
     ]
    }
   ],
   "source": [
    "#傳出值的function\n",
    "\n",
    "def add(first, second):\n",
    "    return first + second\n",
    "    print(\"function 結束\")\n",
    "\n",
    "total = add(150, 250)\n",
    "print(total)"
   ]
  },
  {
   "cell_type": "code",
   "execution_count": 16,
   "metadata": {},
   "outputs": [
    {
     "data": {
      "text/plain": [
       "23"
      ]
     },
     "execution_count": 16,
     "metadata": {},
     "output_type": "execute_result"
    }
   ],
   "source": [
    "#python3.7版就有支援\n",
    "#參數和傳出值,型別的提醒\n",
    "#這只是提醒,可有可無\n",
    "def add1(first:int, second:int) -> int:\n",
    "    return first + second\n",
    "total1 = add1(8,15)\n",
    "total1"
   ]
  },
  {
   "cell_type": "code",
   "execution_count": 17,
   "metadata": {},
   "outputs": [
    {
     "data": {
      "text/plain": [
       "134.9"
      ]
     },
     "execution_count": 17,
     "metadata": {},
     "output_type": "execute_result"
    }
   ],
   "source": [
    "def add2(first:int|float, second:int|float) -> int|float:\n",
    "    return first + second\n",
    "\n",
    "total2 = add2(56,78.9)\n",
    "total2"
   ]
  },
  {
   "cell_type": "code",
   "execution_count": 18,
   "metadata": {},
   "outputs": [
    {
     "name": "stdout",
     "output_type": "stream",
     "text": [
      "1 2 3 a b c 32.1 92.8\n"
     ]
    }
   ],
   "source": [
    "print(1,2,3,'a','b','c',32.1,92.8)"
   ]
  },
  {
   "cell_type": "code",
   "execution_count": 19,
   "metadata": {},
   "outputs": [
    {
     "name": "stdout",
     "output_type": "stream",
     "text": [
      "1-2-3-a-b-c-32.1-92.8\n"
     ]
    }
   ],
   "source": [
    "print(1,2,3,'a','b','c',32.1,92.8,sep='-')"
   ]
  },
  {
   "cell_type": "code",
   "execution_count": 20,
   "metadata": {},
   "outputs": [
    {
     "name": "stdout",
     "output_type": "stream",
     "text": [
      "1-2-3-a-b-c-32.1-92.8。\n"
     ]
    }
   ],
   "source": [
    "print(1,2,3,'a','b','c',32.1,92.8,end=\"。\\n\",sep='-')"
   ]
  }
 ],
 "metadata": {
  "kernelspec": {
   "display_name": "Python 3",
   "language": "python",
   "name": "python3"
  },
  "language_info": {
   "codemirror_mode": {
    "name": "ipython",
    "version": 3
   },
   "file_extension": ".py",
   "mimetype": "text/x-python",
   "name": "python",
   "nbconvert_exporter": "python",
   "pygments_lexer": "ipython3",
   "version": "3.10.12"
  },
  "orig_nbformat": 4
 },
 "nbformat": 4,
 "nbformat_minor": 2
}
