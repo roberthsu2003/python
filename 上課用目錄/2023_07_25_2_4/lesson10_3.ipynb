{
 "cells": [
  {
   "cell_type": "code",
   "execution_count": 4,
   "metadata": {},
   "outputs": [
    {
     "data": {
      "text/plain": [
       "([79, 92, 68, 75, 65], [78, 95, 68, 72, 65], [72, 91, 69, 71, 62])"
      ]
     },
     "execution_count": 4,
     "metadata": {},
     "output_type": "execute_result"
    }
   ],
   "source": [
    "#2維list\n",
    "students = [[79, 92, 68, 75, 65],\n",
    "            [78, 95, 68, 72, 65],\n",
    "            [72, 91, 69, 71, 62]]\n",
    "students[0] , students[1], students[2]"
   ]
  },
  {
   "cell_type": "code",
   "execution_count": 5,
   "metadata": {},
   "outputs": [
    {
     "name": "stdout",
     "output_type": "stream",
     "text": [
      "[79, 92, 68, 75, 65]\n",
      "[78, 95, 68, 72, 65]\n",
      "[72, 91, 69, 71, 62]\n"
     ]
    }
   ],
   "source": [
    "for student in students:\n",
    "    print(student)\n"
   ]
  },
  {
   "cell_type": "code",
   "execution_count": 6,
   "metadata": {},
   "outputs": [
    {
     "data": {
      "text/plain": [
       "[[96, 81, 95, 58, 73],\n",
       " [62, 59, 95, 99, 99],\n",
       " [100, 94, 90, 93, 87],\n",
       " [93, 90, 54, 79, 89],\n",
       " [76, 91, 93, 85, 92],\n",
       " [80, 72, 96, 50, 59],\n",
       " [81, 75, 97, 89, 79],\n",
       " [69, 63, 76, 88, 70],\n",
       " [61, 73, 66, 76, 91],\n",
       " [80, 53, 64, 62, 63],\n",
       " [55, 79, 91, 78, 52],\n",
       " [81, 65, 67, 92, 96],\n",
       " [51, 71, 63, 98, 54],\n",
       " [57, 71, 70, 76, 69],\n",
       " [59, 59, 53, 77, 71],\n",
       " [96, 61, 98, 68, 93],\n",
       " [53, 91, 74, 77, 90],\n",
       " [99, 92, 96, 75, 85],\n",
       " [53, 65, 78, 76, 88],\n",
       " [74, 81, 69, 84, 99],\n",
       " [71, 92, 84, 83, 90],\n",
       " [73, 55, 79, 89, 92],\n",
       " [90, 91, 68, 60, 71],\n",
       " [97, 55, 74, 59, 51],\n",
       " [91, 64, 58, 60, 83],\n",
       " [79, 86, 68, 52, 80],\n",
       " [79, 98, 55, 96, 97],\n",
       " [62, 93, 74, 62, 97],\n",
       " [84, 89, 64, 57, 79],\n",
       " [51, 50, 69, 66, 65],\n",
       " [99, 81, 51, 72, 63],\n",
       " [57, 90, 97, 87, 96],\n",
       " [66, 66, 95, 71, 52],\n",
       " [62, 56, 100, 72, 100],\n",
       " [86, 79, 84, 51, 62],\n",
       " [88, 75, 52, 68, 84],\n",
       " [69, 71, 84, 79, 84],\n",
       " [80, 95, 91, 76, 59],\n",
       " [84, 66, 74, 75, 70],\n",
       " [87, 90, 64, 53, 59],\n",
       " [63, 81, 96, 73, 84],\n",
       " [62, 69, 92, 59, 98],\n",
       " [91, 61, 93, 93, 79],\n",
       " [54, 52, 57, 64, 59],\n",
       " [87, 60, 63, 82, 81],\n",
       " [55, 62, 52, 56, 63],\n",
       " [99, 68, 59, 60, 50],\n",
       " [66, 82, 71, 75, 52],\n",
       " [75, 74, 84, 72, 94],\n",
       " [88, 81, 56, 59, 85]]"
      ]
     },
     "execution_count": 6,
     "metadata": {},
     "output_type": "execute_result"
    }
   ],
   "source": [
    "import random\n",
    "def get_score() -> list:\n",
    "    score = []\n",
    "    for i in range(5):\n",
    "        score.append(random.randint(50, 100))\n",
    "    return score\n",
    "\n",
    "students = []\n",
    "for i in range(50):\n",
    "    scores = get_score()\n",
    "    students.append(scores)\n",
    "students\n"
   ]
  }
 ],
 "metadata": {
  "kernelspec": {
   "display_name": "Python 3",
   "language": "python",
   "name": "python3"
  },
  "language_info": {
   "codemirror_mode": {
    "name": "ipython",
    "version": 3
   },
   "file_extension": ".py",
   "mimetype": "text/x-python",
   "name": "python",
   "nbconvert_exporter": "python",
   "pygments_lexer": "ipython3",
   "version": "3.10.8"
  },
  "orig_nbformat": 4
 },
 "nbformat": 4,
 "nbformat_minor": 2
}
