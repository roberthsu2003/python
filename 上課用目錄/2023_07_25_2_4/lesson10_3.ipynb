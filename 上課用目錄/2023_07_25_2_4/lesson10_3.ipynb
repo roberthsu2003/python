{
 "cells": [
  {
   "cell_type": "code",
   "execution_count": 6,
   "metadata": {},
   "outputs": [
    {
     "data": {
      "text/plain": [
       "([79, 92, 68, 75, 65], [78, 95, 68, 72, 65], [72, 91, 69, 71, 62])"
      ]
     },
     "execution_count": 6,
     "metadata": {},
     "output_type": "execute_result"
    }
   ],
   "source": [
    "#2維list\n",
    "students = [[79, 92, 68, 75, 65],\n",
    "            [78, 95, 68, 72, 65],\n",
    "            [72, 91, 69, 71, 62]]\n",
    "students[0] , students[1], students[2]"
   ]
  },
  {
   "cell_type": "code",
   "execution_count": 7,
   "metadata": {},
   "outputs": [
    {
     "name": "stdout",
     "output_type": "stream",
     "text": [
      "[79, 92, 68, 75, 65]\n",
      "[78, 95, 68, 72, 65]\n",
      "[72, 91, 69, 71, 62]\n"
     ]
    }
   ],
   "source": [
    "for student in students:\n",
    "    print(student)\n"
   ]
  },
  {
   "cell_type": "code",
   "execution_count": 8,
   "metadata": {},
   "outputs": [
    {
     "data": {
      "text/plain": [
       "[[68, 72, 98, 80, 91],\n",
       " [61, 72, 51, 57, 84],\n",
       " [66, 98, 98, 70, 71],\n",
       " [96, 89, 59, 80, 55],\n",
       " [70, 89, 92, 68, 52],\n",
       " [94, 55, 56, 81, 92],\n",
       " [59, 58, 68, 58, 94],\n",
       " [97, 84, 76, 77, 52],\n",
       " [62, 59, 88, 77, 61],\n",
       " [55, 99, 98, 64, 88],\n",
       " [99, 58, 69, 99, 60],\n",
       " [74, 74, 84, 71, 63],\n",
       " [82, 79, 80, 97, 67],\n",
       " [62, 56, 99, 64, 75],\n",
       " [90, 69, 82, 70, 73],\n",
       " [71, 50, 50, 78, 95],\n",
       " [92, 71, 87, 80, 85],\n",
       " [50, 86, 79, 89, 69],\n",
       " [80, 67, 77, 89, 85],\n",
       " [51, 62, 53, 96, 67],\n",
       " [61, 66, 100, 78, 90],\n",
       " [90, 77, 57, 71, 73],\n",
       " [61, 68, 89, 58, 97],\n",
       " [56, 58, 58, 56, 89],\n",
       " [63, 58, 85, 81, 54],\n",
       " [87, 85, 57, 93, 95],\n",
       " [94, 52, 74, 65, 73],\n",
       " [53, 61, 69, 66, 82],\n",
       " [61, 65, 62, 63, 86],\n",
       " [90, 94, 59, 56, 78],\n",
       " [75, 73, 98, 84, 94],\n",
       " [50, 87, 89, 67, 81],\n",
       " [53, 61, 65, 86, 91],\n",
       " [55, 56, 62, 97, 100],\n",
       " [71, 63, 84, 91, 66],\n",
       " [55, 84, 58, 80, 54],\n",
       " [78, 53, 97, 54, 69],\n",
       " [83, 99, 81, 52, 62],\n",
       " [53, 73, 100, 69, 59],\n",
       " [94, 76, 64, 71, 78],\n",
       " [70, 91, 99, 85, 82],\n",
       " [52, 53, 87, 89, 67],\n",
       " [70, 89, 70, 71, 99],\n",
       " [66, 85, 78, 79, 92],\n",
       " [61, 87, 90, 95, 100],\n",
       " [68, 66, 53, 85, 59],\n",
       " [90, 59, 71, 73, 73],\n",
       " [90, 100, 91, 77, 65],\n",
       " [54, 54, 97, 76, 51],\n",
       " [61, 80, 75, 62, 56]]"
      ]
     },
     "execution_count": 8,
     "metadata": {},
     "output_type": "execute_result"
    }
   ],
   "source": [
    "import random\n",
    "def get_score() -> list:\n",
    "    score = []\n",
    "    for i in range(5):\n",
    "        score.append(random.randint(50, 100))\n",
    "    return score\n",
    "\n",
    "students = []\n",
    "for i in range(50):\n",
    "    scores = get_score()\n",
    "    students.append(scores)\n",
    "students\n"
   ]
  }
 ],
 "metadata": {
  "kernelspec": {
   "display_name": "Python 3",
   "language": "python",
   "name": "python3"
  },
  "language_info": {
   "codemirror_mode": {
    "name": "ipython",
    "version": 3
   },
   "file_extension": ".py",
   "mimetype": "text/x-python",
   "name": "python",
   "nbconvert_exporter": "python",
   "pygments_lexer": "ipython3",
   "version": "3.10.8"
  },
  "orig_nbformat": 4
 },
 "nbformat": 4,
 "nbformat_minor": 2
}
