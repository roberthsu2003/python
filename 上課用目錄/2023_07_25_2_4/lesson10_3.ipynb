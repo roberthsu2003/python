{
 "cells": [
  {
   "cell_type": "code",
   "execution_count": 2,
   "metadata": {},
   "outputs": [
    {
     "data": {
      "text/plain": [
       "([79, 92, 68, 75, 65], [78, 95, 68, 72, 65], [72, 91, 69, 71, 62])"
      ]
     },
     "execution_count": 2,
     "metadata": {},
     "output_type": "execute_result"
    }
   ],
   "source": [
    "#2維list\n",
    "students = [[79, 92, 68, 75, 65],\n",
    "            [78, 95, 68, 72, 65],\n",
    "            [72, 91, 69, 71, 62]]\n",
    "students[0] , students[1], students[2]"
   ]
  },
  {
   "cell_type": "code",
   "execution_count": 4,
   "metadata": {},
   "outputs": [
    {
     "name": "stdout",
     "output_type": "stream",
     "text": [
      "[79, 92, 68, 75, 65]\n",
      "[78, 95, 68, 72, 65]\n",
      "[72, 91, 69, 71, 62]\n"
     ]
    }
   ],
   "source": [
    "for student in students:\n",
    "    print(student)"
   ]
  },
  {
   "cell_type": "code",
   "execution_count": 11,
   "metadata": {},
   "outputs": [
    {
     "data": {
      "text/plain": [
       "[[88, 87, 69, 59, 83],\n",
       " [56, 55, 55, 74, 62],\n",
       " [64, 95, 77, 85, 94],\n",
       " [67, 86, 57, 73, 71],\n",
       " [66, 84, 91, 63, 81],\n",
       " [77, 100, 97, 88, 84],\n",
       " [91, 65, 52, 57, 89],\n",
       " [98, 100, 79, 62, 95],\n",
       " [61, 100, 59, 60, 93],\n",
       " [52, 89, 72, 66, 88],\n",
       " [65, 88, 77, 74, 69],\n",
       " [78, 66, 78, 75, 95],\n",
       " [89, 59, 63, 74, 79],\n",
       " [95, 90, 61, 93, 98],\n",
       " [84, 56, 87, 74, 78],\n",
       " [57, 89, 91, 87, 95],\n",
       " [81, 54, 90, 79, 77],\n",
       " [61, 96, 82, 84, 86],\n",
       " [87, 70, 96, 99, 59],\n",
       " [51, 71, 61, 53, 56],\n",
       " [62, 90, 78, 77, 80],\n",
       " [68, 55, 80, 61, 85],\n",
       " [96, 85, 91, 58, 87],\n",
       " [81, 57, 53, 67, 97],\n",
       " [70, 94, 100, 83, 66],\n",
       " [50, 61, 86, 81, 81],\n",
       " [80, 72, 85, 80, 72],\n",
       " [51, 57, 97, 90, 94],\n",
       " [93, 95, 96, 76, 61],\n",
       " [95, 53, 51, 90, 87],\n",
       " [53, 52, 73, 64, 52],\n",
       " [65, 98, 90, 74, 100],\n",
       " [78, 68, 98, 80, 69],\n",
       " [73, 93, 88, 77, 98],\n",
       " [85, 57, 51, 57, 84],\n",
       " [54, 80, 75, 79, 51],\n",
       " [89, 57, 84, 70, 76],\n",
       " [70, 92, 96, 91, 67],\n",
       " [99, 94, 60, 79, 64],\n",
       " [67, 64, 54, 68, 96],\n",
       " [91, 64, 53, 60, 57],\n",
       " [76, 65, 67, 94, 61],\n",
       " [74, 66, 84, 97, 78],\n",
       " [65, 50, 85, 54, 56],\n",
       " [54, 95, 78, 67, 66],\n",
       " [98, 64, 66, 87, 50],\n",
       " [100, 84, 87, 74, 98],\n",
       " [78, 81, 98, 96, 54],\n",
       " [92, 100, 85, 81, 99],\n",
       " [76, 75, 98, 63, 76]]"
      ]
     },
     "execution_count": 11,
     "metadata": {},
     "output_type": "execute_result"
    }
   ],
   "source": [
    "import random\n",
    "def get_score() -> list:\n",
    "    score = []\n",
    "    for i in range(5):\n",
    "        score.append(random.randint(50, 100))\n",
    "    return score\n",
    "\n",
    "students = []\n",
    "for i in range(50):\n",
    "    scores = get_score()\n",
    "    students.append(scores)\n",
    "students\n"
   ]
  }
 ],
 "metadata": {
  "kernelspec": {
   "display_name": "Python 3",
   "language": "python",
   "name": "python3"
  },
  "language_info": {
   "codemirror_mode": {
    "name": "ipython",
    "version": 3
   },
   "file_extension": ".py",
   "mimetype": "text/x-python",
   "name": "python",
   "nbconvert_exporter": "python",
   "pygments_lexer": "ipython3",
   "version": "3.10.8"
  },
  "orig_nbformat": 4
 },
 "nbformat": 4,
 "nbformat_minor": 2
}
