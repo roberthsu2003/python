{
 "cells": [
  {
   "cell_type": "code",
   "execution_count": 1,
   "metadata": {},
   "outputs": [
    {
     "data": {
      "text/plain": [
       "([79, 92, 68, 75, 65], [78, 95, 68, 72, 65], [72, 91, 69, 71, 62])"
      ]
     },
     "execution_count": 1,
     "metadata": {},
     "output_type": "execute_result"
    }
   ],
   "source": [
    "#2維list\n",
    "students = [[79, 92, 68, 75, 65],\n",
    "            [78, 95, 68, 72, 65],\n",
    "            [72, 91, 69, 71, 62]]\n",
    "students[0] , students[1], students[2]"
   ]
  },
  {
   "cell_type": "code",
   "execution_count": 2,
   "metadata": {},
   "outputs": [
    {
     "name": "stdout",
     "output_type": "stream",
     "text": [
      "[79, 92, 68, 75, 65]\n",
      "[78, 95, 68, 72, 65]\n",
      "[72, 91, 69, 71, 62]\n"
     ]
    }
   ],
   "source": [
    "for student in students:\n",
    "    print(student)\n"
   ]
  },
  {
   "cell_type": "code",
   "execution_count": 3,
   "metadata": {},
   "outputs": [
    {
     "data": {
      "text/plain": [
       "[[93, 63, 85, 71, 59],\n",
       " [83, 78, 60, 85, 84],\n",
       " [78, 100, 78, 94, 54],\n",
       " [63, 69, 71, 52, 51],\n",
       " [53, 94, 86, 76, 92],\n",
       " [72, 70, 72, 77, 69],\n",
       " [92, 77, 79, 53, 86],\n",
       " [78, 81, 79, 73, 62],\n",
       " [98, 62, 58, 71, 85],\n",
       " [77, 85, 100, 67, 95],\n",
       " [100, 66, 60, 90, 59],\n",
       " [78, 81, 97, 91, 53],\n",
       " [72, 61, 78, 73, 94],\n",
       " [63, 76, 74, 100, 52],\n",
       " [70, 64, 53, 97, 71],\n",
       " [98, 59, 63, 81, 67],\n",
       " [87, 72, 63, 51, 72],\n",
       " [98, 81, 76, 75, 92],\n",
       " [93, 100, 55, 62, 59],\n",
       " [84, 100, 84, 53, 60],\n",
       " [50, 77, 98, 94, 96],\n",
       " [100, 68, 98, 80, 69],\n",
       " [53, 57, 100, 90, 86],\n",
       " [69, 60, 98, 75, 93],\n",
       " [70, 66, 70, 54, 90],\n",
       " [99, 84, 78, 66, 69],\n",
       " [87, 81, 88, 52, 65],\n",
       " [72, 90, 81, 65, 69],\n",
       " [98, 91, 62, 55, 74],\n",
       " [59, 63, 65, 64, 90],\n",
       " [76, 54, 75, 85, 75],\n",
       " [77, 58, 87, 80, 61],\n",
       " [50, 61, 59, 86, 51],\n",
       " [61, 52, 93, 82, 87],\n",
       " [76, 88, 94, 64, 88],\n",
       " [91, 58, 57, 93, 61],\n",
       " [64, 78, 97, 79, 65],\n",
       " [81, 65, 93, 74, 57],\n",
       " [86, 99, 77, 100, 94],\n",
       " [57, 58, 85, 69, 60],\n",
       " [63, 91, 50, 95, 58],\n",
       " [95, 76, 83, 82, 59],\n",
       " [77, 95, 60, 77, 91],\n",
       " [57, 52, 87, 87, 51],\n",
       " [73, 89, 57, 64, 89],\n",
       " [97, 87, 59, 83, 78],\n",
       " [88, 83, 94, 96, 70],\n",
       " [62, 97, 88, 94, 91],\n",
       " [86, 76, 91, 76, 74],\n",
       " [81, 65, 95, 92, 89]]"
      ]
     },
     "execution_count": 3,
     "metadata": {},
     "output_type": "execute_result"
    }
   ],
   "source": [
    "import random\n",
    "def get_score() -> list:\n",
    "    score = []\n",
    "    for i in range(5):\n",
    "        score.append(random.randint(50, 100))\n",
    "    return score\n",
    "\n",
    "students = []\n",
    "for i in range(50):\n",
    "    scores = get_score()\n",
    "    students.append(scores)\n",
    "students\n"
   ]
  }
 ],
 "metadata": {
  "kernelspec": {
   "display_name": "Python 3",
   "language": "python",
   "name": "python3"
  },
  "language_info": {
   "codemirror_mode": {
    "name": "ipython",
    "version": 3
   },
   "file_extension": ".py",
   "mimetype": "text/x-python",
   "name": "python",
   "nbconvert_exporter": "python",
   "pygments_lexer": "ipython3",
   "version": "3.10.8"
  },
  "orig_nbformat": 4
 },
 "nbformat": 4,
 "nbformat_minor": 2
}
