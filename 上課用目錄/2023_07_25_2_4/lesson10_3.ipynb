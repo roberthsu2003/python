{
 "cells": [
  {
   "cell_type": "code",
   "execution_count": 3,
   "metadata": {},
   "outputs": [
    {
     "data": {
      "text/plain": [
       "([79, 92, 68, 75, 65], [78, 95, 68, 72, 65], [72, 91, 69, 71, 62])"
      ]
     },
     "execution_count": 3,
     "metadata": {},
     "output_type": "execute_result"
    }
   ],
   "source": [
    "#2維list\n",
    "students = [[79, 92, 68, 75, 65],\n",
    "            [78, 95, 68, 72, 65],\n",
    "            [72, 91, 69, 71, 62]]\n",
    "students[0] , students[1], students[2]"
   ]
  },
  {
   "cell_type": "code",
   "execution_count": 4,
   "metadata": {},
   "outputs": [
    {
     "name": "stdout",
     "output_type": "stream",
     "text": [
      "[79, 92, 68, 75, 65]\n",
      "[78, 95, 68, 72, 65]\n",
      "[72, 91, 69, 71, 62]\n"
     ]
    }
   ],
   "source": [
    "for student in students:\n",
    "    print(student)"
   ]
  },
  {
   "cell_type": "code",
   "execution_count": 5,
   "metadata": {},
   "outputs": [
    {
     "data": {
      "text/plain": [
       "[[86, 91, 97, 67, 83],\n",
       " [93, 68, 57, 86, 90],\n",
       " [90, 57, 70, 92, 83],\n",
       " [56, 68, 71, 59, 77],\n",
       " [99, 94, 85, 92, 96],\n",
       " [61, 73, 100, 89, 83],\n",
       " [53, 73, 83, 76, 53],\n",
       " [98, 70, 61, 90, 69],\n",
       " [76, 88, 77, 82, 65],\n",
       " [97, 83, 81, 57, 59],\n",
       " [73, 63, 60, 55, 91],\n",
       " [78, 90, 76, 97, 53],\n",
       " [74, 77, 75, 82, 85],\n",
       " [87, 59, 82, 88, 58],\n",
       " [76, 85, 93, 95, 63],\n",
       " [51, 68, 100, 100, 80],\n",
       " [99, 73, 61, 77, 67],\n",
       " [70, 58, 82, 62, 61],\n",
       " [60, 91, 52, 52, 100],\n",
       " [81, 56, 52, 57, 81],\n",
       " [85, 75, 60, 94, 79],\n",
       " [58, 64, 54, 85, 71],\n",
       " [99, 88, 77, 81, 65],\n",
       " [52, 61, 94, 54, 100],\n",
       " [83, 100, 74, 65, 73],\n",
       " [95, 55, 89, 60, 72],\n",
       " [67, 83, 56, 84, 79],\n",
       " [99, 50, 79, 61, 81],\n",
       " [69, 96, 72, 93, 65],\n",
       " [72, 90, 75, 56, 84],\n",
       " [69, 63, 95, 90, 98],\n",
       " [89, 92, 89, 50, 76],\n",
       " [85, 90, 75, 60, 97],\n",
       " [56, 83, 87, 69, 51],\n",
       " [84, 82, 87, 64, 92],\n",
       " [91, 74, 74, 52, 88],\n",
       " [72, 88, 89, 88, 54],\n",
       " [73, 64, 100, 54, 51],\n",
       " [83, 100, 69, 54, 96],\n",
       " [95, 55, 90, 94, 79],\n",
       " [81, 67, 93, 55, 74],\n",
       " [52, 85, 70, 95, 55],\n",
       " [81, 82, 67, 83, 79],\n",
       " [75, 72, 51, 99, 97],\n",
       " [86, 68, 81, 85, 63],\n",
       " [100, 92, 54, 94, 89],\n",
       " [93, 97, 54, 81, 68],\n",
       " [83, 86, 65, 79, 84],\n",
       " [62, 51, 52, 53, 54],\n",
       " [76, 85, 74, 65, 95]]"
      ]
     },
     "execution_count": 5,
     "metadata": {},
     "output_type": "execute_result"
    }
   ],
   "source": [
    "import random\n",
    "def get_score() -> list:\n",
    "    score = []\n",
    "    for i in range(5):\n",
    "        score.append(random.randint(50, 100))\n",
    "    return score\n",
    "\n",
    "students = []\n",
    "for i in range(50):\n",
    "    scores = get_score()\n",
    "    students.append(scores)\n",
    "students\n"
   ]
  }
 ],
 "metadata": {
  "kernelspec": {
   "display_name": "Python 3",
   "language": "python",
   "name": "python3"
  },
  "language_info": {
   "codemirror_mode": {
    "name": "ipython",
    "version": 3
   },
   "file_extension": ".py",
   "mimetype": "text/x-python",
   "name": "python",
   "nbconvert_exporter": "python",
   "pygments_lexer": "ipython3",
   "version": "3.10.8"
  },
  "orig_nbformat": 4
 },
 "nbformat": 4,
 "nbformat_minor": 2
}
