{
 "cells": [
  {
   "cell_type": "code",
   "execution_count": 1,
   "metadata": {},
   "outputs": [
    {
     "name": "stdout",
     "output_type": "stream",
     "text": [
      "學生等級:優\n"
     ]
    }
   ],
   "source": [
    "# 90(含)~100分為「優」\n",
    "# 80(含)~89分為「甲」\n",
    "# 70(含)~79分為「乙」\n",
    "# 60(含)~69分為「丙」\n",
    "# 0(含)~59分為「丁」\n",
    "\n",
    "score = int(input(\"請輸入學生分數:\"))\n",
    "if score >= 90:\n",
    "    grade = '優'\n",
    "else:\n",
    "    if score >= 80:\n",
    "        grade = '甲'\n",
    "    else:\n",
    "        if score >= 70:\n",
    "            grade = '乙'\n",
    "        else:\n",
    "            if score >= 60:\n",
    "                grade = '丙'\n",
    "            else:\n",
    "                grade = '丁'\n",
    "print(f\"學生等級:{grade}\")"
   ]
  },
  {
   "cell_type": "code",
   "execution_count": 9,
   "metadata": {},
   "outputs": [
    {
     "name": "stdout",
     "output_type": "stream",
     "text": [
      "學生等級:丁\n"
     ]
    }
   ],
   "source": [
    "score = int(input(\"請輸入學生分數:\"))\n",
    "#多項選擇\n",
    "if score >= 90:\n",
    "    grade = '優'\n",
    "elif score >= 80 :    \n",
    "    grade = '甲'\n",
    "elif score >= 70:\n",
    "    grade = '乙'              \n",
    "elif score >= 60:\n",
    "    grade = '丙'\n",
    "else:\n",
    "    grade = '丁'\n",
    "print(f\"學生等級:{grade}\")"
   ]
  },
  {
   "cell_type": "code",
   "execution_count": 11,
   "metadata": {},
   "outputs": [
    {
     "name": "stdout",
     "output_type": "stream",
     "text": [
      "實付金額:107653\n"
     ]
    }
   ],
   "source": [
    "#輸入顧客購買金額，若金額在\n",
    "#100000元打8折. \n",
    "#50000打85折. \n",
    "#30000打9折. \n",
    "#10000打95折.\n",
    "\n",
    "money = int(input(\"請輸入購買金額:\"))\n",
    "payMoney = 0\n",
    "if(money>=100000):\n",
    "    payMoney = money * 0.8\n",
    "elif(money >= 50000):\n",
    "    payMoney = money * 0.85\n",
    "elif(money >= 30000):\n",
    "    payMoney = money * 0.9\n",
    "elif(money >= 10000):\n",
    "    payMoney = money * 0.95\n",
    "else:\n",
    "    payMoney = money\n",
    "\n",
    "print(f\"實付金額:{int(payMoney)}\")"
   ]
  },
  {
   "cell_type": "code",
   "execution_count": null,
   "metadata": {},
   "outputs": [],
   "source": [
    "#輸入顧客購買金額，若金額在\n",
    "#100000元打8折. \n",
    "#50000打85折. \n",
    "#30000打9折. \n",
    "#10000打95折.\n",
    "\n",
    "money = int(input(\"請輸入購買金額:\"))\n",
    "payMoney = 0\n",
    "if(money<10000):\n",
    "    payMoney = money\n",
    "elif(money<30000):\n",
    "    payMoney = money * 0.95\n",
    "elif(money < 50000):\n",
    "    payMoney = money * 0.9\n",
    "elif(money < 100000):\n",
    "    payMoney = money * 0.85\n",
    "else:\n",
    "    payMoney = money * 0.8\n",
    "\n",
    "print(f\"實付金額:{int(payMoney)}\")"
   ]
  },
  {
   "cell_type": "code",
   "execution_count": 17,
   "metadata": {},
   "outputs": [
    {
     "name": "stdout",
     "output_type": "stream",
     "text": [
      "普遍級\n"
     ]
    }
   ],
   "source": [
    "#限制級：18歲或以上皆可欣賞。\n",
    "#輔導級：13(含) ~ 17歲以上皆可欣賞。\n",
    "#普遍級：12(含)歲以下皆可欣賞。\n",
    "#如果沒有輸入年齡預設為普遍級。\n",
    "\n",
    "age = input(\"請輸入年齡:\")\n",
    "rating = \"\"\n",
    "\n",
    "if age == '':\n",
    "    rating = '普遍級'\n",
    "elif int(age) >= 18:\n",
    "    rating = '限制級'\n",
    "elif int(age) >= 13:\n",
    "    rating = '輔導級'\n",
    "else:\n",
    "    rating = '普遍級'\n",
    "print(rating)\n"
   ]
  },
  {
   "cell_type": "code",
   "execution_count": 21,
   "metadata": {},
   "outputs": [
    {
     "name": "stdout",
     "output_type": "stream",
     "text": [
      "不加分\n"
     ]
    }
   ],
   "source": [
    "add = input(\"請問是否加分:(y,n)\")\n",
    "if not (add == 'n'):\n",
    "    print(\"加分\")\n",
    "else:    \n",
    "    print(\"不加分\")"
   ]
  }
 ],
 "metadata": {
  "kernelspec": {
   "display_name": "Python 3",
   "language": "python",
   "name": "python3"
  },
  "language_info": {
   "codemirror_mode": {
    "name": "ipython",
    "version": 3
   },
   "file_extension": ".py",
   "mimetype": "text/x-python",
   "name": "python",
   "nbconvert_exporter": "python",
   "pygments_lexer": "ipython3",
   "version": "3.10.12"
  },
  "orig_nbformat": 4
 },
 "nbformat": 4,
 "nbformat_minor": 2
}
