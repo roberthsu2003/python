{
 "cells": [
  {
   "cell_type": "markdown",
   "metadata": {},
   "source": [
    "## Default Factories\n",
    "\n",
    "- defualt value,如果使用method()產生不同的default value值,是無法完成的,如下範例"
   ]
  },
  {
   "cell_type": "code",
   "execution_count": 1,
   "metadata": {},
   "outputs": [
    {
     "data": {
      "text/plain": [
       "(Scores(chinese=94), Scores(chinese=94), Scores(chinese=94))"
      ]
     },
     "execution_count": 1,
     "metadata": {},
     "output_type": "execute_result"
    }
   ],
   "source": [
    "from datetime import datetime, timezone\n",
    "from pydantic import BaseModel,Field\n",
    "import random\n",
    "\n",
    "# defualt value,如果使用method()產生不同的default value值,是無法完成的,如下範例\n",
    "\n",
    "class Scores(BaseModel):\n",
    "    chinese:int = random.randint(50, 100)\n",
    "\n",
    "s1 = Scores()\n",
    "s2 = Scores()\n",
    "s3 = Scores()\n",
    "\n",
    "s1, s2, s3"
   ]
  },
  {
   "cell_type": "code",
   "execution_count": 3,
   "metadata": {},
   "outputs": [
    {
     "data": {
      "text/plain": [
       "(Scores(chinese=95), Scores(chinese=83), Scores(chinese=99))"
      ]
     },
     "execution_count": 3,
     "metadata": {},
     "output_type": "execute_result"
    }
   ],
   "source": [
    "#要解決這個問題就必需使用default factories\n",
    "\n",
    "class Scores(BaseModel):\n",
    "    chinese:int = Field(default_factory=lambda:random.randint(50,100))\n",
    "\n",
    "s1 = Scores()\n",
    "s2 = Scores()\n",
    "s3 = Scores()\n",
    "\n",
    "s1, s2, s3"
   ]
  },
  {
   "cell_type": "markdown",
   "metadata": {},
   "source": [
    "## Custome Serializers(自訂欄位的輸出)"
   ]
  },
  {
   "cell_type": "code",
   "execution_count": 5,
   "metadata": {},
   "outputs": [],
   "source": [
    "class Model(BaseModel):\n",
    "    number:float\n"
   ]
  },
  {
   "cell_type": "code",
   "execution_count": 8,
   "metadata": {},
   "outputs": [
    {
     "data": {
      "text/plain": [
       "{'number': 1.0}"
      ]
     },
     "execution_count": 8,
     "metadata": {},
     "output_type": "execute_result"
    }
   ],
   "source": [
    "m1 = Model(number=1.0)\n",
    "m1.model_dump()"
   ]
  },
  {
   "cell_type": "code",
   "execution_count": 9,
   "metadata": {},
   "outputs": [
    {
     "data": {
      "text/plain": [
       "{'number': 0.3333333333333333}"
      ]
     },
     "execution_count": 9,
     "metadata": {},
     "output_type": "execute_result"
    }
   ],
   "source": [
    "#m2的number輸出不是我要的\n",
    "m2 = Model(number=1/3)\n",
    "m2.model_dump()"
   ]
  },
  {
   "cell_type": "code",
   "execution_count": 10,
   "metadata": {},
   "outputs": [
    {
     "data": {
      "text/plain": [
       "'2024-03-14T05:35:52.712213+00:00'"
      ]
     },
     "execution_count": 10,
     "metadata": {},
     "output_type": "execute_result"
    }
   ],
   "source": [
    "#datetime預設的輸出格式\n",
    "dt = datetime.now(timezone.utc)\n",
    "dt.isoformat()"
   ]
  },
  {
   "cell_type": "code",
   "execution_count": 11,
   "metadata": {},
   "outputs": [
    {
     "data": {
      "text/plain": [
       "Model(dt=datetime.datetime(2024, 3, 14, 5, 38, 58, 929109, tzinfo=datetime.timezone.utc))"
      ]
     },
     "execution_count": 11,
     "metadata": {},
     "output_type": "execute_result"
    }
   ],
   "source": [
    "#想改變輸出格式\n",
    "class Model(BaseModel):\n",
    "    dt:datetime\n",
    "\n",
    "m = Model(dt=datetime.now(timezone.utc))\n",
    "m"
   ]
  },
  {
   "cell_type": "code",
   "execution_count": 13,
   "metadata": {},
   "outputs": [
    {
     "data": {
      "text/plain": [
       "'{\"dt\":\"2024-03-14T05:38:58.929109Z\"}'"
      ]
     },
     "execution_count": 13,
     "metadata": {},
     "output_type": "execute_result"
    }
   ],
   "source": [
    "#josn是純文字,沒有datetime資料類型,自動執行isoformat()\n",
    "m.model_dump_json()"
   ]
  },
  {
   "cell_type": "code",
   "execution_count": 14,
   "metadata": {},
   "outputs": [
    {
     "data": {
      "text/plain": [
       "{'number': 0.33}"
      ]
     },
     "execution_count": 14,
     "metadata": {},
     "output_type": "execute_result"
    }
   ],
   "source": [
    "#改變json輸出的格式,不要使用預設的格式\n",
    "from pydantic import field_serializer\n",
    "\n",
    "class Model(BaseModel):\n",
    "    number:float\n",
    "\n",
    "    @field_serializer(\"number\")\n",
    "    def serialize_float(self,value):\n",
    "        return round(value,2)\n",
    "\n",
    "m = Model(number=1/3)\n",
    "m.model_dump()"
   ]
  },
  {
   "cell_type": "code",
   "execution_count": 15,
   "metadata": {},
   "outputs": [
    {
     "data": {
      "text/plain": [
       "'{\"number\":0.33}'"
      ]
     },
     "execution_count": 15,
     "metadata": {},
     "output_type": "execute_result"
    }
   ],
   "source": [
    "m.model_dump_json()"
   ]
  },
  {
   "cell_type": "code",
   "execution_count": 17,
   "metadata": {},
   "outputs": [
    {
     "data": {
      "text/plain": [
       "{'number': 0.33,\n",
       " 'dt': datetime.datetime(2024, 3, 14, 5, 59, 58, 557387, tzinfo=datetime.timezone.utc)}"
      ]
     },
     "execution_count": 17,
     "metadata": {},
     "output_type": "execute_result"
    }
   ],
   "source": [
    "#只改變json輸出的格式,不要使用預設的格式,不改變model_dump()\n",
    "from pydantic import field_serializer\n",
    "\n",
    "class Model(BaseModel):\n",
    "    number:float\n",
    "    dt:datetime = Field(default_factory=lambda:datetime.now(timezone.utc))\n",
    "\n",
    "    @field_serializer(\"number\")\n",
    "    def serialize_float(self,value):\n",
    "        return round(value,2)\n",
    "    \n",
    "    @field_serializer(\"dt\",when_used='json-unless-none') #dt不是None,才做下面的動作\n",
    "    def serialize_datatime_tojson(self,value):\n",
    "        return value.strftime(\"%Y/%-m/%-d %I:%M %p\")\n",
    "\n",
    "m = Model(number=1/3)\n",
    "\n",
    "m.model_dump() #不會改變"
   ]
  },
  {
   "cell_type": "code",
   "execution_count": 19,
   "metadata": {},
   "outputs": [
    {
     "data": {
      "text/plain": [
       "'{\"number\":0.33,\"dt\":\"2024/3/14 05:59 AM\"}'"
      ]
     },
     "execution_count": 19,
     "metadata": {},
     "output_type": "execute_result"
    }
   ],
   "source": [
    "m.model_dump_json() #使用自訂的輸出格式"
   ]
  },
  {
   "cell_type": "markdown",
   "metadata": {},
   "source": [
    "## Custome Validators"
   ]
  },
  {
   "cell_type": "code",
   "execution_count": null,
   "metadata": {},
   "outputs": [],
   "source": [
    "from pydantic import field_validator,BaseModel\n",
    "\n",
    "class Model(BaseModel):\n",
    "    absolute: int = Field(ge=0)#限定只可以是大於等於0,ge,gt,le,lt\n",
    "\n",
    "Model(absolute=-5) #出錯\n"
   ]
  },
  {
   "cell_type": "code",
   "execution_count": 14,
   "metadata": {},
   "outputs": [
    {
     "name": "stdout",
     "output_type": "stream",
     "text": [
      "running custom validator:value=0,type(value)=<class 'int'>\n"
     ]
    },
    {
     "data": {
      "text/plain": [
       "Model(absolute=0)"
      ]
     },
     "execution_count": 14,
     "metadata": {},
     "output_type": "execute_result"
    }
   ],
   "source": [
    "class Model(BaseModel):\n",
    "    absolute: int \n",
    "\n",
    "    @field_validator(\"absolute\",mode='before')\n",
    "    @classmethod\n",
    "    def make_absolute(cls, value):\n",
    "        print(f'running custom validator:{value=},{type(value)=}')\n",
    "        return abs(value)\n",
    "\n",
    "Model(absolute=0)"
   ]
  },
  {
   "cell_type": "code",
   "execution_count": 15,
   "metadata": {},
   "outputs": [
    {
     "name": "stdout",
     "output_type": "stream",
     "text": [
      "running custom validator:value=-10,type(value)=<class 'int'>\n"
     ]
    },
    {
     "data": {
      "text/plain": [
       "Model(absolute=10)"
      ]
     },
     "execution_count": 15,
     "metadata": {},
     "output_type": "execute_result"
    }
   ],
   "source": [
    "Model(absolute=-10)"
   ]
  },
  {
   "cell_type": "code",
   "execution_count": 16,
   "metadata": {},
   "outputs": [
    {
     "name": "stdout",
     "output_type": "stream",
     "text": [
      "running custom validator:value=-10,type(value)=<class 'int'>\n"
     ]
    },
    {
     "data": {
      "text/plain": [
       "Model(absolute=10)"
      ]
     },
     "execution_count": 16,
     "metadata": {},
     "output_type": "execute_result"
    }
   ],
   "source": [
    "Model(absolute=\"-10\")"
   ]
  },
  {
   "cell_type": "code",
   "execution_count": 18,
   "metadata": {},
   "outputs": [],
   "source": [
    "class Model(BaseModel):\n",
    "    numbers:list[int] = []\n",
    "\n",
    "    @field_validator(\"numbers\")\n",
    "    @classmethod\n",
    "    def ensure_unique(cls, numbers):\n",
    "        if len(set(numbers)) != len(numbers):\n",
    "            raise ValueError(\"elements must be unique\")\n",
    "        return numbers"
   ]
  },
  {
   "cell_type": "code",
   "execution_count": 19,
   "metadata": {},
   "outputs": [
    {
     "data": {
      "text/plain": [
       "Model(numbers=[1, 2, 3])"
      ]
     },
     "execution_count": 19,
     "metadata": {},
     "output_type": "execute_result"
    }
   ],
   "source": [
    "Model(numbers=[1,2,3])\n"
   ]
  },
  {
   "cell_type": "code",
   "execution_count": 20,
   "metadata": {},
   "outputs": [
    {
     "name": "stdout",
     "output_type": "stream",
     "text": [
      "1 validation error for Model\n",
      "numbers\n",
      "  Value error, elements must be unique [type=value_error, input_value=['1', 1, '2', 3.0], input_type=list]\n",
      "    For further information visit https://errors.pydantic.dev/2.6/v/value_error\n"
     ]
    }
   ],
   "source": [
    "from pydantic import ValidationError\n",
    "try:\n",
    "    Model(numbers=[\"1\", 1, \"2\", 3.0])\n",
    "except ValidationError as ex:\n",
    "    print(ex)"
   ]
  }
 ],
 "metadata": {
  "kernelspec": {
   "display_name": "Python 3",
   "language": "python",
   "name": "python3"
  },
  "language_info": {
   "codemirror_mode": {
    "name": "ipython",
    "version": 3
   },
   "file_extension": ".py",
   "mimetype": "text/x-python",
   "name": "python",
   "nbconvert_exporter": "python",
   "pygments_lexer": "ipython3",
   "version": "3.10.13"
  }
 },
 "nbformat": 4,
 "nbformat_minor": 2
}
