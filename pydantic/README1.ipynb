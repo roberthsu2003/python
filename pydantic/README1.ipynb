{
 "cells": [
  {
   "cell_type": "markdown",
   "metadata": {},
   "source": [
    "## Default Factories\n",
    "\n",
    "- defualt value,如果使用method()產生不同的default value值,是無法完成的,如下範例"
   ]
  },
  {
   "cell_type": "code",
   "execution_count": 1,
   "metadata": {},
   "outputs": [
    {
     "data": {
      "text/plain": [
       "(Scores(chinese=94), Scores(chinese=94), Scores(chinese=94))"
      ]
     },
     "execution_count": 1,
     "metadata": {},
     "output_type": "execute_result"
    }
   ],
   "source": [
    "from datetime import datetime, timezone\n",
    "from pydantic import BaseModel,Field\n",
    "import random\n",
    "\n",
    "# defualt value,如果使用method()產生不同的default value值,是無法完成的,如下範例\n",
    "\n",
    "class Scores(BaseModel):\n",
    "    chinese:int = random.randint(50, 100)\n",
    "\n",
    "s1 = Scores()\n",
    "s2 = Scores()\n",
    "s3 = Scores()\n",
    "\n",
    "s1, s2, s3"
   ]
  },
  {
   "cell_type": "code",
   "execution_count": 3,
   "metadata": {},
   "outputs": [
    {
     "data": {
      "text/plain": [
       "(Scores(chinese=95), Scores(chinese=83), Scores(chinese=99))"
      ]
     },
     "execution_count": 3,
     "metadata": {},
     "output_type": "execute_result"
    }
   ],
   "source": [
    "#要解決這個問題就必需使用default factories\n",
    "\n",
    "class Scores(BaseModel):\n",
    "    chinese:int = Field(default_factory=lambda:random.randint(50,100))\n",
    "\n",
    "s1 = Scores()\n",
    "s2 = Scores()\n",
    "s3 = Scores()\n",
    "\n",
    "s1, s2, s3"
   ]
  },
  {
   "cell_type": "code",
   "execution_count": null,
   "metadata": {},
   "outputs": [],
   "source": []
  }
 ],
 "metadata": {
  "kernelspec": {
   "display_name": "Python 3",
   "language": "python",
   "name": "python3"
  },
  "language_info": {
   "codemirror_mode": {
    "name": "ipython",
    "version": 3
   },
   "file_extension": ".py",
   "mimetype": "text/x-python",
   "name": "python",
   "nbconvert_exporter": "python",
   "pygments_lexer": "ipython3",
   "version": "3.10.13"
  }
 },
 "nbformat": 4,
 "nbformat_minor": 2
}
