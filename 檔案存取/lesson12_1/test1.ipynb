{
 "cells": [
  {
   "cell_type": "code",
   "execution_count": 2,
   "metadata": {},
   "outputs": [],
   "source": [
    "stu1 = {\n",
    "    '姓名':'陳怡伶',\n",
    "    '國文':89,\n",
    "    '英文':92,\n",
    "    '數學':83,\n",
    "    '地理':91,\n",
    "    '歷史':65,\n",
    "    }\n",
    "\n",
    "stu2 = {\n",
    "    '姓名':'馮芳如',\n",
    "    '國文':92,\n",
    "    '英文':75,\n",
    "    '數學':92,\n",
    "    '地理':89,\n",
    "    '歷史':77,\n",
    "    }"
   ]
  },
  {
   "cell_type": "code",
   "execution_count": 3,
   "metadata": {},
   "outputs": [
    {
     "data": {
      "text/plain": [
       "[{'姓名': '陳怡伶', '國文': 89, '英文': 92, '數學': 83, '地理': 91, '歷史': 65},\n",
       " {'姓名': '馮芳如', '國文': 92, '英文': 75, '數學': 92, '地理': 89, '歷史': 77}]"
      ]
     },
     "execution_count": 3,
     "metadata": {},
     "output_type": "execute_result"
    }
   ],
   "source": [
    "students = [stu1,stu2]\n",
    "students"
   ]
  },
  {
   "cell_type": "code",
   "execution_count": 16,
   "metadata": {},
   "outputs": [],
   "source": [
    "from random import randint,choices\n",
    "\n",
    "def getStudents(nums:int) -> list[dict]:  \n",
    "    students:list[dict] = []\n",
    "    with open('names.txt',mode='r',encoding='utf-8') as file:\n",
    "        names:str = file.read()\n",
    "    nameList:list[str] = names.split('\\n')\n",
    "    names:list[str] = choices(nameList,k=nums)\n",
    "\n",
    "    for i in range(nums):\n",
    "        stu = {\n",
    "        '姓名':names[i],\n",
    "        '國文':randint(45,100),\n",
    "        '英文':randint(45,100),\n",
    "        '數學':randint(45,100),\n",
    "        '地理':randint(45,100),\n",
    "        '歷史':randint(45,100),\n",
    "        }\n",
    "        students.append(stu)\n",
    "        \n",
    "    return students\n",
    "\n"
   ]
  },
  {
   "cell_type": "code",
   "execution_count": 17,
   "metadata": {},
   "outputs": [
    {
     "name": "stdout",
     "output_type": "stream",
     "text": [
      "請輸入學生的人數(1~50):10\n"
     ]
    },
    {
     "data": {
      "text/plain": [
       "[{'姓名': '游一鈺', '國文': 97, '英文': 61, '數學': 49, '地理': 88, '歷史': 78},\n",
       " {'姓名': '王泓泰', '國文': 45, '英文': 81, '數學': 83, '地理': 100, '歷史': 94},\n",
       " {'姓名': '楊偉翔', '國文': 51, '英文': 80, '數學': 94, '地理': 71, '歷史': 94},\n",
       " {'姓名': '朱彥志', '國文': 90, '英文': 90, '數學': 86, '地理': 56, '歷史': 45},\n",
       " {'姓名': '陳逸凡', '國文': 71, '英文': 90, '數學': 55, '地理': 99, '歷史': 87},\n",
       " {'姓名': '黃健發', '國文': 59, '英文': 85, '數學': 87, '地理': 60, '歷史': 82},\n",
       " {'姓名': '錢佩豪', '國文': 83, '英文': 86, '數學': 54, '地理': 59, '歷史': 90},\n",
       " {'姓名': '謝南慧', '國文': 99, '英文': 61, '數學': 79, '地理': 94, '歷史': 60},\n",
       " {'姓名': '溫重意', '國文': 68, '英文': 92, '數學': 67, '地理': 71, '歷史': 84},\n",
       " {'姓名': '孫宜珊', '國文': 71, '英文': 72, '數學': 72, '地理': 97, '歷史': 46}]"
      ]
     },
     "execution_count": 17,
     "metadata": {},
     "output_type": "execute_result"
    }
   ],
   "source": [
    "import pyinputplus as pyip\n",
    "s_nums:int = pyip.inputInt(\"請輸入學生的人數(1~50):\",min=1,max=50)\n",
    "print(s_nums)\n",
    "students = getStudents(s_nums)\n",
    "students"
   ]
  },
  {
   "cell_type": "code",
   "execution_count": 24,
   "metadata": {},
   "outputs": [
    {
     "name": "stdout",
     "output_type": "stream",
     "text": [
      "寫入成功\n"
     ]
    }
   ],
   "source": [
    "import csv\n",
    "from csv import DictWriter\n",
    "\n",
    "def save_to_csv(students:list[dict],fileName:str)->None:    \n",
    "    fileNameWithExtension:str = fileName + '.csv'\n",
    "    with open(fileNameWithExtension,mode='w',encoding='utf-8',newline='') as file:\n",
    "        fieldnames:list[str] = ['姓名', '國文', '英文', '數學', '地理', '歷史']\n",
    "        writer:DictWriter = csv.DictWriter(file,fieldnames=fieldnames)\n",
    "        writer.writeheader()\n",
    "        writer.writerows(students)\n",
    "    print(\"寫入成功\")\n",
    "\n",
    "save_to_csv(students,'class2')"
   ]
  },
  {
   "cell_type": "code",
   "execution_count": 25,
   "metadata": {},
   "outputs": [
    {
     "name": "stdout",
     "output_type": "stream",
     "text": [
      "請輸入檔案名稱(不用輸入副檔名稱):寫入成功\n"
     ]
    }
   ],
   "source": [
    "fileName = pyip.inputFilename(\"請輸入檔案名稱(不用輸入副檔名稱):\")\n",
    "save_to_csv(students,fileName)"
   ]
  }
 ],
 "metadata": {
  "kernelspec": {
   "display_name": "Python 3",
   "language": "python",
   "name": "python3"
  },
  "language_info": {
   "codemirror_mode": {
    "name": "ipython",
    "version": 3
   },
   "file_extension": ".py",
   "mimetype": "text/x-python",
   "name": "python",
   "nbconvert_exporter": "python",
   "pygments_lexer": "ipython3",
   "version": "3.10.13"
  }
 },
 "nbformat": 4,
 "nbformat_minor": 2
}
