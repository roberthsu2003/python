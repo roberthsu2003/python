{
 "cells": [
  {
   "cell_type": "markdown",
   "metadata": {},
   "source": [
    "# 檔案存取與 Numpy\n",
    "\n",
    "##  本堂教學重點\n",
    "1. 檔案基本操作\n",
    "2. CSV 與JSON 操作\n",
    "3. 檔案例外處理\n",
    "4. 檔案關閉動作\n",
    "5. Numpy 簡介\n",
    "6. Numpy 陣列形狀\n",
    "\n",
    "##  檔案存取\n",
    "- 在讀取或寫入文件之前，必須使用 Python 內建的 open( ) 函數開啟 文件。 這個函數將建立一個文件物件，這個文件物件會與真實的文件做連結，可讓您透過文件物件對文件進行存取動作。\n",
    "- file object = open(file_name [, access_mode])\n",
    "- UTF8 編碼資料還請加入另一個參數才可避免亂碼:encoding=‘utf-8'\n",
    "- file object = open(file_name [, access_mode])\n",
    "    1. file_name:file_name 參數是一個字串資料，代表包含要連結的文件名稱。\n",
    "    2. access_mode:access_mode 確定文件必須打開的模式，包括讀取、寫 入、附加等等。稍後會列完整列表。這是可選參數，默認文件訪問模式為 讀取(r)。\n",
    "    \n",
    "\n",
    "| 存取模式 | 描述 |\n",
    "|:--      |:-- |\n",
    "| r | 連結開啟僅供閱讀的文件， 這是默認模式。|\n",
    "| rb | 以二進位方式連結開啟僅供閱讀的文件。|\n",
    "| r+ | 連結一個用於閱讀和寫作的文件。|\n",
    "| rb+ | 連結一個用於閱讀和寫作的二進位格式文件。|\n",
    "| w | 連結文件後僅供寫入。 如果文件存在，則覆蓋該文件。 如果文件不存在，則建立一個新文件後進行寫入。 |\n",
    "| wb | 連結二進位格式的文件後僅供寫入。如果文件存在，則覆蓋該文件。 如果文件不存在，則建立一個新文件進行寫入。 |\n",
    "| w+ | 連結文件後可以寫入和閱讀。如果文件存在，則覆蓋現有文件。 如果文件不存在，則建立一個新文件進行閱讀和寫入。 |\n",
    "| wb+ | 連結二進位格式文件後可以寫入和閱讀。如果文件存在，則覆蓋現有文件。 如果文件不存在，則建立一個新文件進行閱讀和寫入。 |\n",
    "| a | 連結一個文件進行附加。 如果文件存在，將處於從後面加入的模式。 如果文件不存在，它將建立一個新文件進行寫入。 |\n",
    "| ab | 連結一個二進位格式文件進行附加。 如果文件存在，將處於從後面加入的模式。 如果文件不存在，它將建立一個新文件進行寫入。 |\n",
    "| a+ | 連結一個文件進行附加與讀取。 如果文件存在，將處於從後面加入的模式。 如果文件不存在，它將建立一個新文件進行寫入與讀取。 |\n",
    "| ab+ | 連結一個文件進行附加與二進位格式讀取。 如果文件存在，將處於從後面加入的 模式。 如果文件不存在，它將建立一個新文件進行寫入與讀取。 |"
   ]
  },
  {
   "cell_type": "code",
   "execution_count": null,
   "metadata": {
    "scrolled": true
   },
   "outputs": [],
   "source": [
    "# 操作範例 1:請動手操作，並留意輸出結果\n",
    "# 使用print()寫入\n",
    "text = '''python與中文\n",
    "1. 我們來試試看中文儲存能力。\n",
    "2. 許這個字會有編碼衝突風險。\n",
    "3. 犇這個字必須是utf8編碼才有。'''\n",
    "\n",
    "print(text ,file=open('data.txt','w',encoding='utf-8'))\n",
    "#print(text ,file=open('data.txt','w'))\n"
   ]
  },
  {
   "cell_type": "code",
   "execution_count": null,
   "metadata": {
    "scrolled": true
   },
   "outputs": [],
   "source": [
    "# 操作範例 2:請動手操作，並留意輸出結果\n",
    "# write()\n",
    "\n",
    "no=1 \n",
    "scores=dict( ) \n",
    "while True:\n",
    "    score = int(input('請輸入第'+str(no)+'號的成績:(-1結束)')) \n",
    "    if score == -1: \n",
    "        break;\n",
    "    scores[no] = score\n",
    "    no += 1\n",
    "    \n",
    "file=open('score.txt','w',encoding='utf-8') \n",
    "file.write(str(scores))\n",
    "file.close()"
   ]
  },
  {
   "cell_type": "markdown",
   "metadata": {},
   "source": [
    "###  檔案讀取方式\n",
    "- read([size]) 方法\n",
    "    1. read([size]) 方法從文件當前位置起讀取 size 個字元數量，若無參數，則代表讀取至文件結束為止。\n",
    "    2. 中文、英數與換行都是一格。"
   ]
  },
  {
   "cell_type": "code",
   "execution_count": null,
   "metadata": {
    "scrolled": true
   },
   "outputs": [],
   "source": [
    "# 操作範例:請動手操作，並留意輸出結果\n",
    "\n",
    "file = open('data.txt', 'r', encoding='UTF-8') \n",
    "content = file.read()\n",
    "print(content)\n",
    "#file.close( )\n",
    "print(\"-------------\")\n",
    "#file = open('data.txt', 'r', encoding='UTF-8') \n",
    "content2 = file.read(5)\n",
    "print(content2)\n",
    "file.close( )\n"
   ]
  },
  {
   "cell_type": "markdown",
   "metadata": {},
   "source": [
    "###  檔案讀取方式\n",
    "- readline 方法\n",
    "    1. 這個方法每次讀出一行內容，所以讀取時占用緩衝區較小，比較適合大型文件讀取，讀取到沒有資料為止。\n",
    "- 若不使用 readline 可用 with 敘述一行一行讀取資料，再使用 for 迴圈 逐一進行處理。\n",
    "- len( ) 代表計算字串字數。\n",
    "- readlines 方法\n",
    "    1. 這方法將讀取整個文件所有行，保存在一個 list 內。\n",
    "- 讀取文件後可搭配使用的方法\n",
    "    1. strip() 去除字串首尾的空白。\n",
    "    2. lstrip( ) 去除字串左邊的空白。\n",
    "    3. rstrip( ) 去除字串右邊的空白。\n",
    "    4. startswith(‘字元’): 第一個字元。"
   ]
  },
  {
   "cell_type": "code",
   "execution_count": null,
   "metadata": {
    "scrolled": true
   },
   "outputs": [],
   "source": [
    "# 操作範例:請動手操作，並留意輸出結果\n",
    "\n",
    "f=open('data1.txt', 'r', encoding='UTF-8') \n",
    "result = list( )\n",
    "for line in f.readlines( ):\n",
    "    line = line.strip( )\n",
    "    if not len(line) or line.startswith('#'):\n",
    "        continue \n",
    "    result.append(line)\n",
    "f.close()\n",
    "result.sort( )\n",
    "print(result)\n",
    "open('result-readlines.txt', 'w', encoding='UTF-8').write('%s' % '\\n'.join(result))"
   ]
  },
  {
   "cell_type": "markdown",
   "metadata": {},
   "source": [
    "###  讀取 CSV 檔案\n",
    "\n",
    "逗點分隔（Comma-Separated Values，簡稱 csv）是一種簡單的文字檔格式，以逗號分隔不同欄位的資料，很多軟體在儲存與交換表格資料時都支援這樣的格式。 \n",
    "\n",
    "- CSV 格式是資料庫最常用的導入和導出格式。\n",
    "- 資料均沒有類型，一切都是字串。\n",
    "- 沒有字體或顏色與儲存格寬度高度的設置。\n",
    "- Python 語法必須加入 import csv。\n",
    "- 讀取儲存格資料:\n",
    " 1. reader( ):依照每一列的編號 由0開始\n",
    " 2. DictReader( )\n",
    "    - 以第一列的值為每一行的名稱，第一列不是資料\n",
    "    - 也可以重新命名，但第一列必須是資料"
   ]
  },
  {
   "cell_type": "code",
   "execution_count": null,
   "metadata": {
    "scrolled": true
   },
   "outputs": [],
   "source": [
    "# 操作範例 1:請動手操作，並留意輸出結果\n",
    "\n",
    "#我們使用 csv.reader 讀取出來的 rows 會是一個二維的 list\n",
    "#裡面就是整張表格的資料，這裡我們把每一列的 list 直接輸出，執行後會像這樣：\n",
    "import csv \n",
    "f=open('ex1.csv',\"r\",encoding='utf-8')\n",
    "rows = csv.reader(f) #rows是一個generator\n",
    "\n",
    "print(type(rows))\n",
    "#for row in rows:\n",
    "#    print(row)\n",
    "\n",
    "list1 = list(rows)\n",
    "print(list1)\n",
    "f.close()"
   ]
  },
  {
   "cell_type": "code",
   "execution_count": null,
   "metadata": {},
   "outputs": [],
   "source": [
    "#請讀入資料集內的(各鄉鎮市區人口密度.csv)\n",
    "#將資料轉為2維的list=>[[],[],[]]\n",
    "#將資料轉為2維的list=>[{},{},{}]\n",
    "\n",
    "import csv\n",
    "\n",
    "t\n",
    "f = open('各鄉鎮市區人口密度.csv','r',encoding='UTF-8')\n",
    "rows = csv.reader(f)\n",
    "for row in rows:\n",
    "    if row[0] == '106':\n",
    "        poplist.append(row)\n",
    "f.close()\n",
    "poplist"
   ]
  },
  {
   "cell_type": "code",
   "execution_count": null,
   "metadata": {},
   "outputs": [],
   "source": [
    "#請讀入資料集內的(各鄉鎮市區人口密度.csv)\n",
    "#將資料轉為2維的list=>[{},{},{}]\n",
    "import csv\n",
    "poplist = list()\n",
    "f = open('各鄉鎮市區人口密度.csv','r',encoding='UTF-8')\n",
    "next(f)\n",
    "reader = csv.DictReader(f)\n",
    "data=[{'統計年':row['統計年'],'區域別':row['區域別'],'年底人口數':row['年底人口數'],'土地面積':row['土地面積'],'人口密度':row['人口密度']} for row in reader]\n",
    "for item in data:\n",
    "    if '新北市' in item['區域別']:\n",
    "        poplist.append(item)\n",
    "poplist"
   ]
  },
  {
   "cell_type": "markdown",
   "metadata": {},
   "source": [
    "###  寫入 CSV 檔案\n",
    "- 必須加入 import csv\n",
    "- 利用 writer( ) 可寫入資料，寫入時注意\n",
    "    1. delimiter - 這是代表分隔符號\n",
    "    2. quotechar - 這是代表包住字串的符號\n",
    "- 使用 writerow( ) 方法進行特定的儲存格寫入"
   ]
  },
  {
   "cell_type": "code",
   "execution_count": null,
   "metadata": {
    "scrolled": true
   },
   "outputs": [],
   "source": [
    "# 操作範例:請動手操作，並留意輸出結果\n",
    "\n",
    "import csv\n",
    "f=open('ex2.csv',\"r\",encoding='utf-8')\n",
    "reader = csv.reader(f)\n",
    "\n",
    "ofile = open('ttest.csv', \"w\",encoding='utf-8')\n",
    "writer = csv.writer(ofile, delimiter='-')\n",
    "\n",
    "for row in reader:\n",
    "    writer.writerow(row)\n",
    "f.close()\n",
    "ofile.close()"
   ]
  },
  {
   "cell_type": "code",
   "execution_count": null,
   "metadata": {},
   "outputs": [],
   "source": [
    "#讀取-歷年國內主要觀光遊憩據點遊客人數月別統計.csv,取出臺北市和臺中市的資料\n",
    "import csv\n",
    "with open('歷年國內主要觀光遊憩據點遊客人數月別統計.csv',mode='r',encoding='utf-8') as file:\n",
    "    csv_reader = csv.reader(file)\n",
    "    results = list(csv_reader)\n",
    "\n",
    "for item in results:\n",
    "    print(item)\n",
    "    \n",
    "taipei = []\n",
    "taipei.append(results[0])\n",
    "for item in results[1:]:\n",
    "    if '臺北市' in item:\n",
    "        taipei.append(item)\n",
    "\n",
    "taichun = []\n",
    "taichun.append(results[0])\n",
    "for item in results[1:]:\n",
    "    if '臺中市' in item:\n",
    "        taichun.append(item)\n",
    "\n",
    "print(taipei)\n",
    "print(taichun)"
   ]
  },
  {
   "cell_type": "code",
   "execution_count": null,
   "metadata": {},
   "outputs": [],
   "source": [
    "#將臺北和臺中存檔為一個excel檔\n",
    "#pip install xlwt\n",
    "\n",
    "import xlwt\n",
    "from xlwt import Workbook\n",
    "wb = Workbook()\n",
    "sheet1 = wb.add_sheet('臺北市')\n",
    "for row,item in enumerate(taipei):\n",
    "    for col,data in enumerate(item):\n",
    "        sheet1.write(row,col,data)\n",
    "\n",
    "sheet2 = wb.add_sheet('臺中市')\n",
    "for row,item in enumerate(taichun):\n",
    "    for col,data in enumerate(item):\n",
    "        sheet2.write(row,col,data)\n",
    "\n",
    "wb.save('台北台中.xls')"
   ]
  },
  {
   "cell_type": "markdown",
   "metadata": {},
   "source": [
    "### 範例實作:透過網路寫入和讀取CSV檔,並且應用在tkinter上\n",
    "- 下載csv\n",
    "- 讀取csv\n",
    "- 寫入csv\n",
    "- 建立GUI介面\n",
    "\n",
    "[範例檔案](https://github.com/roberthsu2003/PythonForDataAnalysis/blob/master/%E6%AA%94%E6%A1%88%E5%AD%98%E5%8F%96%E8%88%87numpy/sample5.py)\n",
    "\n",
    "![](4d.png)"
   ]
  },
  {
   "cell_type": "markdown",
   "metadata": {},
   "source": [
    "###  Python 與 JSON\n",
    "\n",
    "#### Python 的資料型態與 JSON 的資料型態略有差異:\n",
    "| Python 資料型態 | JSON 資料型態 |\n",
    "|:-- |:-- |\n",
    "| dict | object |\n",
    "| list,tuple | array |\n",
    "| int,float | number |\n",
    "| True | true |\n",
    "| False | false |\n",
    "| None | null |\n",
    "\n",
    "###  從 Python 到 JSON\n",
    "1. 以 json.dumps( ) 函數從 Python dictionary轉出JSON字串。\n",
    "2. 以 json.dump( ) 函數從 Python dictionary轉出 JSON 檔案中。\n",
    "3. json資料於Python處理UTF8碼內容會產生亂碼，建議 dumps 時加入 以下的參數才可以正確處理UTF8碼內容:ensure_ascii=False \n",
    "4. Python 與 JSON 檔案:\n",
    "    - JSON 檔案的中文資料於某些編輯軟體內會變成亂碼，但 Python 可以存取。\n",
    "    - 檔案寫入可用一般文件方式寫入，也可以使用 JSON 的方法寫入。"
   ]
  },
  {
   "cell_type": "code",
   "execution_count": null,
   "metadata": {
    "scrolled": true
   },
   "outputs": [],
   "source": [
    "# 操作範例 1:請動手操作，並留意輸出結果\n",
    "# 將dictionary轉成json格式的字串\n",
    "\n",
    "import json\n",
    "pyDic = {'python': 'good', 'gjun': 100, 'python-class':True,'ICQ': None}\n",
    "json2 = json.dumps(pyDic, ensure_ascii=False)\n",
    "print(type(json2))\n",
    "json3=json2.encode('utf8')\n",
    "print(type(json3))\n",
    "print(json2)\n",
    "print(json3)"
   ]
  },
  {
   "cell_type": "code",
   "execution_count": null,
   "metadata": {
    "scrolled": true
   },
   "outputs": [],
   "source": [
    "# 操作範例 2:請動手操作，並留意輸出結果\n",
    "\n",
    "import json\n",
    "data = {}\n",
    "data['people'] = []\n",
    "data['people'].append({'name': 'Scott','website': 'stackabuse.com','from': 'Nebraska'})\n",
    "data['people'].append({'name': 'Larry', 'website': 'google.com', 'from': 'Michigan'})\n",
    "\n",
    "#使用dump寫入json檔案,必需使用python的dictionary物件\n",
    "with open('data.json', 'w') as outfile:\n",
    "    json.dump(data, outfile)\n",
    "\n",
    "#使用write寫入使需使用的json字串格式\n",
    "json2 = json.dumps(data)\n",
    "file=open('score.json','w',encoding='utf-8')\n",
    "file.write((json2));\n",
    "file.close();\n"
   ]
  },
  {
   "cell_type": "markdown",
   "metadata": {},
   "source": [
    "###  從 JSON 到 Python\n",
    "1. 以 json.loads( ) 函數從 JSON 字串中取出資料轉入 Python。\n",
    "2. 以 json.load( ) 函數從 JSON 檔案中取出資料轉入 Python。"
   ]
  },
  {
   "cell_type": "code",
   "execution_count": null,
   "metadata": {
    "scrolled": true
   },
   "outputs": [],
   "source": [
    "# 操作範例 1:請動手操作，並留意輸出結果\n",
    "#使用loads將json格式的字串傳成python的Dict\n",
    "\n",
    "import json\n",
    "json1 = '{\"python\": \"good\", \"gjun\": 100, \"python-class\": true, \"ICQ\": null}'\n",
    "json2 = json.loads(json1)\n",
    "print(json2)"
   ]
  },
  {
   "cell_type": "code",
   "execution_count": null,
   "metadata": {
    "scrolled": true
   },
   "outputs": [],
   "source": [
    "# 操作範例 2:請動手操作，並留意輸出結果\n",
    "#使用load()將json檔轉成Dictionary\n",
    "\n",
    "import json\n",
    "\n",
    "#data = json.load('score.json')  #會出錯\n",
    "\n",
    "with open('score.json') as json_file:\n",
    "    data = json.load(json_file)\n",
    "    for p in data['people']:\n",
    "        print('Name:' + p['name'])\n",
    "        print('Website:' + p['website'])\n",
    "        print('From:'+p['from'])\n",
    "        print()\n"
   ]
  },
  {
   "cell_type": "code",
   "execution_count": null,
   "metadata": {},
   "outputs": [],
   "source": [
    "# 請處理(新北市公共自行車租賃系統.json)\n",
    "# google搜尋online json viewer\n",
    "\n",
    "import json\n",
    "with open('新北市公共自行車租賃系統.json') as json_file:\n",
    "    data = json.load(json_file)\n",
    "    if data['success']:\n",
    "        records = data['result']['records']\n",
    "    else:\n",
    "        print('讀取失敗')\n",
    "\n",
    "for record in records:\n",
    "    if '新店區' in record['sarea']:        \n",
    "        print('區域',record['sarea'])\n",
    "        print('站名',record['sna'])\n",
    "        print('地址',record['ar'])\n",
    "        print('緯經度座標[{},{}]'.format(record['lat'],record['lng']))\n",
    "        print('全部數量',record['tot'])\n",
    "        print('可借',record['sbi'])\n",
    "        print('可還',record['bemp'])\n",
    "        print('----------------------')\n",
    "        print()\n",
    "           "
   ]
  },
  {
   "cell_type": "markdown",
   "metadata": {},
   "source": [
    "## 檔案進階操作\n",
    "###  檔案存取與例外處理\n",
    "1. Python 的文件存取是透過 open( ) 方法建立文件物件方式進行存取， 如果文件不存在或讀取存限限制將會產生例外。\n",
    "2. 檔案存取例外為 IOError ，另外有兩個子類別:\n",
    "    - FileNotFoundError，代表 “找不到檔案”。\n",
    "    - PermissionError，代表 “沒有權限存取”。"
   ]
  },
  {
   "cell_type": "markdown",
   "metadata": {},
   "source": [
    "#### 操作範例:請動手操作，並留意輸出結果\n",
    "- file_except1.py"
   ]
  },
  {
   "cell_type": "code",
   "execution_count": null,
   "metadata": {
    "scrolled": true
   },
   "outputs": [],
   "source": [
    "try:\n",
    "    f = open('data.txt', 'r', encoding=\"utf8\") \n",
    "    print(f.read( ))\n",
    "    \n",
    "except FileNotFoundError: \n",
    "    print(\"找不到檔案\")\n",
    "except PermissionError: \n",
    "    print(\"你沒有權限存取\")\n",
    "except IOError: \n",
    "    print(\"其他檔案IO問題\")\n",
    "except: \n",
    "    print(\"其他例外\")\n",
    "    \n",
    "f.close( )"
   ]
  },
  {
   "cell_type": "markdown",
   "metadata": {},
   "source": [
    "###  關於檔案關閉動作\n",
    "1. 檔案開啟後須進行 close( ) 方法進行關閉動作。\n",
    "2. 若檔案沒關閉會造成:\n",
    "    - 開啟的文件物件會占用系統資源。\n",
    "    - Python 可以同時間開啟的文件數量有限制 (約 20 份文件)。\n",
    "    - 開啟文件物件的模式若為寫入 (w 或 a) 模式，一般都是暫存於緩衝區，系統閒置或文件關閉前才會進行寫入，若沒有進行 close( ) 動作可能造成文 件儲存不完整。"
   ]
  },
  {
   "cell_type": "code",
   "execution_count": null,
   "metadata": {
    "scrolled": true
   },
   "outputs": [],
   "source": [
    "# 操作範例:請動手操作，並留意輸出結果\n",
    "import os\n",
    "\n",
    "class tryopenfile:\n",
    "    def openfile(self, filePath):\n",
    "        self.handle = open(filePath, 'w')\n",
    "        self.handle.close()\n",
    "\n",
    "if __name__ == '__main__':\n",
    "    t = tryopenfile( )\n",
    "    filePath = 'test.txt' \n",
    "    t.openfile(filePath) \n",
    "    os.remove(filePath) \n",
    "    print('success')\n"
   ]
  },
  {
   "cell_type": "markdown",
   "metadata": {},
   "source": [
    "### With 方式操作檔案\n",
    "1. 多個檔案存取時若前一個檔案產生 IO 例外，將會造成後面無法進行close( ) 動作。\n",
    "2. 以 with 方式操作檔案:\n",
    "    - 檔案存取仍有可能產生 IO 例外。\n",
    "    - 離開 with 區塊時檔案將會自動進行close( )動作，自動關閉檔案。"
   ]
  },
  {
   "cell_type": "code",
   "execution_count": null,
   "metadata": {
    "scrolled": true
   },
   "outputs": [],
   "source": [
    "# 操作範例 1:請動手操作，並留意輸出結果\n",
    "try:\n",
    "    with open('data.txt', 'r', encoding=\"utf8\") as f:\n",
    "        print(f.read( ))\n",
    "except FileNotFoundError:\n",
    "    print(\"找不到檔案\") \n",
    "except PermissionError:\n",
    "    print(\"你沒有權限存取\")\n",
    "except IOError: \n",
    "    print(\"其他檔案IO問題\")\n",
    "except: \n",
    "    print(\"其他例外\") "
   ]
  },
  {
   "cell_type": "markdown",
   "metadata": {},
   "source": [
    "####  請問以下的問題答案為哪一個?(選擇題)\n",
    "\n",
    "```python\n",
    "關於 with 方式操作檔案的說明，哪一個是錯誤的?\n",
    "```\n",
    "(1) 離開 with 區塊時檔案將會自動進行 close( ) 動作，自動關閉檔案。  \n",
    "(2) 檔案存取仍有可能產生 IO 例外。  \n",
    "(3) 檔案存取不會產生 IO 例外。  "
   ]
  },
  {
   "cell_type": "markdown",
   "metadata": {},
   "source": [
    "## Nampy 介紹\n",
    "###  Numpy 簡介\n",
    "1. 可做到的功能\n",
    "\n",
    "    - 快速的多維陣列操作。\n",
    "    - 可靠的科學功能函數庫。\n",
    "    - 可協助繪圖工具進行繪圖。\n",
    "    \n",
    "2. NumPy 是幾乎每個科學 Python 應用程序或模組的核心，它提供了以向量化 形式的快速 N-d 陣列類型可供操作。\n",
    "3. NumPy 的核心功能是陣列物件類別。\n",
    "4. 陣列類似 list，但陣列裡的元素必須是相同的類型。\n",
    "5. list 不能直接使用算術運算工具 (+, -, *, /, ...) 。\n",
    "6. Numpy 提供更有效率的計算與多維運算工具。\n",
    "7. 必須引用 numpy 才能運作。"
   ]
  },
  {
   "cell_type": "markdown",
   "metadata": {
    "pycharm": {
     "name": "#%% md\n"
    }
   },
   "source": [
    "#### 為何使用numpy, 而不使用list\n"
   ]
  },
  {
   "cell_type": "code",
   "execution_count": null,
   "metadata": {
    "pycharm": {
     "is_executing": false,
     "name": "#%%\n"
    },
    "scrolled": true
   },
   "outputs": [],
   "source": [
    "import numpy as np\n",
    "my_arr = np.arange(1000000)\n",
    "my_list = list(range(1000000))"
   ]
  },
  {
   "cell_type": "code",
   "execution_count": null,
   "metadata": {
    "pycharm": {
     "is_executing": false,
     "name": "#%%\n"
    },
    "scrolled": true
   },
   "outputs": [],
   "source": [
    "%time for _ in range(10): my_arr2 = my_arr * 2"
   ]
  },
  {
   "cell_type": "code",
   "execution_count": null,
   "metadata": {
    "pycharm": {
     "is_executing": false,
     "name": "#%%\n"
    },
    "scrolled": true
   },
   "outputs": [],
   "source": [
    "%time for _ in range(10): my_list2 = [x * 2 for x in my_list]"
   ]
  },
  {
   "cell_type": "markdown",
   "metadata": {},
   "source": [
    "#### 操作範例: list 轉為一般陣列\n",
    "- array1.py\n"
   ]
  },
  {
   "cell_type": "code",
   "execution_count": null,
   "metadata": {
    "scrolled": true
   },
   "outputs": [],
   "source": [
    "a = [1,3,5,7,9]\n",
    "print(a[2:4])\n",
    "\n",
    "b = [[1, 3, 5, 7, 9], [2, 4, 6, 8, 10]] \n",
    "print(b[0])\n",
    "print(b[1][2:4])\n",
    "\n",
    "c = [1,3,5,7,9]\n",
    "d = [3,5,6,7,9]\n",
    "f=c+d\n",
    "print(f)\n",
    "print(type(a), type(b), type(c), type(d))"
   ]
  },
  {
   "cell_type": "markdown",
   "metadata": {},
   "source": [
    "###  Numpy 的陣列形狀\n",
    "1. 一維陣列的樣式  \n",
    "![一維陣列](1d.png) \n",
    "\n",
    "2. 二維陣列的樣式  \n",
    "![二維陣列](2d.png)\n",
    "\n",
    "3. 三維陣列的樣式  \n",
    "![三維陣列](3d.png)"
   ]
  },
  {
   "cell_type": "markdown",
   "metadata": {},
   "source": [
    "###  list 轉 ndarray 後的操作\n",
    "1. 例如 [1, 2, 3] 是一個維度為 1 的陣列，索引數量為 3。\n",
    "2. 例如 [[ 1, 0, 0.], [ 0, 1, 2]] 是一個維度為 2 的陣列，第一維索引數量為 2，第二維索引數量為 3。\n",
    "3. NumPy 的陣列被稱作 ndarray 。\n",
    "4. 透過 array 方法將 list 轉換為 ndarray"
   ]
  },
  {
   "cell_type": "markdown",
   "metadata": {},
   "source": [
    "#### list 轉 ndarray 後的操作\n",
    "- num1.py"
   ]
  },
  {
   "cell_type": "code",
   "execution_count": null,
   "metadata": {
    "scrolled": true
   },
   "outputs": [],
   "source": [
    "import numpy as np\n",
    "a = np.array([1,3,5,7,9]) \n",
    "b = np.array([3,5,6,7,9]) \n",
    "c=a+b\n",
    "print(c) \n",
    "print(\"---------------\") \n",
    "c=a-b\n",
    "print(c) \n",
    "print(\"---------------\") \n",
    "print(type(c))"
   ]
  },
  {
   "cell_type": "markdown",
   "metadata": {},
   "source": [
    "#### Homework:檔案存取\n",
    "- 請至政府資料開放平台下載\n",
    "- 新北市食品工廠清冊\n",
    "- https://data.gov.tw/dataset/117928\n",
    "- 可直接在目錄'檔案存取與numpy'中直接下載csv 和 json檔\n",
    "- 請使用csv檔案讀出所有新北市食品工廠的廠商名稱\n",
    "\n",
    "[csv解題](https://github.com/roberthsu2003/PythonForDataAnalysis/blob/master/%E6%AA%94%E6%A1%88%E5%AD%98%E5%8F%96%E8%88%87numpy/csvRead.ipynb)\n",
    "\n",
    "\n",
    "[json解題](https://github.com/roberthsu2003/PythonForDataAnalysis/blob/master/%E6%AA%94%E6%A1%88%E5%AD%98%E5%8F%96%E8%88%87numpy/jsonReader.ipynb)"
   ]
  },
  {
   "cell_type": "code",
   "execution_count": null,
   "metadata": {
    "scrolled": true
   },
   "outputs": [],
   "source": []
  }
 ],
 "metadata": {
  "kernelspec": {
   "display_name": "Python 3 (ipykernel)",
   "language": "python",
   "name": "python3"
  },
  "language_info": {
   "codemirror_mode": {
    "name": "ipython",
    "version": 3
   },
   "file_extension": ".py",
   "mimetype": "text/x-python",
   "name": "python",
   "nbconvert_exporter": "python",
   "pygments_lexer": "ipython3",
   "version": "3.10.6"
  },
  "pycharm": {
   "stem_cell": {
    "cell_type": "raw",
    "metadata": {
     "collapsed": false
    },
    "source": []
   }
  }
 },
 "nbformat": 4,
 "nbformat_minor": 2
}
