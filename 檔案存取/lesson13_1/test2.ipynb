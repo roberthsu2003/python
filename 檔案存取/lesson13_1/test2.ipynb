{
 "cells": [
  {
   "cell_type": "code",
   "execution_count": 3,
   "metadata": {},
   "outputs": [],
   "source": [
    "from openpyxl import Workbook\n",
    "\n",
    "wb = Workbook()\n",
    "ws = wb.active\n",
    "treeData = [[\"Type\", \"Leaf Color\", \"Height\"], [\"Maple\", \"Red\", 549], [\"Oak\", \"Green\", 783], [\"Pine\", \"Green\", 1204]]\n",
    "for row in treeData:\n",
    "    ws.append(row)\n",
    "wb.save(\"TreeData.xlsx\")"
   ]
  },
  {
   "cell_type": "code",
   "execution_count": 4,
   "metadata": {},
   "outputs": [],
   "source": [
    "from openpyxl import Workbook\n",
    "wb = Workbook()\n",
    "ws = wb.create_sheet(\"3年5班\")\n",
    "wb.save(\"3年5班.xlsx\")"
   ]
  },
  {
   "cell_type": "code",
   "execution_count": 9,
   "metadata": {},
   "outputs": [],
   "source": [
    "from openpyxl import Workbook\n",
    "wb = Workbook()\n",
    "ws = wb.active\n",
    "ws.title = \"3年6班\"\n",
    "ws['A1'] = \"姓名\"\n",
    "ws['B1'] = \"國文\"\n",
    "ws['C1'] = \"英文\"\n",
    "ws['D1'] = \"數學\"\n",
    "ws['E1'] = \"地理\"\n",
    "ws['F1'] = \"歷史\"\n",
    "ws.append(['楊易政',80,63,60,98,74])\n",
    "ws.append(['崔孝憲',92,72,90,98,88])\n",
    "ws.append(['王怡珊',72,73,83,40,48])\n",
    "ws1 = wb.create_sheet(\"3年5班\")\n",
    "ws2 = wb.create_sheet(\"3年4班\")\n",
    "wb.save(\"3年6班.xlsx\")"
   ]
  }
 ],
 "metadata": {
  "kernelspec": {
   "display_name": "Python 3",
   "language": "python",
   "name": "python3"
  },
  "language_info": {
   "codemirror_mode": {
    "name": "ipython",
    "version": 3
   },
   "file_extension": ".py",
   "mimetype": "text/x-python",
   "name": "python",
   "nbconvert_exporter": "python",
   "pygments_lexer": "ipython3",
   "version": "3.10.8"
  }
 },
 "nbformat": 4,
 "nbformat_minor": 2
}
