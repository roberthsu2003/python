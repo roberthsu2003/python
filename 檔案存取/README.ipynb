{
 "cells": [
  {
   "cell_type": "markdown",
   "metadata": {},
   "source": [
    "# 檔案存取\n",
    "\n",
    "##  本堂教學重點\n",
    "1. 檔案基本操作\n",
    "2. CSV 與JSON 操作\n",
    "3. 檔案例外處理\n",
    "4. 檔案關閉動作\n",
    "\n",
    "##  檔案存取\n",
    "- 在讀取或寫入文件之前，必須使用 Python 內建的 open( ) 函數開啟 文件。 這個函數將建立一個文件物件，這個文件物件會與真實的文件做連結，可讓您透過文件物件對文件進行存取動作。\n",
    "- file object = open(file_name [, access_mode])\n",
    "- UTF8 編碼資料還請加入另一個參數才可避免亂碼:encoding=‘utf-8'\n",
    "- file object = open(file_name [, access_mode])\n",
    "    1. file_name:file_name 參數是一個字串資料，代表包含要連結的文件名稱。\n",
    "    2. access_mode:access_mode 確定文件必須打開的模式，包括讀取、寫 入、附加等等。稍後會列完整列表。這是可選參數，默認文件訪問模式為 讀取(r)。\n",
    "    \n",
    "\n",
    "| 存取模式 | 描述 |\n",
    "|:--      |:-- |\n",
    "| r | 連結開啟僅供閱讀的文件， 這是預設模式。|\n",
    "| rb | 以二進位方式連結開啟僅供閱讀的文件。|\n",
    "| r+ | 連結一個用於閱讀和寫作的文件。|\n",
    "| rb+ | 連結一個用於閱讀和寫作的二進位格式文件。|\n",
    "| w | 連結文件後僅供寫入。 如果文件存在，則覆蓋該文件。 如果文件不存在，則建立一個新文件後進行寫入。 |\n",
    "| wb | 連結二進位格式的文件後僅供寫入。如果文件存在，則覆蓋該文件。 如果文件不存在，則建立一個新文件進行寫入。 |\n",
    "| w+ | 連結文件後可以寫入和閱讀。如果文件存在，則覆蓋現有文件。 如果文件不存在，則建立一個新文件進行閱讀和寫入。 |\n",
    "| wb+ | 連結二進位格式文件後可以寫入和閱讀。如果文件存在，則覆蓋現有文件。 如果文件不存在，則建立一個新文件進行閱讀和寫入。 |\n",
    "| a | 連結一個文件進行附加。 如果文件存在，將處於從後面加入的模式。 如果文件不存在，它將建立一個新文件進行寫入。 |\n",
    "| ab | 連結一個二進位格式文件進行附加。 如果文件存在，將處於從後面加入的模式。 如果文件不存在，它將建立一個新文件進行寫入。 |\n",
    "| a+ | 連結一個文件進行附加與讀取。 如果文件存在，將處於從後面加入的模式。 如果文件不存在，它將建立一個新文件進行寫入與讀取。 |\n",
    "| ab+ | 連結一個文件進行附加與二進位格式讀取。 如果文件存在，將處於從後面加入的 模式。 如果文件不存在，它將建立一個新文件進行寫入與讀取。 |"
   ]
  },
  {
   "cell_type": "code",
   "execution_count": 1,
   "metadata": {
    "scrolled": true
   },
   "outputs": [],
   "source": [
    "# 操作範例 1:請動手操作，並留意輸出結果\n",
    "# 使用print()寫入\n",
    "text = '''python與中文\n",
    "1. 我們來試試看中文儲存能力。\n",
    "2. 許這個字會有編碼衝突風險。\n",
    "3. 犇這個字必須是utf8編碼才有。'''\n",
    "\n",
    "print(text ,file=open('data.txt','w',encoding='utf-8'))\n",
    "#print(text ,file=open('data.txt','w'))\n"
   ]
  },
  {
   "cell_type": "code",
   "execution_count": null,
   "metadata": {},
   "outputs": [],
   "source": [
    "# 操作範例 1:請動手操作，並留意輸出結果\n",
    "# 使用檔案實體方法write()寫入檔案\n",
    "text = '''\n",
    "python與中文\n",
    "1. 我們來試試看中文儲存能力。\n",
    "2. 許這個字會有編碼衝突風險。\n",
    "3. 犇這個字必須是utf8編碼才有。\n",
    "'''\n",
    "file = open('sample1.txt','w',encoding='utf-8')\n",
    "file.write(text)\n",
    "file.close()"
   ]
  },
  {
   "cell_type": "code",
   "execution_count": null,
   "metadata": {
    "scrolled": true
   },
   "outputs": [],
   "source": [
    "# 操作範例 2:請動手操作，並留意輸出結果\n",
    "#建立50位學生,每位學生5個分數\n",
    "# write()\n",
    "\n",
    "\n",
    "import random\n",
    "\n",
    "students = []\n",
    "for _ in range(50):\n",
    "    scores = [] #建立一個0元素的list\n",
    "    for _ in range(5):\n",
    "        scores += [random.randint(50,100)]\n",
    "    students.append(scores)\n",
    "\n",
    "file = open('students.txt','w',encoding='utf-8')\n",
    "file.write(str(students))\n",
    "file.close()"
   ]
  },
  {
   "cell_type": "markdown",
   "metadata": {},
   "source": [
    "###  檔案讀取方式\n",
    "- read([size]) 方法\n",
    "    1. read([size]) 方法從文件當前位置起讀取 size 個字元數量，若無參數，則代表讀取至文件結束為止。\n",
    "    2. 中文、英數與換行都是一格。"
   ]
  },
  {
   "cell_type": "code",
   "execution_count": null,
   "metadata": {
    "scrolled": true
   },
   "outputs": [],
   "source": [
    "# 操作範例:請動手操作，並留意輸出結果\n",
    "\n",
    "file = open('data.txt', 'r', encoding='UTF-8') \n",
    "content = file.read()\n",
    "print(content)\n",
    "#file.close( )\n",
    "print(\"-------------\")\n",
    "#file = open('data.txt', 'r', encoding='UTF-8') \n",
    "content2 = file.read(5)\n",
    "print(content2)\n",
    "file.close( )\n"
   ]
  },
  {
   "cell_type": "markdown",
   "metadata": {},
   "source": [
    "###  檔案讀取方式\n",
    "- readline 方法\n",
    "    1. 這個方法每次讀出一行內容，所以讀取時占用緩衝區較小，比較適合大型文件讀取，讀取到沒有資料為止。\n",
    "- 若不使用 readline 可用 with 敘述一行一行讀取資料，再使用 for 迴圈 逐一進行處理。\n",
    "- len( ) 代表計算字串字數。\n",
    "- readlines 方法\n",
    "    1. 這方法將讀取整個文件所有行，保存在一個 list 內。\n",
    "- 讀取文件後可搭配使用的方法\n",
    "    1. strip() 去除字串首尾的空白。\n",
    "    2. lstrip( ) 去除字串左邊的空白。\n",
    "    3. rstrip( ) 去除字串右邊的空白。\n",
    "    4. startswith(‘字元’): 第一個字元。"
   ]
  },
  {
   "cell_type": "code",
   "execution_count": null,
   "metadata": {
    "scrolled": true
   },
   "outputs": [],
   "source": [
    "# 操作範例:請動手操作，並留意輸出結果\n",
    "\n",
    "f=open('data1.txt', 'r', encoding='UTF-8') \n",
    "result = list( )\n",
    "for line in f.readlines( ):\n",
    "    line = line.strip( )\n",
    "    if not len(line) or line.startswith('#'):\n",
    "        continue \n",
    "    result.append(line)\n",
    "f.close()\n",
    "result.sort( )\n",
    "print(result)\n",
    "open('result-readlines.txt', 'w', encoding='UTF-8').write('%s' % '\\n'.join(result))"
   ]
  },
  {
   "cell_type": "markdown",
   "metadata": {},
   "source": [
    "###  寫入 CSV 檔案\n",
    "- 必須加入 import csv\n",
    "- 利用 writer( ) 可寫入資料，寫入時注意\n",
    "    1. delimiter - 這是代表分隔符號\n",
    "    2. quotechar - 這是代表包住字串的符號\n",
    "- 使用 writerow( ) 方法進行特定的儲存格寫入"
   ]
  },
  {
   "cell_type": "code",
   "execution_count": null,
   "metadata": {
    "scrolled": true
   },
   "outputs": [],
   "source": [
    "#csv寫入檔案\n",
    "import csv\n",
    "'''\n",
    "編號, 國文, 英文, 數學, 自然, 社會\n",
    "01, 87, 90, 56, 87, 89\n",
    "02, 98, 56, 78, 90, 49\n",
    "'''\n",
    "with open('students.csv','w', newline='') as file:\n",
    "    csvWriter = csv.writer(file)\n",
    "    csvWriter.writerow(['編號', '國文', '英文', '數學', '自然', '社會'])\n",
    "    csvWriter.writerow(['01', 87, 90, 56, 87, 89])\n",
    "    csvWriter.writerow(['02', 98, 56, 78, 90, 49])\n",
    "print(\"程式結束\")"
   ]
  },
  {
   "cell_type": "code",
   "execution_count": null,
   "metadata": {},
   "outputs": [],
   "source": [
    "#csv寫人檔案\n",
    "#建立50位學生,每位學生5個分數\n",
    "import random\n",
    "import csv\n",
    "\n",
    "with open('students.csv','w', newline='', encoding='UTF-8') as file:\n",
    "    csvWriter = csv.writer(file)\n",
    "    csvWriter.writerow(['編號', '國文', '英文', '數學', '自然', '社會'])\n",
    "    for i in range(50):\n",
    "        scores = [str(i+1)] #建立一個1元素的list\n",
    "        for _ in range(5):\n",
    "            scores += [random.randint(50,100)]\n",
    "        csvWriter.writerow(scores)\n",
    "print(\"程式結束\")"
   ]
  },
  {
   "cell_type": "markdown",
   "metadata": {},
   "source": [
    "###  讀取 CSV 檔案\n",
    "\n",
    "逗點分隔（Comma-Separated Values，簡稱 csv）是一種簡單的文字檔格式，以逗號分隔不同欄位的資料，很多軟體在儲存與交換表格資料時都支援這樣的格式。 \n",
    "\n",
    "- CSV 格式是資料庫最常用的導入和導出格式。\n",
    "- 資料均沒有類型，一切都是字串。\n",
    "- 沒有字體或顏色與儲存格寬度高度的設置。\n",
    "- Python 語法必須加入 import csv。\n",
    "- 讀取儲存格資料:\n",
    " 1. reader( ):依照每一列的編號 由0開始\n",
    " 2. DictReader( )\n",
    "    - 以第一列的值為每一行的名稱，第一列不是資料\n",
    "    - 也可以重新命名，但第一列必須是資料"
   ]
  },
  {
   "cell_type": "code",
   "execution_count": null,
   "metadata": {},
   "outputs": [],
   "source": [
    "#我們使用 csv.reader 讀取出來的 rows 會是一個二維的 list\n",
    "#裡面就是整張表格的資料，這裡我們把每一列的 list 直接輸出，執行後會像這樣：\n",
    "import csv\n",
    "with open('students.csv','r',encoding='UTF-8') as file:\n",
    "    rows = csv.reader(file) #rows是一個generator\n",
    "    print(rows.__class__)\n",
    "    \n",
    "    #for row in rows:\n",
    "    #   print(row.__class__) #取出的是list物件\n",
    "    studentsList = list(rows)\n",
    "    print(studentsList)"
   ]
  },
  {
   "cell_type": "code",
   "execution_count": null,
   "metadata": {
    "scrolled": true
   },
   "outputs": [],
   "source": [
    "#讀取CSV\n",
    "import csv\n",
    "with open('students.csv','r',encoding='UTF-8') as file:\n",
    "    csvReader = csv.reader(file) #rows是一個generator\n",
    "    print(csvReader.__class__)\n",
    "    \n",
    "    #for row in rows:\n",
    "    #   print(csvReader.__class__) #取出的是list物件\n",
    "    studentsList = list(csvReader)\n",
    "    #print(studentsList)\n",
    "    studentsList.pop(0)\n",
    "    #print(studentsList)\n",
    "    #list(map(int, ['1','2','3'])) #map的使用方法\n",
    "    for index in range(len(studentsList)):\n",
    "        student = studentsList[index]\n",
    "        student = list(map(int, student))\n",
    "        studentsList[index] = student\n",
    "print(studentsList)    \n",
    "studentIndex = int(input('請輸入學生編號(1-50):'))\n",
    "for student in studentsList:\n",
    "    if studentIndex == student[0]:\n",
    "        print(student)\n",
    "        break\n",
    "print(\"程式結束\")"
   ]
  },
  {
   "cell_type": "code",
   "execution_count": null,
   "metadata": {},
   "outputs": [],
   "source": [
    "#請讀入資料集內的(各鄉鎮市區人口密度.csv)\n",
    "#將資料轉為2維的list=>[[],[],[]]\n",
    "#將資料轉為2維的list=>[{},{},{}]\n",
    "\n",
    "import csv\n",
    "\n",
    "poplist = []\n",
    "f = open('各鄉鎮市區人口密度.csv','r',encoding='UTF-8')\n",
    "csvReader = csv.reader(f)\n",
    "for row in csvReader:\n",
    "    if row[0] == '106':\n",
    "        poplist.append(row)\n",
    "f.close()\n",
    "poplist"
   ]
  },
  {
   "cell_type": "code",
   "execution_count": null,
   "metadata": {},
   "outputs": [],
   "source": [
    "#請讀入資料集內的(各鄉鎮市區人口密度.csv)\n",
    "#將資料轉為2維的list=>[{},{},{}]\n",
    "import csv\n",
    "poplist = list()\n",
    "f = open('各鄉鎮市區人口密度.csv','r',encoding='UTF-8')\n",
    "next(f)\n",
    "reader = csv.DictReader(f)\n",
    "data=[{'統計年':row['統計年'],'區域別':row['區域別'],'年底人口數':row['年底人口數'],'土地面積':row['土地面積'],'人口密度':row['人口密度']} for row in reader]\n",
    "for item in data:\n",
    "    if '新北市' in item['區域別']:\n",
    "        poplist.append(item)\n",
    "poplist"
   ]
  },
  {
   "cell_type": "markdown",
   "metadata": {},
   "source": [
    "## 上課範例\n",
    "#### [讀取(個股日成交資訊.csv)檔,轉換為不同的2維list的範例](./個股日成交資訊.ipynb)"
   ]
  },
  {
   "cell_type": "markdown",
   "metadata": {},
   "source": [
    "###  Python 與 JSON\n",
    "\n",
    "#### Python 的資料型態與 JSON 的資料型態略有差異:\n",
    "| Python 資料型態 | JSON 資料型態 |\n",
    "|:-- |:-- |\n",
    "| dict | object |\n",
    "| list,tuple | array |\n",
    "| int,float | number |\n",
    "| True | true |\n",
    "| False | false |\n",
    "| None | null |\n",
    "\n",
    "###  從 Python 到 JSON\n",
    "1. 以 json.dumps( ) 函數從 Python dictionary轉出JSON字串。\n",
    "2. 以 json.dump( ) 函數從 Python dictionary轉出 JSON 檔案中。\n",
    "3. json資料於Python處理UTF8碼內容會產生亂碼，建議 dumps 時加入 以下的參數才可以正確處理UTF8碼內容:ensure_ascii=False \n",
    "4. Python 與 JSON 檔案:\n",
    "    - JSON 檔案的中文資料於某些編輯軟體內會變成亂碼，但 Python 可以存取。\n",
    "    - 檔案寫入可用一般文件方式寫入，也可以使用 JSON 的方法寫入。"
   ]
  },
  {
   "cell_type": "code",
   "execution_count": 1,
   "metadata": {
    "scrolled": true
   },
   "outputs": [
    {
     "name": "stdout",
     "output_type": "stream",
     "text": [
      "<class 'str'>\n",
      "<class 'bytes'>\n",
      "{\"python\": \"good\", \"gjun\": 100, \"python-class\": true, \"ICQ\": null}\n",
      "b'{\"python\": \"good\", \"gjun\": 100, \"python-class\": true, \"ICQ\": null}'\n"
     ]
    }
   ],
   "source": [
    "# 操作範例 1:請動手操作，並留意輸出結果\n",
    "# 將dictionary轉成json格式的字串\n",
    "\n",
    "import json\n",
    "pyDic = {'python': 'good', 'gjun': 100, 'python-class':True,'ICQ': None}\n",
    "json2 = json.dumps(pyDic, ensure_ascii=False)\n",
    "print(type(json2))\n",
    "json3=json2.encode('utf8')\n",
    "print(type(json3))\n",
    "print(json2)\n",
    "print(json3)"
   ]
  },
  {
   "cell_type": "code",
   "execution_count": 1,
   "metadata": {},
   "outputs": [
    {
     "name": "stdout",
     "output_type": "stream",
     "text": [
      "<class 'dict'>\n",
      "json檔案存檔完成\n"
     ]
    }
   ],
   "source": [
    "#將dictionary轉成json的字串\n",
    "#使用json.dumps()\n",
    "import json\n",
    "codes = {'tw': 'Taiwan', 'jp': 'japan', 'hk': 'HongKong', 'us': '美國'}\n",
    "print(codes.__class__)\n",
    "jsonStr = json.dumps(codes,ensure_ascii=False)\n",
    "jsonStr.__class__\n",
    "\n",
    "#將json字串存成檔案使用open()方法\n",
    "with open('codes.json','w',encoding='utf-8') as file:\n",
    "    file.write(jsonStr)\n",
    "print(\"json檔案存檔完成\")"
   ]
  },
  {
   "cell_type": "code",
   "execution_count": 2,
   "metadata": {
    "scrolled": true
   },
   "outputs": [
    {
     "name": "stdout",
     "output_type": "stream",
     "text": [
      "json檔案存檔完成\n"
     ]
    }
   ],
   "source": [
    "#將dictionary直接轉成json檔案\n",
    "#使用json.dump()\n",
    "import json\n",
    "codes = {'tw': 'Taiwan', 'jp': 'japan', 'hk': 'HongKong', 'us': '美國'}\n",
    "with open('codes1.json','w',encoding='utf-8') as file:\n",
    "    json.dump(codes, file,ensure_ascii=False)\n",
    "print(\"json檔案存檔完成\")"
   ]
  },
  {
   "cell_type": "code",
   "execution_count": null,
   "metadata": {},
   "outputs": [],
   "source": [
    "# 操作範例 2:請動手操作，並留意輸出結果\n",
    "\n",
    "import json\n",
    "data = {}\n",
    "data['people'] = []\n",
    "data['people'].append({'name': 'Scott','website': 'stackabuse.com','from': 'Nebraska'})\n",
    "data['people'].append({'name': 'Larry', 'website': 'google.com', 'from': 'Michigan'})\n",
    "\n",
    "#使用dump寫入json檔案,必需使用python的dictionary物件\n",
    "with open('data.json', 'w') as outfile:\n",
    "    json.dump(data, outfile)\n",
    "\n",
    "#使用write寫入使需使用的json字串格式\n",
    "json2 = json.dumps(data)\n",
    "file=open('score.json','w',encoding='utf-8')\n",
    "file.write((json2));\n",
    "file.close();\n"
   ]
  },
  {
   "cell_type": "code",
   "execution_count": 3,
   "metadata": {},
   "outputs": [
    {
     "name": "stdout",
     "output_type": "stream",
     "text": [
      "json存檔成功\n"
     ]
    }
   ],
   "source": [
    "#建立50位學生,每位學生有5個分數\n",
    "#list內放dictionary\n",
    "import random\n",
    "students = []\n",
    "for i in range(1,51):\n",
    "    stdDict = {'姓名':'stu' + str(i),\n",
    "               '國文':random.randint(50,100),\n",
    "               '英文':random.randint(50,100),\n",
    "               '數學':random.randint(50,100),\n",
    "               '自然':random.randint(50,100),\n",
    "               '社會':random.randint(50,100),\n",
    "              }\n",
    "    students.append(stdDict)\n",
    "\n",
    "#儲存為json的檔案格式\n",
    "#使用json.dump()\n",
    "#json可以儲存複雜的python的資料結構\n",
    "\n",
    "import json\n",
    "with open('students.json','w',encoding='utf-8') as file:\n",
    "    json.dump(students, file, ensure_ascii=False)\n",
    "print(\"json存檔成功\")"
   ]
  },
  {
   "cell_type": "markdown",
   "metadata": {},
   "source": [
    "###  從 JSON 到 Python\n",
    "1. 以 json.loads( ) 函數從 JSON 字串中取出資料轉入 Python。\n",
    "2. 以 json.load( ) 函數從 JSON 檔案中取出資料轉入 Python。"
   ]
  },
  {
   "cell_type": "code",
   "execution_count": 4,
   "metadata": {},
   "outputs": [
    {
     "data": {
      "text/plain": [
       "[{'姓名': 'stu1', '國文': 58, '英文': 61, '數學': 69, '自然': 75, '社會': 80},\n",
       " {'姓名': 'stu2', '國文': 60, '英文': 51, '數學': 78, '自然': 94, '社會': 80},\n",
       " {'姓名': 'stu3', '國文': 82, '英文': 62, '數學': 55, '自然': 71, '社會': 60},\n",
       " {'姓名': 'stu4', '國文': 71, '英文': 69, '數學': 71, '自然': 95, '社會': 65},\n",
       " {'姓名': 'stu5', '國文': 97, '英文': 94, '數學': 87, '自然': 56, '社會': 54},\n",
       " {'姓名': 'stu6', '國文': 84, '英文': 97, '數學': 79, '自然': 65, '社會': 97},\n",
       " {'姓名': 'stu7', '國文': 63, '英文': 66, '數學': 69, '自然': 87, '社會': 95},\n",
       " {'姓名': 'stu8', '國文': 53, '英文': 95, '數學': 100, '自然': 96, '社會': 99},\n",
       " {'姓名': 'stu9', '國文': 87, '英文': 94, '數學': 54, '自然': 99, '社會': 59},\n",
       " {'姓名': 'stu10', '國文': 57, '英文': 78, '數學': 92, '自然': 53, '社會': 53},\n",
       " {'姓名': 'stu11', '國文': 84, '英文': 51, '數學': 53, '自然': 91, '社會': 76},\n",
       " {'姓名': 'stu12', '國文': 68, '英文': 98, '數學': 70, '自然': 83, '社會': 79},\n",
       " {'姓名': 'stu13', '國文': 66, '英文': 70, '數學': 97, '自然': 50, '社會': 59},\n",
       " {'姓名': 'stu14', '國文': 63, '英文': 91, '數學': 73, '自然': 79, '社會': 55},\n",
       " {'姓名': 'stu15', '國文': 88, '英文': 85, '數學': 54, '自然': 69, '社會': 89},\n",
       " {'姓名': 'stu16', '國文': 70, '英文': 93, '數學': 84, '自然': 100, '社會': 77},\n",
       " {'姓名': 'stu17', '國文': 62, '英文': 71, '數學': 81, '自然': 63, '社會': 61},\n",
       " {'姓名': 'stu18', '國文': 80, '英文': 62, '數學': 86, '自然': 84, '社會': 79},\n",
       " {'姓名': 'stu19', '國文': 65, '英文': 59, '數學': 56, '自然': 55, '社會': 93},\n",
       " {'姓名': 'stu20', '國文': 50, '英文': 51, '數學': 60, '自然': 70, '社會': 83},\n",
       " {'姓名': 'stu21', '國文': 89, '英文': 70, '數學': 61, '自然': 83, '社會': 77},\n",
       " {'姓名': 'stu22', '國文': 89, '英文': 77, '數學': 79, '自然': 56, '社會': 50},\n",
       " {'姓名': 'stu23', '國文': 58, '英文': 95, '數學': 98, '自然': 83, '社會': 84},\n",
       " {'姓名': 'stu24', '國文': 50, '英文': 72, '數學': 83, '自然': 70, '社會': 80},\n",
       " {'姓名': 'stu25', '國文': 65, '英文': 58, '數學': 88, '自然': 58, '社會': 52},\n",
       " {'姓名': 'stu26', '國文': 56, '英文': 90, '數學': 83, '自然': 62, '社會': 65},\n",
       " {'姓名': 'stu27', '國文': 51, '英文': 69, '數學': 88, '自然': 88, '社會': 67},\n",
       " {'姓名': 'stu28', '國文': 91, '英文': 79, '數學': 74, '自然': 73, '社會': 84},\n",
       " {'姓名': 'stu29', '國文': 52, '英文': 78, '數學': 82, '自然': 62, '社會': 93},\n",
       " {'姓名': 'stu30', '國文': 85, '英文': 86, '數學': 68, '自然': 87, '社會': 78},\n",
       " {'姓名': 'stu31', '國文': 83, '英文': 56, '數學': 53, '自然': 86, '社會': 81},\n",
       " {'姓名': 'stu32', '國文': 57, '英文': 83, '數學': 100, '自然': 93, '社會': 72},\n",
       " {'姓名': 'stu33', '國文': 50, '英文': 55, '數學': 88, '自然': 83, '社會': 100},\n",
       " {'姓名': 'stu34', '國文': 64, '英文': 57, '數學': 95, '自然': 67, '社會': 88},\n",
       " {'姓名': 'stu35', '國文': 71, '英文': 66, '數學': 73, '自然': 57, '社會': 77},\n",
       " {'姓名': 'stu36', '國文': 79, '英文': 51, '數學': 91, '自然': 58, '社會': 87},\n",
       " {'姓名': 'stu37', '國文': 73, '英文': 76, '數學': 52, '自然': 68, '社會': 53},\n",
       " {'姓名': 'stu38', '國文': 68, '英文': 91, '數學': 87, '自然': 72, '社會': 98},\n",
       " {'姓名': 'stu39', '國文': 90, '英文': 76, '數學': 80, '自然': 64, '社會': 76},\n",
       " {'姓名': 'stu40', '國文': 53, '英文': 69, '數學': 73, '自然': 71, '社會': 60},\n",
       " {'姓名': 'stu41', '國文': 54, '英文': 84, '數學': 95, '自然': 58, '社會': 99},\n",
       " {'姓名': 'stu42', '國文': 50, '英文': 100, '數學': 81, '自然': 85, '社會': 61},\n",
       " {'姓名': 'stu43', '國文': 69, '英文': 52, '數學': 66, '自然': 57, '社會': 80},\n",
       " {'姓名': 'stu44', '國文': 85, '英文': 54, '數學': 87, '自然': 64, '社會': 90},\n",
       " {'姓名': 'stu45', '國文': 86, '英文': 56, '數學': 62, '自然': 71, '社會': 78},\n",
       " {'姓名': 'stu46', '國文': 69, '英文': 79, '數學': 99, '自然': 81, '社會': 80},\n",
       " {'姓名': 'stu47', '國文': 50, '英文': 56, '數學': 64, '自然': 87, '社會': 78},\n",
       " {'姓名': 'stu48', '國文': 52, '英文': 100, '數學': 84, '自然': 70, '社會': 90},\n",
       " {'姓名': 'stu49', '國文': 60, '英文': 76, '數學': 76, '自然': 72, '社會': 90},\n",
       " {'姓名': 'stu50', '國文': 77, '英文': 76, '數學': 74, '自然': 92, '社會': 83}]"
      ]
     },
     "execution_count": 4,
     "metadata": {},
     "output_type": "execute_result"
    }
   ],
   "source": [
    "#讀取students.json\n",
    "#使用json的load()方法，載入students.json\n",
    "import json\n",
    "with open('students.json','r', encoding='utf-8') as file:\n",
    "    students = json.load(file)\n",
    "students"
   ]
  },
  {
   "cell_type": "code",
   "execution_count": null,
   "metadata": {
    "scrolled": true
   },
   "outputs": [],
   "source": [
    "# 操作範例 1:請動手操作，並留意輸出結果\n",
    "#使用loads將json格式的字串傳成python的Dict\n",
    "\n",
    "import json\n",
    "json1 = '{\"python\": \"good\", \"gjun\": 100, \"python-class\": true, \"ICQ\": null}'\n",
    "json2 = json.loads(json1)\n",
    "print(json2)"
   ]
  },
  {
   "cell_type": "code",
   "execution_count": null,
   "metadata": {
    "scrolled": true
   },
   "outputs": [],
   "source": [
    "# 操作範例 2:請動手操作，並留意輸出結果\n",
    "#使用load()將json檔轉成Dictionary\n",
    "\n",
    "import json\n",
    "\n",
    "#data = json.load('score.json')  #會出錯\n",
    "\n",
    "with open('score.json') as json_file:\n",
    "    data = json.load(json_file)\n",
    "    for p in data['people']:\n",
    "        print('Name:' + p['name'])\n",
    "        print('Website:' + p['website'])\n",
    "        print('From:'+p['from'])\n",
    "        print()\n"
   ]
  },
  {
   "cell_type": "code",
   "execution_count": null,
   "metadata": {},
   "outputs": [],
   "source": [
    "# 請處理(新北市公共自行車租賃系統.json)\n",
    "# google搜尋online json viewer\n",
    "\n",
    "import json\n",
    "with open('新北市公共自行車租賃系統.json') as json_file:\n",
    "    data = json.load(json_file)\n",
    "    if data['success']:\n",
    "        records = data['result']['records']\n",
    "    else:\n",
    "        print('讀取失敗')\n",
    "\n",
    "for record in records:\n",
    "    if '新店區' in record['sarea']:        \n",
    "        print('區域',record['sarea'])\n",
    "        print('站名',record['sna'])\n",
    "        print('地址',record['ar'])\n",
    "        print('緯經度座標[{},{}]'.format(record['lat'],record['lng']))\n",
    "        print('全部數量',record['tot'])\n",
    "        print('可借',record['sbi'])\n",
    "        print('可還',record['bemp'])\n",
    "        print('----------------------')\n",
    "        print()\n",
    "        "
   ]
  },
  {
   "cell_type": "markdown",
   "metadata": {},
   "source": [
    "## 下載json,解析json,轉存為csv檔\n",
    "\n",
    "1. 中央氣象局開放資料平臺之資料擷取API\n",
    "\n",
    "- https://opendata.cwb.gov.tw/dist/opendata-swagger.html\n",
    "\n",
    "2. 一般天氣預報,今明36小時\n",
    "   \n",
    "- https://opendata.cwb.gov.tw/fileapi/v1/opendataapi/F-C0032-001?Authorization=rdec-key-123-45678-011121314&format=JSON\n",
    "\n"
   ]
  },
  {
   "cell_type": "code",
   "execution_count": null,
   "metadata": {},
   "outputs": [],
   "source": [
    "# 下載json,解析json,轉存為csv檔\n",
    "import requests\n",
    "import csv\n",
    "\n",
    "def download_weather():\n",
    "    url = 'https://opendata.cwb.gov.tw/fileapi/v1/opendataapi/F-C0032-001?Authorization=rdec-key-123-45678-011121314&format=JSON'\n",
    "\n",
    "    response = requests.get(url)\n",
    "    if response.status_code == 200:\n",
    "        print(\"下載成功\")\n",
    "        weather = response.json()\n",
    "        return weather\n",
    "    else:\n",
    "        print(\"下載失敗\")\n",
    "        return False\n",
    "\n",
    "def parse_json(w):\n",
    "    location = w['cwbopendata']['dataset']['location']\n",
    "    weather_list = []\n",
    "    for item in location:\n",
    "        city_item = {}\n",
    "        city_item['城市'] = item['locationName']\n",
    "        city_item['啟始時間'] = item['weatherElement'][1]['time'][0]['startTime']\n",
    "        city_item['結束時間'] = item['weatherElement'][1]['time'][0]['endTime']\n",
    "        city_item['最高溫度'] = float(item['weatherElement'][1]['time'][0]['parameter']['parameterName'])\n",
    "        city_item['最低溫度'] = float(item['weatherElement'][2]['time'][0]['parameter']['parameterName'])\n",
    "        city_item['感覺'] = item['weatherElement'][3]['time'][0]['parameter']['parameterName']\n",
    "        weather_list.append(city_item)\n",
    "    \n",
    "    return weather_list\n",
    "\n",
    "def save_csv(data):\n",
    "    with open('目前天氣.csv',mode='w',encoding='utf-8',newline='') as file:\n",
    "        fieldnames = ['城市', '啟始時間','結束時間','最高溫度','最低溫度','感覺']\n",
    "        writer = csv.DictWriter(file,fieldnames=fieldnames)\n",
    "        writer.writeheader()\n",
    "        writer.writerows(data)\n",
    "\n",
    "def main():\n",
    "    #下載json檔\n",
    "    weather = download_weather()\n",
    "\n",
    "    if weather != False:\n",
    "        print(\"下載完畢\")\n",
    "    else:\n",
    "        print(\"應用程式下載失敗\")\n",
    "        return\n",
    "    \n",
    "    csv_data = parse_json(weather)\n",
    "    save_csv(csv_data)\n",
    "\n",
    "\n",
    "if __name__ == \"__main__\":\n",
    "    main()"
   ]
  },
  {
   "cell_type": "markdown",
   "metadata": {},
   "source": [
    "## 檔案進階操作\n",
    "###  檔案存取與例外處理\n",
    "1. Python 的文件存取是透過 open( ) 方法建立文件物件方式進行存取， 如果文件不存在或讀取存限限制將會產生例外。\n",
    "2. 檔案存取例外為 IOError ，另外有兩個子類別:\n",
    "    - FileNotFoundError，代表 “找不到檔案”。\n",
    "    - PermissionError，代表 “沒有權限存取”。"
   ]
  },
  {
   "cell_type": "markdown",
   "metadata": {},
   "source": [
    "#### 操作範例:請動手操作，並留意輸出結果\n",
    "- file_except1.py"
   ]
  },
  {
   "cell_type": "code",
   "execution_count": null,
   "metadata": {
    "scrolled": true
   },
   "outputs": [],
   "source": [
    "try:\n",
    "    f = open('data.txt', 'r', encoding=\"utf8\") \n",
    "    print(f.read( ))\n",
    "    \n",
    "except FileNotFoundError: \n",
    "    print(\"找不到檔案\")\n",
    "except PermissionError: \n",
    "    print(\"你沒有權限存取\")\n",
    "except IOError: \n",
    "    print(\"其他檔案IO問題\")\n",
    "except: \n",
    "    print(\"其他例外\")\n",
    "    \n",
    "f.close( )"
   ]
  },
  {
   "cell_type": "markdown",
   "metadata": {},
   "source": [
    "###  關於檔案關閉動作\n",
    "1. 檔案開啟後須進行 close( ) 方法進行關閉動作。\n",
    "2. 若檔案沒關閉會造成:\n",
    "    - 開啟的文件物件會占用系統資源。\n",
    "    - Python 可以同時間開啟的文件數量有限制 (約 20 份文件)。\n",
    "    - 開啟文件物件的模式若為寫入 (w 或 a) 模式，一般都是暫存於緩衝區，系統閒置或文件關閉前才會進行寫入，若沒有進行 close( ) 動作可能造成文 件儲存不完整。"
   ]
  },
  {
   "cell_type": "code",
   "execution_count": null,
   "metadata": {
    "scrolled": true
   },
   "outputs": [],
   "source": [
    "# 操作範例:請動手操作，並留意輸出結果\n",
    "import os\n",
    "\n",
    "class tryopenfile:\n",
    "    def openfile(self, filePath):\n",
    "        self.handle = open(filePath, 'w')\n",
    "        self.handle.close()\n",
    "\n",
    "if __name__ == '__main__':\n",
    "    t = tryopenfile( )\n",
    "    filePath = 'test.txt' \n",
    "    t.openfile(filePath) \n",
    "    os.remove(filePath) \n",
    "    print('success')\n"
   ]
  },
  {
   "cell_type": "markdown",
   "metadata": {},
   "source": [
    "### With 方式操作檔案\n",
    "1. 多個檔案存取時若前一個檔案產生 IO 例外，將會造成後面無法進行close( ) 動作。\n",
    "2. 以 with 方式操作檔案:\n",
    "    - 檔案存取仍有可能產生 IO 例外。\n",
    "    - 離開 with 區塊時檔案將會自動進行close( )動作，自動關閉檔案。"
   ]
  },
  {
   "cell_type": "code",
   "execution_count": null,
   "metadata": {
    "scrolled": true
   },
   "outputs": [],
   "source": [
    "# 操作範例 1:請動手操作，並留意輸出結果\n",
    "try:\n",
    "    with open('data.txt', 'r', encoding=\"utf8\") as f:\n",
    "        print(f.read( ))\n",
    "except FileNotFoundError:\n",
    "    print(\"找不到檔案\") \n",
    "except PermissionError:\n",
    "    print(\"你沒有權限存取\")\n",
    "except IOError: \n",
    "    print(\"其他檔案IO問題\")\n",
    "except: \n",
    "    print(\"其他例外\") "
   ]
  },
  {
   "cell_type": "markdown",
   "metadata": {},
   "source": [
    "####  請問以下的問題答案為哪一個?(選擇題)\n",
    "\n",
    "```python\n",
    "關於 with 方式操作檔案的說明，哪一個是錯誤的?\n",
    "```\n",
    "(1) 離開 with 區塊時檔案將會自動進行 close( ) 動作，自動關閉檔案。  \n",
    "(2) 檔案存取仍有可能產生 IO 例外。  \n",
    "(3) 檔案存取不會產生 IO 例外。  "
   ]
  }
 ],
 "metadata": {
  "kernelspec": {
   "display_name": "Python 3",
   "language": "python",
   "name": "python3"
  },
  "language_info": {
   "codemirror_mode": {
    "name": "ipython",
    "version": 3
   },
   "file_extension": ".py",
   "mimetype": "text/x-python",
   "name": "python",
   "nbconvert_exporter": "python",
   "pygments_lexer": "ipython3",
   "version": "3.7.4"
  },
  "pycharm": {
   "stem_cell": {
    "cell_type": "raw",
    "metadata": {
     "collapsed": false
    },
    "source": []
   }
  }
 },
 "nbformat": 4,
 "nbformat_minor": 2
}
